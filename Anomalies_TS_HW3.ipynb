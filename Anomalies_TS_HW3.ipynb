{
  "nbformat": 4,
  "nbformat_minor": 5,
  "metadata": {
    "colab": {
      "name": "Anomalies.TS.HW3.ipynb",
      "provenance": [],
      "collapsed_sections": []
    },
    "kernelspec": {
      "display_name": "Python 3 (ipykernel)",
      "language": "python",
      "name": "python3"
    },
    "language_info": {
      "codemirror_mode": {
        "name": "ipython",
        "version": 3
      },
      "file_extension": ".py",
      "mimetype": "text/x-python",
      "name": "python",
      "nbconvert_exporter": "python",
      "pygments_lexer": "ipython3",
      "version": "3.8.10"
    }
  },
  "cells": [
    {
      "cell_type": "markdown",
      "metadata": {
        "id": "fbda2974"
      },
      "source": [
        "## Статистика + Временные ряды. Задание 3\n",
        "\n",
        "**Правила:**\n",
        "\n",
        "\n",
        "* Выполненную работу нужно отправить [телеграм-боту](https://t.me/miptstats_x5_bot).\n",
        "* Дедлайн **10.11.2021 в 12:00**. После дедлайна работы не принимаются кроме случаев наличия уважительной причины.\n",
        "* Прислать нужно ноутбук в формате `ipynb`.\n",
        "* Теоретическую часть можно оформить в ноутбуке или же прислать боту фотографии\n",
        "* Если вы прикрепляете фотографии к ноутбуку, убедитесь, что они \"вшиты\" туда, а не ссылаются на локальный путь\n",
        "* Решения, размещенные на каких-либо интернет-ресурсах не принимаются. Публикация решения может быть приравнена к предоставлении возможности списать.\n",
        "* Для выполнения задания используйте этот ноутбук в качестве основы, ничего не удаляя из него.\n",
        "* За задание можно получить до **20 баллов**."
      ],
      "id": "fbda2974"
    },
    {
      "cell_type": "code",
      "metadata": {
        "id": "b344ac5d"
      },
      "source": [
        "import matplotlib.pyplot as plt\n",
        "import numpy as np\n",
        "import seaborn as sns"
      ],
      "id": "b344ac5d",
      "execution_count": null,
      "outputs": []
    },
    {
      "cell_type": "markdown",
      "metadata": {
        "id": "81e55a77"
      },
      "source": [
        "### Задача Т1 (2 балла)\n",
        "\n",
        "Даны двумерные точки, их координаты заданы в виде python-списка в коде. Пусть про один из элементов известно, что он является выбросом."
      ],
      "id": "81e55a77"
    },
    {
      "cell_type": "code",
      "metadata": {
        "id": "f1b4cfc0"
      },
      "source": [
        "points = [\n",
        "    [1, 3],\n",
        "    [2, 1],\n",
        "    [3, 2],\n",
        "    [3, 5],\n",
        "    [6, 2],\n",
        "    [9, 7] # выброс\n",
        "]"
      ],
      "id": "f1b4cfc0",
      "execution_count": null,
      "outputs": []
    },
    {
      "cell_type": "code",
      "metadata": {
        "colab": {
          "base_uri": "https://localhost:8080/",
          "height": 320
        },
        "id": "43a9bc65",
        "outputId": "2431f68e-a401-4585-82b6-6211142a9912"
      },
      "source": [
        "points = np.array(points)\n",
        "\n",
        "sns.set_style('darkgrid')\n",
        "plt.figure(figsize=(7, 5))\n",
        "plt.scatter(points[:-1, 0], points[:-1, 1], c='blue', label='Не выбросы')\n",
        "plt.scatter(points[-1:, 0], points[-1:, 1], c='orange', label='Выброс')\n",
        "\n",
        "for i in range(points.shape[0] - 1):\n",
        "    plt.annotate(str(points[i].tolist()), (points[i, 0], points[i, 1] + 0.2))\n",
        "plt.annotate(str(points[-1].tolist()), (points[-1, 0] - 0.6, points[-1, 1] - 0.3))\n",
        "\n",
        "    \n",
        "plt.legend()\n",
        "plt.show()"
      ],
      "id": "43a9bc65",
      "execution_count": null,
      "outputs": [
        {
          "data": {
            "image/png": "[encoded data removed]",
            "text/plain": [
              "<Figure size 504x360 with 1 Axes>"
            ]
          },
          "metadata": {},
          "output_type": "display_data"
        }
      ]
    },
    {
      "cell_type": "markdown",
      "metadata": {
        "id": "fcfe7343"
      },
      "source": [
        "Посчитайте вероятность того, что в дереве Isolation Forest в первом же узле выделенный элемент будет отделён от всех остальных. Вычисления можете произвести в коде. Обоснование обязательно."
      ],
      "id": "fcfe7343"
    },
    {
      "cell_type": "markdown",
      "metadata": {
        "id": "yqgaXv5GBsi6"
      },
      "source": [
        "$$ x_{min} = y_{min} = 1 $$\n",
        "\n",
        "$$ x_{max} = 9 \\\\ y_{max} = 7 $$\n",
        "\n",
        "$$ P = \\frac{1}{2} \\cdot P_x + \\frac{1}{2} \\cdot P_y $$\n",
        "\n",
        "$$ \\frac{1}{2} \\cdot \\frac{9-6}{8} + \\frac{1}{2} \\cdot \\frac{7-5}{6} = \\frac{3}{16} + \\frac{2}{12} = \\frac{9 + 8}{48} = \\frac{17}{48} $$"
      ],
      "id": "yqgaXv5GBsi6"
    },
    {
      "cell_type": "markdown",
      "metadata": {
        "id": "37829b70"
      },
      "source": [
        "Посчитайте вероятность того, что в дереве RRCF в первом же узле выделенный элемент будет отделён от всех остальных. Вычисления можете произвести в коде. Обоснование обязательно."
      ],
      "id": "37829b70"
    },
    {
      "cell_type": "code",
      "metadata": {
        "id": "1f49730a"
      },
      "source": [
        ""
      ],
      "id": "1f49730a",
      "execution_count": null,
      "outputs": []
    },
    {
      "cell_type": "markdown",
      "metadata": {
        "id": "68bc8aea"
      },
      "source": [
        "### Задача Т2 (4 балла)\n",
        "\n",
        "Рассмотрим задачу скорейшего определения разладки. Пусть $\\mathsf{P}_\\infty$ и $\\mathsf{P}_0$ соответствуют нормальным распределениям $\\mathcal{N}(a_\\infty, \\sigma^2)$ и $\\mathcal{N}(a_0, \\sigma^2)$.\n",
        "\n",
        "Для статистики CUSUM выразите $T_n$ через $T_{n - 1}$, $X_n$ и параметры распределений.\n",
        "\n",
        "Для статистики Ширяева-Робертса выразите $\\psi_n$ через $\\psi_{n - 1}$, $X_n$ и параметры распределений.\n",
        "\n",
        "Вычислите $\\mathsf{E}_\\infty \\zeta_n$ и $\\mathsf{E}_0 \\zeta_n$, где $\\zeta_n$ = $\\log\\frac{f_0(X_n)}{f_\\infty(X_n)}$.\n",
        "\n",
        "*Подсказка*: конечные формулы были в презентации."
      ],
      "id": "68bc8aea"
    },
    {
      "cell_type": "markdown",
      "metadata": {
        "id": "0774a92b"
      },
      "source": [
        "### Задача 1 (7 баллов)\n",
        "\n",
        "Одна из важных задач банковских организаций — распознавание мошеннических операций с кредитными картами, например, чтобы клиенты не платили за те операции, которые они не совершают.  \n",
        "\n",
        "**Данные**\n",
        "\n",
        "Скачайте данные https://www.kaggle.com/mlg-ulb/creditcardfraud\n",
        "\n",
        "Набор данных содержит информацию о транзакциях, совершенных европейцами в сентябре 2013 года за два дня. Среди 284 807 транзакций 492 являются мошенническими. Как видно, данные сильно несбалансированы, поскольку неправомерные операции составляют всего 0.172% всех транзакций.  \n",
        "\n",
        "**Признаки**\n",
        "\n",
        "Подчекнем важную особенность данных &mdash; колонки `V1, ..., V28` содержат только вещественные значения, которые являются результатом PCA-трансформации над реальными данными. Реальные данные не предоставлены для выполнения условия конфидицальности клиентов банков. Есть еще 2 признака, которые не были подвергнуты трансформации: `Time` — время в секундах между каждой транзакцией и первой транзакцией в датасете, и `Amount` — количество денег, участвующих в транзакции.\n",
        "\n",
        "**Таргет**\n",
        "\n",
        "`Class` — принимает значение 1 в случае мошенничества, 0 — иначе."
      ],
      "id": "0774a92b"
    },
    {
      "cell_type": "code",
      "metadata": {
        "id": "QlSZFQdxMkIp"
      },
      "source": [
        "import pandas as pd\n",
        "import numpy as np\n",
        "from sklearn.ensemble import IsolationForest\n",
        "from sklearn.metrics import accuracy_score, precision_score, f1_score, roc_auc_score"
      ],
      "id": "QlSZFQdxMkIp",
      "execution_count": null,
      "outputs": []
    },
    {
      "cell_type": "code",
      "metadata": {
        "colab": {
          "base_uri": "https://localhost:8080/"
        },
        "id": "ShpyJK-JMMw7",
        "outputId": "edb16cfa-9430-4040-afa0-c75a0c22df26"
      },
      "source": [
        "from google.colab import drive\n",
        "drive.mount('/content/drive')"
      ],
      "id": "ShpyJK-JMMw7",
      "execution_count": null,
      "outputs": [
        {
          "name": "stdout",
          "output_type": "stream",
          "text": [
            "Mounted at /content/drive\n"
          ]
        }
      ]
    },
    {
      "cell_type": "code",
      "metadata": {
        "colab": {
          "base_uri": "https://localhost:8080/",
          "height": 439
        },
        "id": "9OzcuGjmMgs9",
        "outputId": "eb80d25f-76ec-46dc-8ac3-0ad6741a2df4"
      },
      "source": [
        "df = pd.read_csv(\"/content/drive/MyDrive/data/Anomalies/creditcard.csv\")\n",
        "df"
      ],
      "id": "9OzcuGjmMgs9",
      "execution_count": null,
      "outputs": [
        {
          "data": {
            "text/html": [
              "<div>\n",
              "<style scoped>\n",
              "    .dataframe tbody tr th:only-of-type {\n",
              "        vertical-align: middle;\n",
              "    }\n",
              "\n",
              "    .dataframe tbody tr th {\n",
              "        vertical-align: top;\n",
              "    }\n",
              "\n",
              "    .dataframe thead th {\n",
              "        text-align: right;\n",
              "    }\n",
              "</style>\n",
              "<table border=\"1\" class=\"dataframe\">\n",
              "  <thead>\n",
              "    <tr style=\"text-align: right;\">\n",
              "      <th></th>\n",
              "      <th>Time</th>\n",
              "      <th>V1</th>\n",
              "      <th>V2</th>\n",
              "      <th>V3</th>\n",
              "      <th>V4</th>\n",
              "      <th>V5</th>\n",
              "      <th>V6</th>\n",
              "      <th>V7</th>\n",
              "      <th>V8</th>\n",
              "      <th>V9</th>\n",
              "      <th>V10</th>\n",
              "      <th>V11</th>\n",
              "      <th>V12</th>\n",
              "      <th>V13</th>\n",
              "      <th>V14</th>\n",
              "      <th>V15</th>\n",
              "      <th>V16</th>\n",
              "      <th>V17</th>\n",
              "      <th>V18</th>\n",
              "      <th>V19</th>\n",
              "      <th>V20</th>\n",
              "      <th>V21</th>\n",
              "      <th>V22</th>\n",
              "      <th>V23</th>\n",
              "      <th>V24</th>\n",
              "      <th>V25</th>\n",
              "      <th>V26</th>\n",
              "      <th>V27</th>\n",
              "      <th>V28</th>\n",
              "      <th>Amount</th>\n",
              "      <th>Class</th>\n",
              "    </tr>\n",
              "  </thead>\n",
              "  <tbody>\n",
              "    <tr>\n",
              "      <th>0</th>\n",
              "      <td>0.0</td>\n",
              "      <td>-1.359807</td>\n",
              "      <td>-0.072781</td>\n",
              "      <td>2.536347</td>\n",
              "      <td>1.378155</td>\n",
              "      <td>-0.338321</td>\n",
              "      <td>0.462388</td>\n",
              "      <td>0.239599</td>\n",
              "      <td>0.098698</td>\n",
              "      <td>0.363787</td>\n",
              "      <td>0.090794</td>\n",
              "      <td>-0.551600</td>\n",
              "      <td>-0.617801</td>\n",
              "      <td>-0.991390</td>\n",
              "      <td>-0.311169</td>\n",
              "      <td>1.468177</td>\n",
              "      <td>-0.470401</td>\n",
              "      <td>0.207971</td>\n",
              "      <td>0.025791</td>\n",
              "      <td>0.403993</td>\n",
              "      <td>0.251412</td>\n",
              "      <td>-0.018307</td>\n",
              "      <td>0.277838</td>\n",
              "      <td>-0.110474</td>\n",
              "      <td>0.066928</td>\n",
              "      <td>0.128539</td>\n",
              "      <td>-0.189115</td>\n",
              "      <td>0.133558</td>\n",
              "      <td>-0.021053</td>\n",
              "      <td>149.62</td>\n",
              "      <td>0</td>\n",
              "    </tr>\n",
              "    <tr>\n",
              "      <th>1</th>\n",
              "      <td>0.0</td>\n",
              "      <td>1.191857</td>\n",
              "      <td>0.266151</td>\n",
              "      <td>0.166480</td>\n",
              "      <td>0.448154</td>\n",
              "      <td>0.060018</td>\n",
              "      <td>-0.082361</td>\n",
              "      <td>-0.078803</td>\n",
              "      <td>0.085102</td>\n",
              "      <td>-0.255425</td>\n",
              "      <td>-0.166974</td>\n",
              "      <td>1.612727</td>\n",
              "      <td>1.065235</td>\n",
              "      <td>0.489095</td>\n",
              "      <td>-0.143772</td>\n",
              "      <td>0.635558</td>\n",
              "      <td>0.463917</td>\n",
              "      <td>-0.114805</td>\n",
              "      <td>-0.183361</td>\n",
              "      <td>-0.145783</td>\n",
              "      <td>-0.069083</td>\n",
              "      <td>-0.225775</td>\n",
              "      <td>-0.638672</td>\n",
              "      <td>0.101288</td>\n",
              "      <td>-0.339846</td>\n",
              "      <td>0.167170</td>\n",
              "      <td>0.125895</td>\n",
              "      <td>-0.008983</td>\n",
              "      <td>0.014724</td>\n",
              "      <td>2.69</td>\n",
              "      <td>0</td>\n",
              "    </tr>\n",
              "    <tr>\n",
              "      <th>2</th>\n",
              "      <td>1.0</td>\n",
              "      <td>-1.358354</td>\n",
              "      <td>-1.340163</td>\n",
              "      <td>1.773209</td>\n",
              "      <td>0.379780</td>\n",
              "      <td>-0.503198</td>\n",
              "      <td>1.800499</td>\n",
              "      <td>0.791461</td>\n",
              "      <td>0.247676</td>\n",
              "      <td>-1.514654</td>\n",
              "      <td>0.207643</td>\n",
              "      <td>0.624501</td>\n",
              "      <td>0.066084</td>\n",
              "      <td>0.717293</td>\n",
              "      <td>-0.165946</td>\n",
              "      <td>2.345865</td>\n",
              "      <td>-2.890083</td>\n",
              "      <td>1.109969</td>\n",
              "      <td>-0.121359</td>\n",
              "      <td>-2.261857</td>\n",
              "      <td>0.524980</td>\n",
              "      <td>0.247998</td>\n",
              "      <td>0.771679</td>\n",
              "      <td>0.909412</td>\n",
              "      <td>-0.689281</td>\n",
              "      <td>-0.327642</td>\n",
              "      <td>-0.139097</td>\n",
              "      <td>-0.055353</td>\n",
              "      <td>-0.059752</td>\n",
              "      <td>378.66</td>\n",
              "      <td>0</td>\n",
              "    </tr>\n",
              "    <tr>\n",
              "      <th>3</th>\n",
              "      <td>1.0</td>\n",
              "      <td>-0.966272</td>\n",
              "      <td>-0.185226</td>\n",
              "      <td>1.792993</td>\n",
              "      <td>-0.863291</td>\n",
              "      <td>-0.010309</td>\n",
              "      <td>1.247203</td>\n",
              "      <td>0.237609</td>\n",
              "      <td>0.377436</td>\n",
              "      <td>-1.387024</td>\n",
              "      <td>-0.054952</td>\n",
              "      <td>-0.226487</td>\n",
              "      <td>0.178228</td>\n",
              "      <td>0.507757</td>\n",
              "      <td>-0.287924</td>\n",
              "      <td>-0.631418</td>\n",
              "      <td>-1.059647</td>\n",
              "      <td>-0.684093</td>\n",
              "      <td>1.965775</td>\n",
              "      <td>-1.232622</td>\n",
              "      <td>-0.208038</td>\n",
              "      <td>-0.108300</td>\n",
              "      <td>0.005274</td>\n",
              "      <td>-0.190321</td>\n",
              "      <td>-1.175575</td>\n",
              "      <td>0.647376</td>\n",
              "      <td>-0.221929</td>\n",
              "      <td>0.062723</td>\n",
              "      <td>0.061458</td>\n",
              "      <td>123.50</td>\n",
              "      <td>0</td>\n",
              "    </tr>\n",
              "    <tr>\n",
              "      <th>4</th>\n",
              "      <td>2.0</td>\n",
              "      <td>-1.158233</td>\n",
              "      <td>0.877737</td>\n",
              "      <td>1.548718</td>\n",
              "      <td>0.403034</td>\n",
              "      <td>-0.407193</td>\n",
              "      <td>0.095921</td>\n",
              "      <td>0.592941</td>\n",
              "      <td>-0.270533</td>\n",
              "      <td>0.817739</td>\n",
              "      <td>0.753074</td>\n",
              "      <td>-0.822843</td>\n",
              "      <td>0.538196</td>\n",
              "      <td>1.345852</td>\n",
              "      <td>-1.119670</td>\n",
              "      <td>0.175121</td>\n",
              "      <td>-0.451449</td>\n",
              "      <td>-0.237033</td>\n",
              "      <td>-0.038195</td>\n",
              "      <td>0.803487</td>\n",
              "      <td>0.408542</td>\n",
              "      <td>-0.009431</td>\n",
              "      <td>0.798278</td>\n",
              "      <td>-0.137458</td>\n",
              "      <td>0.141267</td>\n",
              "      <td>-0.206010</td>\n",
              "      <td>0.502292</td>\n",
              "      <td>0.219422</td>\n",
              "      <td>0.215153</td>\n",
              "      <td>69.99</td>\n",
              "      <td>0</td>\n",
              "    </tr>\n",
              "    <tr>\n",
              "      <th>...</th>\n",
              "      <td>...</td>\n",
              "      <td>...</td>\n",
              "      <td>...</td>\n",
              "      <td>...</td>\n",
              "      <td>...</td>\n",
              "      <td>...</td>\n",
              "      <td>...</td>\n",
              "      <td>...</td>\n",
              "      <td>...</td>\n",
              "      <td>...</td>\n",
              "      <td>...</td>\n",
              "      <td>...</td>\n",
              "      <td>...</td>\n",
              "      <td>...</td>\n",
              "      <td>...</td>\n",
              "      <td>...</td>\n",
              "      <td>...</td>\n",
              "      <td>...</td>\n",
              "      <td>...</td>\n",
              "      <td>...</td>\n",
              "      <td>...</td>\n",
              "      <td>...</td>\n",
              "      <td>...</td>\n",
              "      <td>...</td>\n",
              "      <td>...</td>\n",
              "      <td>...</td>\n",
              "      <td>...</td>\n",
              "      <td>...</td>\n",
              "      <td>...</td>\n",
              "      <td>...</td>\n",
              "      <td>...</td>\n",
              "    </tr>\n",
              "    <tr>\n",
              "      <th>284802</th>\n",
              "      <td>172786.0</td>\n",
              "      <td>-11.881118</td>\n",
              "      <td>10.071785</td>\n",
              "      <td>-9.834783</td>\n",
              "      <td>-2.066656</td>\n",
              "      <td>-5.364473</td>\n",
              "      <td>-2.606837</td>\n",
              "      <td>-4.918215</td>\n",
              "      <td>7.305334</td>\n",
              "      <td>1.914428</td>\n",
              "      <td>4.356170</td>\n",
              "      <td>-1.593105</td>\n",
              "      <td>2.711941</td>\n",
              "      <td>-0.689256</td>\n",
              "      <td>4.626942</td>\n",
              "      <td>-0.924459</td>\n",
              "      <td>1.107641</td>\n",
              "      <td>1.991691</td>\n",
              "      <td>0.510632</td>\n",
              "      <td>-0.682920</td>\n",
              "      <td>1.475829</td>\n",
              "      <td>0.213454</td>\n",
              "      <td>0.111864</td>\n",
              "      <td>1.014480</td>\n",
              "      <td>-0.509348</td>\n",
              "      <td>1.436807</td>\n",
              "      <td>0.250034</td>\n",
              "      <td>0.943651</td>\n",
              "      <td>0.823731</td>\n",
              "      <td>0.77</td>\n",
              "      <td>0</td>\n",
              "    </tr>\n",
              "    <tr>\n",
              "      <th>284803</th>\n",
              "      <td>172787.0</td>\n",
              "      <td>-0.732789</td>\n",
              "      <td>-0.055080</td>\n",
              "      <td>2.035030</td>\n",
              "      <td>-0.738589</td>\n",
              "      <td>0.868229</td>\n",
              "      <td>1.058415</td>\n",
              "      <td>0.024330</td>\n",
              "      <td>0.294869</td>\n",
              "      <td>0.584800</td>\n",
              "      <td>-0.975926</td>\n",
              "      <td>-0.150189</td>\n",
              "      <td>0.915802</td>\n",
              "      <td>1.214756</td>\n",
              "      <td>-0.675143</td>\n",
              "      <td>1.164931</td>\n",
              "      <td>-0.711757</td>\n",
              "      <td>-0.025693</td>\n",
              "      <td>-1.221179</td>\n",
              "      <td>-1.545556</td>\n",
              "      <td>0.059616</td>\n",
              "      <td>0.214205</td>\n",
              "      <td>0.924384</td>\n",
              "      <td>0.012463</td>\n",
              "      <td>-1.016226</td>\n",
              "      <td>-0.606624</td>\n",
              "      <td>-0.395255</td>\n",
              "      <td>0.068472</td>\n",
              "      <td>-0.053527</td>\n",
              "      <td>24.79</td>\n",
              "      <td>0</td>\n",
              "    </tr>\n",
              "    <tr>\n",
              "      <th>284804</th>\n",
              "      <td>172788.0</td>\n",
              "      <td>1.919565</td>\n",
              "      <td>-0.301254</td>\n",
              "      <td>-3.249640</td>\n",
              "      <td>-0.557828</td>\n",
              "      <td>2.630515</td>\n",
              "      <td>3.031260</td>\n",
              "      <td>-0.296827</td>\n",
              "      <td>0.708417</td>\n",
              "      <td>0.432454</td>\n",
              "      <td>-0.484782</td>\n",
              "      <td>0.411614</td>\n",
              "      <td>0.063119</td>\n",
              "      <td>-0.183699</td>\n",
              "      <td>-0.510602</td>\n",
              "      <td>1.329284</td>\n",
              "      <td>0.140716</td>\n",
              "      <td>0.313502</td>\n",
              "      <td>0.395652</td>\n",
              "      <td>-0.577252</td>\n",
              "      <td>0.001396</td>\n",
              "      <td>0.232045</td>\n",
              "      <td>0.578229</td>\n",
              "      <td>-0.037501</td>\n",
              "      <td>0.640134</td>\n",
              "      <td>0.265745</td>\n",
              "      <td>-0.087371</td>\n",
              "      <td>0.004455</td>\n",
              "      <td>-0.026561</td>\n",
              "      <td>67.88</td>\n",
              "      <td>0</td>\n",
              "    </tr>\n",
              "    <tr>\n",
              "      <th>284805</th>\n",
              "      <td>172788.0</td>\n",
              "      <td>-0.240440</td>\n",
              "      <td>0.530483</td>\n",
              "      <td>0.702510</td>\n",
              "      <td>0.689799</td>\n",
              "      <td>-0.377961</td>\n",
              "      <td>0.623708</td>\n",
              "      <td>-0.686180</td>\n",
              "      <td>0.679145</td>\n",
              "      <td>0.392087</td>\n",
              "      <td>-0.399126</td>\n",
              "      <td>-1.933849</td>\n",
              "      <td>-0.962886</td>\n",
              "      <td>-1.042082</td>\n",
              "      <td>0.449624</td>\n",
              "      <td>1.962563</td>\n",
              "      <td>-0.608577</td>\n",
              "      <td>0.509928</td>\n",
              "      <td>1.113981</td>\n",
              "      <td>2.897849</td>\n",
              "      <td>0.127434</td>\n",
              "      <td>0.265245</td>\n",
              "      <td>0.800049</td>\n",
              "      <td>-0.163298</td>\n",
              "      <td>0.123205</td>\n",
              "      <td>-0.569159</td>\n",
              "      <td>0.546668</td>\n",
              "      <td>0.108821</td>\n",
              "      <td>0.104533</td>\n",
              "      <td>10.00</td>\n",
              "      <td>0</td>\n",
              "    </tr>\n",
              "    <tr>\n",
              "      <th>284806</th>\n",
              "      <td>172792.0</td>\n",
              "      <td>-0.533413</td>\n",
              "      <td>-0.189733</td>\n",
              "      <td>0.703337</td>\n",
              "      <td>-0.506271</td>\n",
              "      <td>-0.012546</td>\n",
              "      <td>-0.649617</td>\n",
              "      <td>1.577006</td>\n",
              "      <td>-0.414650</td>\n",
              "      <td>0.486180</td>\n",
              "      <td>-0.915427</td>\n",
              "      <td>-1.040458</td>\n",
              "      <td>-0.031513</td>\n",
              "      <td>-0.188093</td>\n",
              "      <td>-0.084316</td>\n",
              "      <td>0.041333</td>\n",
              "      <td>-0.302620</td>\n",
              "      <td>-0.660377</td>\n",
              "      <td>0.167430</td>\n",
              "      <td>-0.256117</td>\n",
              "      <td>0.382948</td>\n",
              "      <td>0.261057</td>\n",
              "      <td>0.643078</td>\n",
              "      <td>0.376777</td>\n",
              "      <td>0.008797</td>\n",
              "      <td>-0.473649</td>\n",
              "      <td>-0.818267</td>\n",
              "      <td>-0.002415</td>\n",
              "      <td>0.013649</td>\n",
              "      <td>217.00</td>\n",
              "      <td>0</td>\n",
              "    </tr>\n",
              "  </tbody>\n",
              "</table>\n",
              "<p>284807 rows × 31 columns</p>\n",
              "</div>"
            ],
            "text/plain": [
              "            Time         V1         V2  ...       V28  Amount  Class\n",
              "0            0.0  -1.359807  -0.072781  ... -0.021053  149.62      0\n",
              "1            0.0   1.191857   0.266151  ...  0.014724    2.69      0\n",
              "2            1.0  -1.358354  -1.340163  ... -0.059752  378.66      0\n",
              "3            1.0  -0.966272  -0.185226  ...  0.061458  123.50      0\n",
              "4            2.0  -1.158233   0.877737  ...  0.215153   69.99      0\n",
              "...          ...        ...        ...  ...       ...     ...    ...\n",
              "284802  172786.0 -11.881118  10.071785  ...  0.823731    0.77      0\n",
              "284803  172787.0  -0.732789  -0.055080  ... -0.053527   24.79      0\n",
              "284804  172788.0   1.919565  -0.301254  ... -0.026561   67.88      0\n",
              "284805  172788.0  -0.240440   0.530483  ...  0.104533   10.00      0\n",
              "284806  172792.0  -0.533413  -0.189733  ...  0.013649  217.00      0\n",
              "\n",
              "[284807 rows x 31 columns]"
            ]
          },
          "execution_count": 6,
          "metadata": {},
          "output_type": "execute_result"
        }
      ]
    },
    {
      "cell_type": "markdown",
      "metadata": {
        "id": "d398065b"
      },
      "source": [
        "#### Ситуация 1: анализ полученных данных  \n",
        "\n",
        "Предположим, нам не известно то, какие операции являются мошенническими.\n",
        "\n",
        "Примените изученные методы детектирования *выбросов* для поиска мошеннических операций. Параметр `contamination` можете ограничить значениями 0.001 и 0.005. Тщательного подбора гиперпарметров не требуется. \n",
        "\n",
        "Не забудьте произвести нормализацию признаков. Используйте `RobustScaler` из `sklearn`, поскольку, возможно не все операции, которые отмечены как не мошеннические, действительно легальные. Поясните почему нормализация необходима."
      ],
      "id": "d398065b"
    },
    {
      "cell_type": "code",
      "metadata": {
        "id": "15e50fba"
      },
      "source": [
        "from sklearn.ensemble import IsolationForest\n",
        "from sklearn.preprocessing import RobustScaler"
      ],
      "id": "15e50fba",
      "execution_count": null,
      "outputs": []
    },
    {
      "cell_type": "markdown",
      "metadata": {
        "id": "15f276e8"
      },
      "source": [
        "Для оценки качества каждого метода посчитайте значения нескольких метрик качества классификации и запишите значения в таблицу. Поясните, почему вы выбрали эти метрики. "
      ],
      "id": "15f276e8"
    },
    {
      "cell_type": "code",
      "metadata": {
        "id": "TsLzTV-q3TyH"
      },
      "source": [
        "scores = pd.DataFrame(columns=[\"method\", \"roc_auc_score\", \"precision_score\", \"f1_score\"])"
      ],
      "id": "TsLzTV-q3TyH",
      "execution_count": null,
      "outputs": []
    },
    {
      "cell_type": "code",
      "metadata": {
        "id": "oPhyUw1uVD6S"
      },
      "source": [
        "transformer = RobustScaler().fit(df[[\"Amount\"]])\n",
        "X = transformer.transform(df[[\"Amount\"]])"
      ],
      "id": "oPhyUw1uVD6S",
      "execution_count": null,
      "outputs": []
    },
    {
      "cell_type": "code",
      "metadata": {
        "id": "14a7414d"
      },
      "source": [
        "clf = IsolationForest(contamination = \"auto\", n_estimators=200, random_state=10).fit(X)\n",
        "pred_IF = clf.predict(X)"
      ],
      "id": "14a7414d",
      "execution_count": null,
      "outputs": []
    },
    {
      "cell_type": "code",
      "metadata": {
        "colab": {
          "base_uri": "https://localhost:8080/"
        },
        "id": "Zr409U3qTOPj",
        "outputId": "aa8b569f-d408-40ac-82dc-653c01e2d8fb"
      },
      "source": [
        "pred_IF = np.where(pred_IF == 1, 0, pred_IF)\n",
        "pred_IF = np.where(pred_IF == -1, 1, pred_IF)\n",
        "pred_IF"
      ],
      "id": "Zr409U3qTOPj",
      "execution_count": null,
      "outputs": [
        {
          "data": {
            "text/plain": [
              "array([1, 0, 1, ..., 0, 0, 1])"
            ]
          },
          "execution_count": 11,
          "metadata": {},
          "output_type": "execute_result"
        }
      ]
    },
    {
      "cell_type": "code",
      "metadata": {
        "colab": {
          "base_uri": "https://localhost:8080/",
          "height": 80
        },
        "id": "sNNCIfPbS_wJ",
        "outputId": "83511ae6-1fc1-4e07-e833-1791764ad06a"
      },
      "source": [
        "scores.loc[len(scores)] = [\"IsolationForest\", roc_auc_score(df[[\"Class\"]], pred_IF), precision_score(df[\"Class\"], pred_IF), f1_score(df[\"Class\"], pred_IF)]\n",
        "scores"
      ],
      "id": "sNNCIfPbS_wJ",
      "execution_count": null,
      "outputs": [
        {
          "data": {
            "text/html": [
              "<div>\n",
              "<style scoped>\n",
              "    .dataframe tbody tr th:only-of-type {\n",
              "        vertical-align: middle;\n",
              "    }\n",
              "\n",
              "    .dataframe tbody tr th {\n",
              "        vertical-align: top;\n",
              "    }\n",
              "\n",
              "    .dataframe thead th {\n",
              "        text-align: right;\n",
              "    }\n",
              "</style>\n",
              "<table border=\"1\" class=\"dataframe\">\n",
              "  <thead>\n",
              "    <tr style=\"text-align: right;\">\n",
              "      <th></th>\n",
              "      <th>method</th>\n",
              "      <th>roc_auc_score</th>\n",
              "      <th>precision_score</th>\n",
              "      <th>f1_score</th>\n",
              "    </tr>\n",
              "  </thead>\n",
              "  <tbody>\n",
              "    <tr>\n",
              "      <th>0</th>\n",
              "      <td>IsolationForest</td>\n",
              "      <td>0.526547</td>\n",
              "      <td>0.002277</td>\n",
              "      <td>0.004508</td>\n",
              "    </tr>\n",
              "  </tbody>\n",
              "</table>\n",
              "</div>"
            ],
            "text/plain": [
              "            method  roc_auc_score  precision_score  f1_score\n",
              "0  IsolationForest       0.526547         0.002277  0.004508"
            ]
          },
          "execution_count": 12,
          "metadata": {},
          "output_type": "execute_result"
        }
      ]
    },
    {
      "cell_type": "code",
      "metadata": {
        "id": "hDiYnz6vbAVd"
      },
      "source": [
        "\n",
        "from sklearn.neighbors import LocalOutlierFactor\n",
        "lof = LocalOutlierFactor(contamination=0.1, n_neighbors=10)\n",
        "pred_LOF = lof.fit_predict(X)"
      ],
      "id": "hDiYnz6vbAVd",
      "execution_count": null,
      "outputs": []
    },
    {
      "cell_type": "code",
      "metadata": {
        "colab": {
          "base_uri": "https://localhost:8080/"
        },
        "id": "ceHQx643bGIY",
        "outputId": "a23098e7-3494-43c4-ae1f-88ef73d84641"
      },
      "source": [
        "pred_LOF = np.where(pred_LOF == 1, 0, pred_LOF)\n",
        "pred_LOF = np.where(pred_LOF == -1, 1, pred_LOF)\n",
        "pred_LOF"
      ],
      "id": "ceHQx643bGIY",
      "execution_count": null,
      "outputs": [
        {
          "data": {
            "text/plain": [
              "array([1, 0, 1, ..., 0, 0, 0])"
            ]
          },
          "execution_count": 14,
          "metadata": {},
          "output_type": "execute_result"
        }
      ]
    },
    {
      "cell_type": "code",
      "metadata": {
        "colab": {
          "base_uri": "https://localhost:8080/",
          "height": 111
        },
        "id": "60nznCDGbNiW",
        "outputId": "46fe9628-a74b-468a-c74d-a3e2b4dad7a9"
      },
      "source": [
        "scores.loc[len(scores)] = [\"LocalOutlierFactor\", roc_auc_score(df[[\"Class\"]], pred_LOF), precision_score(df[\"Class\"], pred_LOF), f1_score(df[\"Class\"], pred_LOF)]\n",
        "scores"
      ],
      "id": "60nznCDGbNiW",
      "execution_count": null,
      "outputs": [
        {
          "data": {
            "text/html": [
              "<div>\n",
              "<style scoped>\n",
              "    .dataframe tbody tr th:only-of-type {\n",
              "        vertical-align: middle;\n",
              "    }\n",
              "\n",
              "    .dataframe tbody tr th {\n",
              "        vertical-align: top;\n",
              "    }\n",
              "\n",
              "    .dataframe thead th {\n",
              "        text-align: right;\n",
              "    }\n",
              "</style>\n",
              "<table border=\"1\" class=\"dataframe\">\n",
              "  <thead>\n",
              "    <tr style=\"text-align: right;\">\n",
              "      <th></th>\n",
              "      <th>method</th>\n",
              "      <th>roc_auc_score</th>\n",
              "      <th>precision_score</th>\n",
              "      <th>f1_score</th>\n",
              "    </tr>\n",
              "  </thead>\n",
              "  <tbody>\n",
              "    <tr>\n",
              "      <th>0</th>\n",
              "      <td>IsolationForest</td>\n",
              "      <td>0.526547</td>\n",
              "      <td>0.002277</td>\n",
              "      <td>0.004508</td>\n",
              "    </tr>\n",
              "    <tr>\n",
              "      <th>1</th>\n",
              "      <td>LocalOutlierFactor</td>\n",
              "      <td>0.523210</td>\n",
              "      <td>0.002528</td>\n",
              "      <td>0.004970</td>\n",
              "    </tr>\n",
              "  </tbody>\n",
              "</table>\n",
              "</div>"
            ],
            "text/plain": [
              "               method  roc_auc_score  precision_score  f1_score\n",
              "0     IsolationForest       0.526547         0.002277  0.004508\n",
              "1  LocalOutlierFactor       0.523210         0.002528  0.004970"
            ]
          },
          "execution_count": 15,
          "metadata": {},
          "output_type": "execute_result"
        }
      ]
    },
    {
      "cell_type": "code",
      "metadata": {
        "id": "q4al7exbmvq9"
      },
      "source": [
        "from sklearn.cluster import DBSCAN"
      ],
      "id": "q4al7exbmvq9",
      "execution_count": null,
      "outputs": []
    },
    {
      "cell_type": "code",
      "metadata": {
        "id": "uNa4Og7AikFr"
      },
      "source": [
        "# db = DBSCAN(eps=2, min_samples=10)\n",
        "# preds = db.fit_predict(X)\n",
        "#Работает очень медленно !!!"
      ],
      "id": "uNa4Og7AikFr",
      "execution_count": null,
      "outputs": []
    },
    {
      "cell_type": "markdown",
      "metadata": {
        "id": "2c5389b6"
      },
      "source": [
        "Сделайте выводы."
      ],
      "id": "2c5389b6"
    },
    {
      "cell_type": "markdown",
      "metadata": {
        "id": "5380bc02"
      },
      "source": [
        "В качестве метрик были выбраны roc_auc, f1_score и precision_score, так как классы сильно несбалансированы. Наилучший результат показал LocalOutlierFactor. Выбросы имеют существенно меньшую плотность, чем её соседи. Путём сравнения локальной плотности объекта с локальной плотностью его соседей LocalOutlierFactor выделяет такие точки"
      ],
      "id": "5380bc02"
    },
    {
      "cell_type": "markdown",
      "metadata": {
        "id": "5b56bdcd"
      },
      "source": [
        "#### Ситуация 2: построение модели распознавания новых мошеннических схем \n",
        "Теперь рассмотрим методы детектирования новизны.  \n",
        "\n",
        "Разделите выборку на две части следующим образом:  \n",
        "* в первой части данных 50000 легальных транзакций, мошеннических нет, это будет трейн;  \n",
        "* во второй части данных все остальные данные, это будет тест.\n",
        "\n",
        "*Внимание.* Нельзя использовать мошеннические операции при обучении или выборе модели. Этих данных нет при построении модели, они появятся потом. Когда они появятся, ваша модель должна быть уже готова их задетектировать."
      ],
      "id": "5b56bdcd"
    },
    {
      "cell_type": "markdown",
      "metadata": {
        "id": "5036697f"
      },
      "source": [
        "Нормализуйте данные по трейну. Используйте `RobustScaler` из `sklearn`, поскольку, возможно не все операции, которые отмечены как не мошеннические, действительно легальные."
      ],
      "id": "5036697f"
    },
    {
      "cell_type": "code",
      "metadata": {
        "colab": {
          "base_uri": "https://localhost:8080/",
          "height": 439
        },
        "id": "825cad60",
        "outputId": "fc1e0336-00a1-4749-c94f-c8a2678711b1"
      },
      "source": [
        "df = pd.read_csv(\"/content/drive/MyDrive/data/Anomalies/creditcard.csv\")\n",
        "df"
      ],
      "id": "825cad60",
      "execution_count": null,
      "outputs": [
        {
          "data": {
            "text/html": [
              "<div>\n",
              "<style scoped>\n",
              "    .dataframe tbody tr th:only-of-type {\n",
              "        vertical-align: middle;\n",
              "    }\n",
              "\n",
              "    .dataframe tbody tr th {\n",
              "        vertical-align: top;\n",
              "    }\n",
              "\n",
              "    .dataframe thead th {\n",
              "        text-align: right;\n",
              "    }\n",
              "</style>\n",
              "<table border=\"1\" class=\"dataframe\">\n",
              "  <thead>\n",
              "    <tr style=\"text-align: right;\">\n",
              "      <th></th>\n",
              "      <th>Time</th>\n",
              "      <th>V1</th>\n",
              "      <th>V2</th>\n",
              "      <th>V3</th>\n",
              "      <th>V4</th>\n",
              "      <th>V5</th>\n",
              "      <th>V6</th>\n",
              "      <th>V7</th>\n",
              "      <th>V8</th>\n",
              "      <th>V9</th>\n",
              "      <th>V10</th>\n",
              "      <th>V11</th>\n",
              "      <th>V12</th>\n",
              "      <th>V13</th>\n",
              "      <th>V14</th>\n",
              "      <th>V15</th>\n",
              "      <th>V16</th>\n",
              "      <th>V17</th>\n",
              "      <th>V18</th>\n",
              "      <th>V19</th>\n",
              "      <th>V20</th>\n",
              "      <th>V21</th>\n",
              "      <th>V22</th>\n",
              "      <th>V23</th>\n",
              "      <th>V24</th>\n",
              "      <th>V25</th>\n",
              "      <th>V26</th>\n",
              "      <th>V27</th>\n",
              "      <th>V28</th>\n",
              "      <th>Amount</th>\n",
              "      <th>Class</th>\n",
              "    </tr>\n",
              "  </thead>\n",
              "  <tbody>\n",
              "    <tr>\n",
              "      <th>0</th>\n",
              "      <td>0.0</td>\n",
              "      <td>-1.359807</td>\n",
              "      <td>-0.072781</td>\n",
              "      <td>2.536347</td>\n",
              "      <td>1.378155</td>\n",
              "      <td>-0.338321</td>\n",
              "      <td>0.462388</td>\n",
              "      <td>0.239599</td>\n",
              "      <td>0.098698</td>\n",
              "      <td>0.363787</td>\n",
              "      <td>0.090794</td>\n",
              "      <td>-0.551600</td>\n",
              "      <td>-0.617801</td>\n",
              "      <td>-0.991390</td>\n",
              "      <td>-0.311169</td>\n",
              "      <td>1.468177</td>\n",
              "      <td>-0.470401</td>\n",
              "      <td>0.207971</td>\n",
              "      <td>0.025791</td>\n",
              "      <td>0.403993</td>\n",
              "      <td>0.251412</td>\n",
              "      <td>-0.018307</td>\n",
              "      <td>0.277838</td>\n",
              "      <td>-0.110474</td>\n",
              "      <td>0.066928</td>\n",
              "      <td>0.128539</td>\n",
              "      <td>-0.189115</td>\n",
              "      <td>0.133558</td>\n",
              "      <td>-0.021053</td>\n",
              "      <td>149.62</td>\n",
              "      <td>0</td>\n",
              "    </tr>\n",
              "    <tr>\n",
              "      <th>1</th>\n",
              "      <td>0.0</td>\n",
              "      <td>1.191857</td>\n",
              "      <td>0.266151</td>\n",
              "      <td>0.166480</td>\n",
              "      <td>0.448154</td>\n",
              "      <td>0.060018</td>\n",
              "      <td>-0.082361</td>\n",
              "      <td>-0.078803</td>\n",
              "      <td>0.085102</td>\n",
              "      <td>-0.255425</td>\n",
              "      <td>-0.166974</td>\n",
              "      <td>1.612727</td>\n",
              "      <td>1.065235</td>\n",
              "      <td>0.489095</td>\n",
              "      <td>-0.143772</td>\n",
              "      <td>0.635558</td>\n",
              "      <td>0.463917</td>\n",
              "      <td>-0.114805</td>\n",
              "      <td>-0.183361</td>\n",
              "      <td>-0.145783</td>\n",
              "      <td>-0.069083</td>\n",
              "      <td>-0.225775</td>\n",
              "      <td>-0.638672</td>\n",
              "      <td>0.101288</td>\n",
              "      <td>-0.339846</td>\n",
              "      <td>0.167170</td>\n",
              "      <td>0.125895</td>\n",
              "      <td>-0.008983</td>\n",
              "      <td>0.014724</td>\n",
              "      <td>2.69</td>\n",
              "      <td>0</td>\n",
              "    </tr>\n",
              "    <tr>\n",
              "      <th>2</th>\n",
              "      <td>1.0</td>\n",
              "      <td>-1.358354</td>\n",
              "      <td>-1.340163</td>\n",
              "      <td>1.773209</td>\n",
              "      <td>0.379780</td>\n",
              "      <td>-0.503198</td>\n",
              "      <td>1.800499</td>\n",
              "      <td>0.791461</td>\n",
              "      <td>0.247676</td>\n",
              "      <td>-1.514654</td>\n",
              "      <td>0.207643</td>\n",
              "      <td>0.624501</td>\n",
              "      <td>0.066084</td>\n",
              "      <td>0.717293</td>\n",
              "      <td>-0.165946</td>\n",
              "      <td>2.345865</td>\n",
              "      <td>-2.890083</td>\n",
              "      <td>1.109969</td>\n",
              "      <td>-0.121359</td>\n",
              "      <td>-2.261857</td>\n",
              "      <td>0.524980</td>\n",
              "      <td>0.247998</td>\n",
              "      <td>0.771679</td>\n",
              "      <td>0.909412</td>\n",
              "      <td>-0.689281</td>\n",
              "      <td>-0.327642</td>\n",
              "      <td>-0.139097</td>\n",
              "      <td>-0.055353</td>\n",
              "      <td>-0.059752</td>\n",
              "      <td>378.66</td>\n",
              "      <td>0</td>\n",
              "    </tr>\n",
              "    <tr>\n",
              "      <th>3</th>\n",
              "      <td>1.0</td>\n",
              "      <td>-0.966272</td>\n",
              "      <td>-0.185226</td>\n",
              "      <td>1.792993</td>\n",
              "      <td>-0.863291</td>\n",
              "      <td>-0.010309</td>\n",
              "      <td>1.247203</td>\n",
              "      <td>0.237609</td>\n",
              "      <td>0.377436</td>\n",
              "      <td>-1.387024</td>\n",
              "      <td>-0.054952</td>\n",
              "      <td>-0.226487</td>\n",
              "      <td>0.178228</td>\n",
              "      <td>0.507757</td>\n",
              "      <td>-0.287924</td>\n",
              "      <td>-0.631418</td>\n",
              "      <td>-1.059647</td>\n",
              "      <td>-0.684093</td>\n",
              "      <td>1.965775</td>\n",
              "      <td>-1.232622</td>\n",
              "      <td>-0.208038</td>\n",
              "      <td>-0.108300</td>\n",
              "      <td>0.005274</td>\n",
              "      <td>-0.190321</td>\n",
              "      <td>-1.175575</td>\n",
              "      <td>0.647376</td>\n",
              "      <td>-0.221929</td>\n",
              "      <td>0.062723</td>\n",
              "      <td>0.061458</td>\n",
              "      <td>123.50</td>\n",
              "      <td>0</td>\n",
              "    </tr>\n",
              "    <tr>\n",
              "      <th>4</th>\n",
              "      <td>2.0</td>\n",
              "      <td>-1.158233</td>\n",
              "      <td>0.877737</td>\n",
              "      <td>1.548718</td>\n",
              "      <td>0.403034</td>\n",
              "      <td>-0.407193</td>\n",
              "      <td>0.095921</td>\n",
              "      <td>0.592941</td>\n",
              "      <td>-0.270533</td>\n",
              "      <td>0.817739</td>\n",
              "      <td>0.753074</td>\n",
              "      <td>-0.822843</td>\n",
              "      <td>0.538196</td>\n",
              "      <td>1.345852</td>\n",
              "      <td>-1.119670</td>\n",
              "      <td>0.175121</td>\n",
              "      <td>-0.451449</td>\n",
              "      <td>-0.237033</td>\n",
              "      <td>-0.038195</td>\n",
              "      <td>0.803487</td>\n",
              "      <td>0.408542</td>\n",
              "      <td>-0.009431</td>\n",
              "      <td>0.798278</td>\n",
              "      <td>-0.137458</td>\n",
              "      <td>0.141267</td>\n",
              "      <td>-0.206010</td>\n",
              "      <td>0.502292</td>\n",
              "      <td>0.219422</td>\n",
              "      <td>0.215153</td>\n",
              "      <td>69.99</td>\n",
              "      <td>0</td>\n",
              "    </tr>\n",
              "    <tr>\n",
              "      <th>...</th>\n",
              "      <td>...</td>\n",
              "      <td>...</td>\n",
              "      <td>...</td>\n",
              "      <td>...</td>\n",
              "      <td>...</td>\n",
              "      <td>...</td>\n",
              "      <td>...</td>\n",
              "      <td>...</td>\n",
              "      <td>...</td>\n",
              "      <td>...</td>\n",
              "      <td>...</td>\n",
              "      <td>...</td>\n",
              "      <td>...</td>\n",
              "      <td>...</td>\n",
              "      <td>...</td>\n",
              "      <td>...</td>\n",
              "      <td>...</td>\n",
              "      <td>...</td>\n",
              "      <td>...</td>\n",
              "      <td>...</td>\n",
              "      <td>...</td>\n",
              "      <td>...</td>\n",
              "      <td>...</td>\n",
              "      <td>...</td>\n",
              "      <td>...</td>\n",
              "      <td>...</td>\n",
              "      <td>...</td>\n",
              "      <td>...</td>\n",
              "      <td>...</td>\n",
              "      <td>...</td>\n",
              "      <td>...</td>\n",
              "    </tr>\n",
              "    <tr>\n",
              "      <th>284802</th>\n",
              "      <td>172786.0</td>\n",
              "      <td>-11.881118</td>\n",
              "      <td>10.071785</td>\n",
              "      <td>-9.834783</td>\n",
              "      <td>-2.066656</td>\n",
              "      <td>-5.364473</td>\n",
              "      <td>-2.606837</td>\n",
              "      <td>-4.918215</td>\n",
              "      <td>7.305334</td>\n",
              "      <td>1.914428</td>\n",
              "      <td>4.356170</td>\n",
              "      <td>-1.593105</td>\n",
              "      <td>2.711941</td>\n",
              "      <td>-0.689256</td>\n",
              "      <td>4.626942</td>\n",
              "      <td>-0.924459</td>\n",
              "      <td>1.107641</td>\n",
              "      <td>1.991691</td>\n",
              "      <td>0.510632</td>\n",
              "      <td>-0.682920</td>\n",
              "      <td>1.475829</td>\n",
              "      <td>0.213454</td>\n",
              "      <td>0.111864</td>\n",
              "      <td>1.014480</td>\n",
              "      <td>-0.509348</td>\n",
              "      <td>1.436807</td>\n",
              "      <td>0.250034</td>\n",
              "      <td>0.943651</td>\n",
              "      <td>0.823731</td>\n",
              "      <td>0.77</td>\n",
              "      <td>0</td>\n",
              "    </tr>\n",
              "    <tr>\n",
              "      <th>284803</th>\n",
              "      <td>172787.0</td>\n",
              "      <td>-0.732789</td>\n",
              "      <td>-0.055080</td>\n",
              "      <td>2.035030</td>\n",
              "      <td>-0.738589</td>\n",
              "      <td>0.868229</td>\n",
              "      <td>1.058415</td>\n",
              "      <td>0.024330</td>\n",
              "      <td>0.294869</td>\n",
              "      <td>0.584800</td>\n",
              "      <td>-0.975926</td>\n",
              "      <td>-0.150189</td>\n",
              "      <td>0.915802</td>\n",
              "      <td>1.214756</td>\n",
              "      <td>-0.675143</td>\n",
              "      <td>1.164931</td>\n",
              "      <td>-0.711757</td>\n",
              "      <td>-0.025693</td>\n",
              "      <td>-1.221179</td>\n",
              "      <td>-1.545556</td>\n",
              "      <td>0.059616</td>\n",
              "      <td>0.214205</td>\n",
              "      <td>0.924384</td>\n",
              "      <td>0.012463</td>\n",
              "      <td>-1.016226</td>\n",
              "      <td>-0.606624</td>\n",
              "      <td>-0.395255</td>\n",
              "      <td>0.068472</td>\n",
              "      <td>-0.053527</td>\n",
              "      <td>24.79</td>\n",
              "      <td>0</td>\n",
              "    </tr>\n",
              "    <tr>\n",
              "      <th>284804</th>\n",
              "      <td>172788.0</td>\n",
              "      <td>1.919565</td>\n",
              "      <td>-0.301254</td>\n",
              "      <td>-3.249640</td>\n",
              "      <td>-0.557828</td>\n",
              "      <td>2.630515</td>\n",
              "      <td>3.031260</td>\n",
              "      <td>-0.296827</td>\n",
              "      <td>0.708417</td>\n",
              "      <td>0.432454</td>\n",
              "      <td>-0.484782</td>\n",
              "      <td>0.411614</td>\n",
              "      <td>0.063119</td>\n",
              "      <td>-0.183699</td>\n",
              "      <td>-0.510602</td>\n",
              "      <td>1.329284</td>\n",
              "      <td>0.140716</td>\n",
              "      <td>0.313502</td>\n",
              "      <td>0.395652</td>\n",
              "      <td>-0.577252</td>\n",
              "      <td>0.001396</td>\n",
              "      <td>0.232045</td>\n",
              "      <td>0.578229</td>\n",
              "      <td>-0.037501</td>\n",
              "      <td>0.640134</td>\n",
              "      <td>0.265745</td>\n",
              "      <td>-0.087371</td>\n",
              "      <td>0.004455</td>\n",
              "      <td>-0.026561</td>\n",
              "      <td>67.88</td>\n",
              "      <td>0</td>\n",
              "    </tr>\n",
              "    <tr>\n",
              "      <th>284805</th>\n",
              "      <td>172788.0</td>\n",
              "      <td>-0.240440</td>\n",
              "      <td>0.530483</td>\n",
              "      <td>0.702510</td>\n",
              "      <td>0.689799</td>\n",
              "      <td>-0.377961</td>\n",
              "      <td>0.623708</td>\n",
              "      <td>-0.686180</td>\n",
              "      <td>0.679145</td>\n",
              "      <td>0.392087</td>\n",
              "      <td>-0.399126</td>\n",
              "      <td>-1.933849</td>\n",
              "      <td>-0.962886</td>\n",
              "      <td>-1.042082</td>\n",
              "      <td>0.449624</td>\n",
              "      <td>1.962563</td>\n",
              "      <td>-0.608577</td>\n",
              "      <td>0.509928</td>\n",
              "      <td>1.113981</td>\n",
              "      <td>2.897849</td>\n",
              "      <td>0.127434</td>\n",
              "      <td>0.265245</td>\n",
              "      <td>0.800049</td>\n",
              "      <td>-0.163298</td>\n",
              "      <td>0.123205</td>\n",
              "      <td>-0.569159</td>\n",
              "      <td>0.546668</td>\n",
              "      <td>0.108821</td>\n",
              "      <td>0.104533</td>\n",
              "      <td>10.00</td>\n",
              "      <td>0</td>\n",
              "    </tr>\n",
              "    <tr>\n",
              "      <th>284806</th>\n",
              "      <td>172792.0</td>\n",
              "      <td>-0.533413</td>\n",
              "      <td>-0.189733</td>\n",
              "      <td>0.703337</td>\n",
              "      <td>-0.506271</td>\n",
              "      <td>-0.012546</td>\n",
              "      <td>-0.649617</td>\n",
              "      <td>1.577006</td>\n",
              "      <td>-0.414650</td>\n",
              "      <td>0.486180</td>\n",
              "      <td>-0.915427</td>\n",
              "      <td>-1.040458</td>\n",
              "      <td>-0.031513</td>\n",
              "      <td>-0.188093</td>\n",
              "      <td>-0.084316</td>\n",
              "      <td>0.041333</td>\n",
              "      <td>-0.302620</td>\n",
              "      <td>-0.660377</td>\n",
              "      <td>0.167430</td>\n",
              "      <td>-0.256117</td>\n",
              "      <td>0.382948</td>\n",
              "      <td>0.261057</td>\n",
              "      <td>0.643078</td>\n",
              "      <td>0.376777</td>\n",
              "      <td>0.008797</td>\n",
              "      <td>-0.473649</td>\n",
              "      <td>-0.818267</td>\n",
              "      <td>-0.002415</td>\n",
              "      <td>0.013649</td>\n",
              "      <td>217.00</td>\n",
              "      <td>0</td>\n",
              "    </tr>\n",
              "  </tbody>\n",
              "</table>\n",
              "<p>284807 rows × 31 columns</p>\n",
              "</div>"
            ],
            "text/plain": [
              "            Time         V1         V2  ...       V28  Amount  Class\n",
              "0            0.0  -1.359807  -0.072781  ... -0.021053  149.62      0\n",
              "1            0.0   1.191857   0.266151  ...  0.014724    2.69      0\n",
              "2            1.0  -1.358354  -1.340163  ... -0.059752  378.66      0\n",
              "3            1.0  -0.966272  -0.185226  ...  0.061458  123.50      0\n",
              "4            2.0  -1.158233   0.877737  ...  0.215153   69.99      0\n",
              "...          ...        ...        ...  ...       ...     ...    ...\n",
              "284802  172786.0 -11.881118  10.071785  ...  0.823731    0.77      0\n",
              "284803  172787.0  -0.732789  -0.055080  ... -0.053527   24.79      0\n",
              "284804  172788.0   1.919565  -0.301254  ... -0.026561   67.88      0\n",
              "284805  172788.0  -0.240440   0.530483  ...  0.104533   10.00      0\n",
              "284806  172792.0  -0.533413  -0.189733  ...  0.013649  217.00      0\n",
              "\n",
              "[284807 rows x 31 columns]"
            ]
          },
          "execution_count": 18,
          "metadata": {},
          "output_type": "execute_result"
        }
      ]
    },
    {
      "cell_type": "code",
      "metadata": {
        "colab": {
          "base_uri": "https://localhost:8080/",
          "height": 439
        },
        "id": "14taphyWaTDD",
        "outputId": "8ae78bfa-e1e1-4e21-8bde-77fb27c17f8c"
      },
      "source": [
        "df_train = df[df[\"Class\"] == 0].iloc[:50000]\n",
        "df_train"
      ],
      "id": "14taphyWaTDD",
      "execution_count": null,
      "outputs": [
        {
          "data": {
            "text/html": [
              "<div>\n",
              "<style scoped>\n",
              "    .dataframe tbody tr th:only-of-type {\n",
              "        vertical-align: middle;\n",
              "    }\n",
              "\n",
              "    .dataframe tbody tr th {\n",
              "        vertical-align: top;\n",
              "    }\n",
              "\n",
              "    .dataframe thead th {\n",
              "        text-align: right;\n",
              "    }\n",
              "</style>\n",
              "<table border=\"1\" class=\"dataframe\">\n",
              "  <thead>\n",
              "    <tr style=\"text-align: right;\">\n",
              "      <th></th>\n",
              "      <th>Time</th>\n",
              "      <th>V1</th>\n",
              "      <th>V2</th>\n",
              "      <th>V3</th>\n",
              "      <th>V4</th>\n",
              "      <th>V5</th>\n",
              "      <th>V6</th>\n",
              "      <th>V7</th>\n",
              "      <th>V8</th>\n",
              "      <th>V9</th>\n",
              "      <th>V10</th>\n",
              "      <th>V11</th>\n",
              "      <th>V12</th>\n",
              "      <th>V13</th>\n",
              "      <th>V14</th>\n",
              "      <th>V15</th>\n",
              "      <th>V16</th>\n",
              "      <th>V17</th>\n",
              "      <th>V18</th>\n",
              "      <th>V19</th>\n",
              "      <th>V20</th>\n",
              "      <th>V21</th>\n",
              "      <th>V22</th>\n",
              "      <th>V23</th>\n",
              "      <th>V24</th>\n",
              "      <th>V25</th>\n",
              "      <th>V26</th>\n",
              "      <th>V27</th>\n",
              "      <th>V28</th>\n",
              "      <th>Amount</th>\n",
              "      <th>Class</th>\n",
              "    </tr>\n",
              "  </thead>\n",
              "  <tbody>\n",
              "    <tr>\n",
              "      <th>0</th>\n",
              "      <td>0.0</td>\n",
              "      <td>-1.359807</td>\n",
              "      <td>-0.072781</td>\n",
              "      <td>2.536347</td>\n",
              "      <td>1.378155</td>\n",
              "      <td>-0.338321</td>\n",
              "      <td>0.462388</td>\n",
              "      <td>0.239599</td>\n",
              "      <td>0.098698</td>\n",
              "      <td>0.363787</td>\n",
              "      <td>0.090794</td>\n",
              "      <td>-0.551600</td>\n",
              "      <td>-0.617801</td>\n",
              "      <td>-0.991390</td>\n",
              "      <td>-0.311169</td>\n",
              "      <td>1.468177</td>\n",
              "      <td>-0.470401</td>\n",
              "      <td>0.207971</td>\n",
              "      <td>0.025791</td>\n",
              "      <td>0.403993</td>\n",
              "      <td>0.251412</td>\n",
              "      <td>-0.018307</td>\n",
              "      <td>0.277838</td>\n",
              "      <td>-0.110474</td>\n",
              "      <td>0.066928</td>\n",
              "      <td>0.128539</td>\n",
              "      <td>-0.189115</td>\n",
              "      <td>0.133558</td>\n",
              "      <td>-0.021053</td>\n",
              "      <td>149.62</td>\n",
              "      <td>0</td>\n",
              "    </tr>\n",
              "    <tr>\n",
              "      <th>1</th>\n",
              "      <td>0.0</td>\n",
              "      <td>1.191857</td>\n",
              "      <td>0.266151</td>\n",
              "      <td>0.166480</td>\n",
              "      <td>0.448154</td>\n",
              "      <td>0.060018</td>\n",
              "      <td>-0.082361</td>\n",
              "      <td>-0.078803</td>\n",
              "      <td>0.085102</td>\n",
              "      <td>-0.255425</td>\n",
              "      <td>-0.166974</td>\n",
              "      <td>1.612727</td>\n",
              "      <td>1.065235</td>\n",
              "      <td>0.489095</td>\n",
              "      <td>-0.143772</td>\n",
              "      <td>0.635558</td>\n",
              "      <td>0.463917</td>\n",
              "      <td>-0.114805</td>\n",
              "      <td>-0.183361</td>\n",
              "      <td>-0.145783</td>\n",
              "      <td>-0.069083</td>\n",
              "      <td>-0.225775</td>\n",
              "      <td>-0.638672</td>\n",
              "      <td>0.101288</td>\n",
              "      <td>-0.339846</td>\n",
              "      <td>0.167170</td>\n",
              "      <td>0.125895</td>\n",
              "      <td>-0.008983</td>\n",
              "      <td>0.014724</td>\n",
              "      <td>2.69</td>\n",
              "      <td>0</td>\n",
              "    </tr>\n",
              "    <tr>\n",
              "      <th>2</th>\n",
              "      <td>1.0</td>\n",
              "      <td>-1.358354</td>\n",
              "      <td>-1.340163</td>\n",
              "      <td>1.773209</td>\n",
              "      <td>0.379780</td>\n",
              "      <td>-0.503198</td>\n",
              "      <td>1.800499</td>\n",
              "      <td>0.791461</td>\n",
              "      <td>0.247676</td>\n",
              "      <td>-1.514654</td>\n",
              "      <td>0.207643</td>\n",
              "      <td>0.624501</td>\n",
              "      <td>0.066084</td>\n",
              "      <td>0.717293</td>\n",
              "      <td>-0.165946</td>\n",
              "      <td>2.345865</td>\n",
              "      <td>-2.890083</td>\n",
              "      <td>1.109969</td>\n",
              "      <td>-0.121359</td>\n",
              "      <td>-2.261857</td>\n",
              "      <td>0.524980</td>\n",
              "      <td>0.247998</td>\n",
              "      <td>0.771679</td>\n",
              "      <td>0.909412</td>\n",
              "      <td>-0.689281</td>\n",
              "      <td>-0.327642</td>\n",
              "      <td>-0.139097</td>\n",
              "      <td>-0.055353</td>\n",
              "      <td>-0.059752</td>\n",
              "      <td>378.66</td>\n",
              "      <td>0</td>\n",
              "    </tr>\n",
              "    <tr>\n",
              "      <th>3</th>\n",
              "      <td>1.0</td>\n",
              "      <td>-0.966272</td>\n",
              "      <td>-0.185226</td>\n",
              "      <td>1.792993</td>\n",
              "      <td>-0.863291</td>\n",
              "      <td>-0.010309</td>\n",
              "      <td>1.247203</td>\n",
              "      <td>0.237609</td>\n",
              "      <td>0.377436</td>\n",
              "      <td>-1.387024</td>\n",
              "      <td>-0.054952</td>\n",
              "      <td>-0.226487</td>\n",
              "      <td>0.178228</td>\n",
              "      <td>0.507757</td>\n",
              "      <td>-0.287924</td>\n",
              "      <td>-0.631418</td>\n",
              "      <td>-1.059647</td>\n",
              "      <td>-0.684093</td>\n",
              "      <td>1.965775</td>\n",
              "      <td>-1.232622</td>\n",
              "      <td>-0.208038</td>\n",
              "      <td>-0.108300</td>\n",
              "      <td>0.005274</td>\n",
              "      <td>-0.190321</td>\n",
              "      <td>-1.175575</td>\n",
              "      <td>0.647376</td>\n",
              "      <td>-0.221929</td>\n",
              "      <td>0.062723</td>\n",
              "      <td>0.061458</td>\n",
              "      <td>123.50</td>\n",
              "      <td>0</td>\n",
              "    </tr>\n",
              "    <tr>\n",
              "      <th>4</th>\n",
              "      <td>2.0</td>\n",
              "      <td>-1.158233</td>\n",
              "      <td>0.877737</td>\n",
              "      <td>1.548718</td>\n",
              "      <td>0.403034</td>\n",
              "      <td>-0.407193</td>\n",
              "      <td>0.095921</td>\n",
              "      <td>0.592941</td>\n",
              "      <td>-0.270533</td>\n",
              "      <td>0.817739</td>\n",
              "      <td>0.753074</td>\n",
              "      <td>-0.822843</td>\n",
              "      <td>0.538196</td>\n",
              "      <td>1.345852</td>\n",
              "      <td>-1.119670</td>\n",
              "      <td>0.175121</td>\n",
              "      <td>-0.451449</td>\n",
              "      <td>-0.237033</td>\n",
              "      <td>-0.038195</td>\n",
              "      <td>0.803487</td>\n",
              "      <td>0.408542</td>\n",
              "      <td>-0.009431</td>\n",
              "      <td>0.798278</td>\n",
              "      <td>-0.137458</td>\n",
              "      <td>0.141267</td>\n",
              "      <td>-0.206010</td>\n",
              "      <td>0.502292</td>\n",
              "      <td>0.219422</td>\n",
              "      <td>0.215153</td>\n",
              "      <td>69.99</td>\n",
              "      <td>0</td>\n",
              "    </tr>\n",
              "    <tr>\n",
              "      <th>...</th>\n",
              "      <td>...</td>\n",
              "      <td>...</td>\n",
              "      <td>...</td>\n",
              "      <td>...</td>\n",
              "      <td>...</td>\n",
              "      <td>...</td>\n",
              "      <td>...</td>\n",
              "      <td>...</td>\n",
              "      <td>...</td>\n",
              "      <td>...</td>\n",
              "      <td>...</td>\n",
              "      <td>...</td>\n",
              "      <td>...</td>\n",
              "      <td>...</td>\n",
              "      <td>...</td>\n",
              "      <td>...</td>\n",
              "      <td>...</td>\n",
              "      <td>...</td>\n",
              "      <td>...</td>\n",
              "      <td>...</td>\n",
              "      <td>...</td>\n",
              "      <td>...</td>\n",
              "      <td>...</td>\n",
              "      <td>...</td>\n",
              "      <td>...</td>\n",
              "      <td>...</td>\n",
              "      <td>...</td>\n",
              "      <td>...</td>\n",
              "      <td>...</td>\n",
              "      <td>...</td>\n",
              "      <td>...</td>\n",
              "    </tr>\n",
              "    <tr>\n",
              "      <th>50143</th>\n",
              "      <td>44365.0</td>\n",
              "      <td>-3.224746</td>\n",
              "      <td>-2.998191</td>\n",
              "      <td>1.057410</td>\n",
              "      <td>-0.383791</td>\n",
              "      <td>2.371251</td>\n",
              "      <td>-2.555248</td>\n",
              "      <td>-0.466743</td>\n",
              "      <td>-0.174468</td>\n",
              "      <td>-1.663722</td>\n",
              "      <td>0.310368</td>\n",
              "      <td>-0.105223</td>\n",
              "      <td>0.325527</td>\n",
              "      <td>0.972438</td>\n",
              "      <td>0.123689</td>\n",
              "      <td>0.202552</td>\n",
              "      <td>-1.815308</td>\n",
              "      <td>0.081813</td>\n",
              "      <td>0.280714</td>\n",
              "      <td>-1.861104</td>\n",
              "      <td>-0.198483</td>\n",
              "      <td>-0.177121</td>\n",
              "      <td>-0.357907</td>\n",
              "      <td>0.773016</td>\n",
              "      <td>0.410288</td>\n",
              "      <td>0.454601</td>\n",
              "      <td>0.394950</td>\n",
              "      <td>-0.248317</td>\n",
              "      <td>0.547385</td>\n",
              "      <td>108.29</td>\n",
              "      <td>0</td>\n",
              "    </tr>\n",
              "    <tr>\n",
              "      <th>50144</th>\n",
              "      <td>44366.0</td>\n",
              "      <td>1.256930</td>\n",
              "      <td>1.257145</td>\n",
              "      <td>-2.137242</td>\n",
              "      <td>1.150296</td>\n",
              "      <td>1.858117</td>\n",
              "      <td>-0.227316</td>\n",
              "      <td>0.655016</td>\n",
              "      <td>-0.087353</td>\n",
              "      <td>-0.812141</td>\n",
              "      <td>-1.461720</td>\n",
              "      <td>1.744709</td>\n",
              "      <td>0.529334</td>\n",
              "      <td>1.283521</td>\n",
              "      <td>-3.491245</td>\n",
              "      <td>0.580640</td>\n",
              "      <td>1.275852</td>\n",
              "      <td>2.167172</td>\n",
              "      <td>1.665395</td>\n",
              "      <td>-0.403090</td>\n",
              "      <td>0.070871</td>\n",
              "      <td>-0.205265</td>\n",
              "      <td>-0.423718</td>\n",
              "      <td>-0.375583</td>\n",
              "      <td>-1.631564</td>\n",
              "      <td>0.979428</td>\n",
              "      <td>-0.202036</td>\n",
              "      <td>0.059126</td>\n",
              "      <td>0.072480</td>\n",
              "      <td>1.75</td>\n",
              "      <td>0</td>\n",
              "    </tr>\n",
              "    <tr>\n",
              "      <th>50145</th>\n",
              "      <td>44367.0</td>\n",
              "      <td>1.263956</td>\n",
              "      <td>-1.807915</td>\n",
              "      <td>1.707656</td>\n",
              "      <td>-0.866744</td>\n",
              "      <td>-2.643249</td>\n",
              "      <td>0.367284</td>\n",
              "      <td>-2.061318</td>\n",
              "      <td>0.377801</td>\n",
              "      <td>-0.479473</td>\n",
              "      <td>1.242206</td>\n",
              "      <td>0.332807</td>\n",
              "      <td>-0.129725</td>\n",
              "      <td>-0.739056</td>\n",
              "      <td>-1.139753</td>\n",
              "      <td>-2.131581</td>\n",
              "      <td>-0.758677</td>\n",
              "      <td>1.027305</td>\n",
              "      <td>0.532865</td>\n",
              "      <td>0.429954</td>\n",
              "      <td>-0.327047</td>\n",
              "      <td>-0.137037</td>\n",
              "      <td>0.237708</td>\n",
              "      <td>-0.030778</td>\n",
              "      <td>0.539401</td>\n",
              "      <td>0.261369</td>\n",
              "      <td>-0.076180</td>\n",
              "      <td>0.092854</td>\n",
              "      <td>0.030832</td>\n",
              "      <td>56.00</td>\n",
              "      <td>0</td>\n",
              "    </tr>\n",
              "    <tr>\n",
              "      <th>50146</th>\n",
              "      <td>44367.0</td>\n",
              "      <td>1.199514</td>\n",
              "      <td>0.184541</td>\n",
              "      <td>0.376375</td>\n",
              "      <td>0.641618</td>\n",
              "      <td>-0.569036</td>\n",
              "      <td>-0.906911</td>\n",
              "      <td>-0.132476</td>\n",
              "      <td>0.030489</td>\n",
              "      <td>0.025513</td>\n",
              "      <td>-0.061990</td>\n",
              "      <td>1.514125</td>\n",
              "      <td>0.054502</td>\n",
              "      <td>-1.654750</td>\n",
              "      <td>0.271382</td>\n",
              "      <td>0.571648</td>\n",
              "      <td>0.698132</td>\n",
              "      <td>-0.081580</td>\n",
              "      <td>0.345660</td>\n",
              "      <td>0.026691</td>\n",
              "      <td>-0.190865</td>\n",
              "      <td>-0.243325</td>\n",
              "      <td>-0.823713</td>\n",
              "      <td>0.163949</td>\n",
              "      <td>0.447194</td>\n",
              "      <td>0.099635</td>\n",
              "      <td>0.070345</td>\n",
              "      <td>-0.037963</td>\n",
              "      <td>0.018770</td>\n",
              "      <td>0.89</td>\n",
              "      <td>0</td>\n",
              "    </tr>\n",
              "    <tr>\n",
              "      <th>50147</th>\n",
              "      <td>44368.0</td>\n",
              "      <td>-2.679435</td>\n",
              "      <td>1.266872</td>\n",
              "      <td>0.381161</td>\n",
              "      <td>-0.901030</td>\n",
              "      <td>-1.680438</td>\n",
              "      <td>0.572620</td>\n",
              "      <td>-1.816118</td>\n",
              "      <td>-1.226688</td>\n",
              "      <td>0.181191</td>\n",
              "      <td>-2.176536</td>\n",
              "      <td>-2.438276</td>\n",
              "      <td>0.271722</td>\n",
              "      <td>-0.851106</td>\n",
              "      <td>0.689052</td>\n",
              "      <td>-1.001309</td>\n",
              "      <td>0.937255</td>\n",
              "      <td>0.211911</td>\n",
              "      <td>-0.048554</td>\n",
              "      <td>-0.037796</td>\n",
              "      <td>0.022538</td>\n",
              "      <td>-1.365259</td>\n",
              "      <td>-0.157521</td>\n",
              "      <td>0.033789</td>\n",
              "      <td>-0.417921</td>\n",
              "      <td>-0.115053</td>\n",
              "      <td>0.801854</td>\n",
              "      <td>-0.538183</td>\n",
              "      <td>-0.214316</td>\n",
              "      <td>84.65</td>\n",
              "      <td>0</td>\n",
              "    </tr>\n",
              "  </tbody>\n",
              "</table>\n",
              "<p>50000 rows × 31 columns</p>\n",
              "</div>"
            ],
            "text/plain": [
              "          Time        V1        V2        V3  ...       V27       V28  Amount  Class\n",
              "0          0.0 -1.359807 -0.072781  2.536347  ...  0.133558 -0.021053  149.62      0\n",
              "1          0.0  1.191857  0.266151  0.166480  ... -0.008983  0.014724    2.69      0\n",
              "2          1.0 -1.358354 -1.340163  1.773209  ... -0.055353 -0.059752  378.66      0\n",
              "3          1.0 -0.966272 -0.185226  1.792993  ...  0.062723  0.061458  123.50      0\n",
              "4          2.0 -1.158233  0.877737  1.548718  ...  0.219422  0.215153   69.99      0\n",
              "...        ...       ...       ...       ...  ...       ...       ...     ...    ...\n",
              "50143  44365.0 -3.224746 -2.998191  1.057410  ... -0.248317  0.547385  108.29      0\n",
              "50144  44366.0  1.256930  1.257145 -2.137242  ...  0.059126  0.072480    1.75      0\n",
              "50145  44367.0  1.263956 -1.807915  1.707656  ...  0.092854  0.030832   56.00      0\n",
              "50146  44367.0  1.199514  0.184541  0.376375  ... -0.037963  0.018770    0.89      0\n",
              "50147  44368.0 -2.679435  1.266872  0.381161  ... -0.538183 -0.214316   84.65      0\n",
              "\n",
              "[50000 rows x 31 columns]"
            ]
          },
          "execution_count": 19,
          "metadata": {},
          "output_type": "execute_result"
        }
      ]
    },
    {
      "cell_type": "code",
      "metadata": {
        "colab": {
          "base_uri": "https://localhost:8080/",
          "height": 439
        },
        "id": "0d230ee7",
        "outputId": "9e96ceae-8678-4192-eafb-3ed38fe36425"
      },
      "source": [
        "df_test = df[~df.index.isin(df_train.index)]\n",
        "df_test"
      ],
      "id": "0d230ee7",
      "execution_count": null,
      "outputs": [
        {
          "data": {
            "text/html": [
              "<div>\n",
              "<style scoped>\n",
              "    .dataframe tbody tr th:only-of-type {\n",
              "        vertical-align: middle;\n",
              "    }\n",
              "\n",
              "    .dataframe tbody tr th {\n",
              "        vertical-align: top;\n",
              "    }\n",
              "\n",
              "    .dataframe thead th {\n",
              "        text-align: right;\n",
              "    }\n",
              "</style>\n",
              "<table border=\"1\" class=\"dataframe\">\n",
              "  <thead>\n",
              "    <tr style=\"text-align: right;\">\n",
              "      <th></th>\n",
              "      <th>Time</th>\n",
              "      <th>V1</th>\n",
              "      <th>V2</th>\n",
              "      <th>V3</th>\n",
              "      <th>V4</th>\n",
              "      <th>V5</th>\n",
              "      <th>V6</th>\n",
              "      <th>V7</th>\n",
              "      <th>V8</th>\n",
              "      <th>V9</th>\n",
              "      <th>V10</th>\n",
              "      <th>V11</th>\n",
              "      <th>V12</th>\n",
              "      <th>V13</th>\n",
              "      <th>V14</th>\n",
              "      <th>V15</th>\n",
              "      <th>V16</th>\n",
              "      <th>V17</th>\n",
              "      <th>V18</th>\n",
              "      <th>V19</th>\n",
              "      <th>V20</th>\n",
              "      <th>V21</th>\n",
              "      <th>V22</th>\n",
              "      <th>V23</th>\n",
              "      <th>V24</th>\n",
              "      <th>V25</th>\n",
              "      <th>V26</th>\n",
              "      <th>V27</th>\n",
              "      <th>V28</th>\n",
              "      <th>Amount</th>\n",
              "      <th>Class</th>\n",
              "    </tr>\n",
              "  </thead>\n",
              "  <tbody>\n",
              "    <tr>\n",
              "      <th>541</th>\n",
              "      <td>406.0</td>\n",
              "      <td>-2.312227</td>\n",
              "      <td>1.951992</td>\n",
              "      <td>-1.609851</td>\n",
              "      <td>3.997906</td>\n",
              "      <td>-0.522188</td>\n",
              "      <td>-1.426545</td>\n",
              "      <td>-2.537387</td>\n",
              "      <td>1.391657</td>\n",
              "      <td>-2.770089</td>\n",
              "      <td>-2.772272</td>\n",
              "      <td>3.202033</td>\n",
              "      <td>-2.899907</td>\n",
              "      <td>-0.595222</td>\n",
              "      <td>-4.289254</td>\n",
              "      <td>0.389724</td>\n",
              "      <td>-1.140747</td>\n",
              "      <td>-2.830056</td>\n",
              "      <td>-0.016822</td>\n",
              "      <td>0.416956</td>\n",
              "      <td>0.126911</td>\n",
              "      <td>0.517232</td>\n",
              "      <td>-0.035049</td>\n",
              "      <td>-0.465211</td>\n",
              "      <td>0.320198</td>\n",
              "      <td>0.044519</td>\n",
              "      <td>0.177840</td>\n",
              "      <td>0.261145</td>\n",
              "      <td>-0.143276</td>\n",
              "      <td>0.00</td>\n",
              "      <td>1</td>\n",
              "    </tr>\n",
              "    <tr>\n",
              "      <th>623</th>\n",
              "      <td>472.0</td>\n",
              "      <td>-3.043541</td>\n",
              "      <td>-3.157307</td>\n",
              "      <td>1.088463</td>\n",
              "      <td>2.288644</td>\n",
              "      <td>1.359805</td>\n",
              "      <td>-1.064823</td>\n",
              "      <td>0.325574</td>\n",
              "      <td>-0.067794</td>\n",
              "      <td>-0.270953</td>\n",
              "      <td>-0.838587</td>\n",
              "      <td>-0.414575</td>\n",
              "      <td>-0.503141</td>\n",
              "      <td>0.676502</td>\n",
              "      <td>-1.692029</td>\n",
              "      <td>2.000635</td>\n",
              "      <td>0.666780</td>\n",
              "      <td>0.599717</td>\n",
              "      <td>1.725321</td>\n",
              "      <td>0.283345</td>\n",
              "      <td>2.102339</td>\n",
              "      <td>0.661696</td>\n",
              "      <td>0.435477</td>\n",
              "      <td>1.375966</td>\n",
              "      <td>-0.293803</td>\n",
              "      <td>0.279798</td>\n",
              "      <td>-0.145362</td>\n",
              "      <td>-0.252773</td>\n",
              "      <td>0.035764</td>\n",
              "      <td>529.00</td>\n",
              "      <td>1</td>\n",
              "    </tr>\n",
              "    <tr>\n",
              "      <th>4920</th>\n",
              "      <td>4462.0</td>\n",
              "      <td>-2.303350</td>\n",
              "      <td>1.759247</td>\n",
              "      <td>-0.359745</td>\n",
              "      <td>2.330243</td>\n",
              "      <td>-0.821628</td>\n",
              "      <td>-0.075788</td>\n",
              "      <td>0.562320</td>\n",
              "      <td>-0.399147</td>\n",
              "      <td>-0.238253</td>\n",
              "      <td>-1.525412</td>\n",
              "      <td>2.032912</td>\n",
              "      <td>-6.560124</td>\n",
              "      <td>0.022937</td>\n",
              "      <td>-1.470102</td>\n",
              "      <td>-0.698826</td>\n",
              "      <td>-2.282194</td>\n",
              "      <td>-4.781831</td>\n",
              "      <td>-2.615665</td>\n",
              "      <td>-1.334441</td>\n",
              "      <td>-0.430022</td>\n",
              "      <td>-0.294166</td>\n",
              "      <td>-0.932391</td>\n",
              "      <td>0.172726</td>\n",
              "      <td>-0.087330</td>\n",
              "      <td>-0.156114</td>\n",
              "      <td>-0.542628</td>\n",
              "      <td>0.039566</td>\n",
              "      <td>-0.153029</td>\n",
              "      <td>239.93</td>\n",
              "      <td>1</td>\n",
              "    </tr>\n",
              "    <tr>\n",
              "      <th>6108</th>\n",
              "      <td>6986.0</td>\n",
              "      <td>-4.397974</td>\n",
              "      <td>1.358367</td>\n",
              "      <td>-2.592844</td>\n",
              "      <td>2.679787</td>\n",
              "      <td>-1.128131</td>\n",
              "      <td>-1.706536</td>\n",
              "      <td>-3.496197</td>\n",
              "      <td>-0.248778</td>\n",
              "      <td>-0.247768</td>\n",
              "      <td>-4.801637</td>\n",
              "      <td>4.895844</td>\n",
              "      <td>-10.912819</td>\n",
              "      <td>0.184372</td>\n",
              "      <td>-6.771097</td>\n",
              "      <td>-0.007326</td>\n",
              "      <td>-7.358083</td>\n",
              "      <td>-12.598419</td>\n",
              "      <td>-5.131549</td>\n",
              "      <td>0.308334</td>\n",
              "      <td>-0.171608</td>\n",
              "      <td>0.573574</td>\n",
              "      <td>0.176968</td>\n",
              "      <td>-0.436207</td>\n",
              "      <td>-0.053502</td>\n",
              "      <td>0.252405</td>\n",
              "      <td>-0.657488</td>\n",
              "      <td>-0.827136</td>\n",
              "      <td>0.849573</td>\n",
              "      <td>59.00</td>\n",
              "      <td>1</td>\n",
              "    </tr>\n",
              "    <tr>\n",
              "      <th>6329</th>\n",
              "      <td>7519.0</td>\n",
              "      <td>1.234235</td>\n",
              "      <td>3.019740</td>\n",
              "      <td>-4.304597</td>\n",
              "      <td>4.732795</td>\n",
              "      <td>3.624201</td>\n",
              "      <td>-1.357746</td>\n",
              "      <td>1.713445</td>\n",
              "      <td>-0.496358</td>\n",
              "      <td>-1.282858</td>\n",
              "      <td>-2.447469</td>\n",
              "      <td>2.101344</td>\n",
              "      <td>-4.609628</td>\n",
              "      <td>1.464378</td>\n",
              "      <td>-6.079337</td>\n",
              "      <td>-0.339237</td>\n",
              "      <td>2.581851</td>\n",
              "      <td>6.739384</td>\n",
              "      <td>3.042493</td>\n",
              "      <td>-2.721853</td>\n",
              "      <td>0.009061</td>\n",
              "      <td>-0.379068</td>\n",
              "      <td>-0.704181</td>\n",
              "      <td>-0.656805</td>\n",
              "      <td>-1.632653</td>\n",
              "      <td>1.488901</td>\n",
              "      <td>0.566797</td>\n",
              "      <td>-0.010016</td>\n",
              "      <td>0.146793</td>\n",
              "      <td>1.00</td>\n",
              "      <td>1</td>\n",
              "    </tr>\n",
              "    <tr>\n",
              "      <th>...</th>\n",
              "      <td>...</td>\n",
              "      <td>...</td>\n",
              "      <td>...</td>\n",
              "      <td>...</td>\n",
              "      <td>...</td>\n",
              "      <td>...</td>\n",
              "      <td>...</td>\n",
              "      <td>...</td>\n",
              "      <td>...</td>\n",
              "      <td>...</td>\n",
              "      <td>...</td>\n",
              "      <td>...</td>\n",
              "      <td>...</td>\n",
              "      <td>...</td>\n",
              "      <td>...</td>\n",
              "      <td>...</td>\n",
              "      <td>...</td>\n",
              "      <td>...</td>\n",
              "      <td>...</td>\n",
              "      <td>...</td>\n",
              "      <td>...</td>\n",
              "      <td>...</td>\n",
              "      <td>...</td>\n",
              "      <td>...</td>\n",
              "      <td>...</td>\n",
              "      <td>...</td>\n",
              "      <td>...</td>\n",
              "      <td>...</td>\n",
              "      <td>...</td>\n",
              "      <td>...</td>\n",
              "      <td>...</td>\n",
              "    </tr>\n",
              "    <tr>\n",
              "      <th>284802</th>\n",
              "      <td>172786.0</td>\n",
              "      <td>-11.881118</td>\n",
              "      <td>10.071785</td>\n",
              "      <td>-9.834783</td>\n",
              "      <td>-2.066656</td>\n",
              "      <td>-5.364473</td>\n",
              "      <td>-2.606837</td>\n",
              "      <td>-4.918215</td>\n",
              "      <td>7.305334</td>\n",
              "      <td>1.914428</td>\n",
              "      <td>4.356170</td>\n",
              "      <td>-1.593105</td>\n",
              "      <td>2.711941</td>\n",
              "      <td>-0.689256</td>\n",
              "      <td>4.626942</td>\n",
              "      <td>-0.924459</td>\n",
              "      <td>1.107641</td>\n",
              "      <td>1.991691</td>\n",
              "      <td>0.510632</td>\n",
              "      <td>-0.682920</td>\n",
              "      <td>1.475829</td>\n",
              "      <td>0.213454</td>\n",
              "      <td>0.111864</td>\n",
              "      <td>1.014480</td>\n",
              "      <td>-0.509348</td>\n",
              "      <td>1.436807</td>\n",
              "      <td>0.250034</td>\n",
              "      <td>0.943651</td>\n",
              "      <td>0.823731</td>\n",
              "      <td>0.77</td>\n",
              "      <td>0</td>\n",
              "    </tr>\n",
              "    <tr>\n",
              "      <th>284803</th>\n",
              "      <td>172787.0</td>\n",
              "      <td>-0.732789</td>\n",
              "      <td>-0.055080</td>\n",
              "      <td>2.035030</td>\n",
              "      <td>-0.738589</td>\n",
              "      <td>0.868229</td>\n",
              "      <td>1.058415</td>\n",
              "      <td>0.024330</td>\n",
              "      <td>0.294869</td>\n",
              "      <td>0.584800</td>\n",
              "      <td>-0.975926</td>\n",
              "      <td>-0.150189</td>\n",
              "      <td>0.915802</td>\n",
              "      <td>1.214756</td>\n",
              "      <td>-0.675143</td>\n",
              "      <td>1.164931</td>\n",
              "      <td>-0.711757</td>\n",
              "      <td>-0.025693</td>\n",
              "      <td>-1.221179</td>\n",
              "      <td>-1.545556</td>\n",
              "      <td>0.059616</td>\n",
              "      <td>0.214205</td>\n",
              "      <td>0.924384</td>\n",
              "      <td>0.012463</td>\n",
              "      <td>-1.016226</td>\n",
              "      <td>-0.606624</td>\n",
              "      <td>-0.395255</td>\n",
              "      <td>0.068472</td>\n",
              "      <td>-0.053527</td>\n",
              "      <td>24.79</td>\n",
              "      <td>0</td>\n",
              "    </tr>\n",
              "    <tr>\n",
              "      <th>284804</th>\n",
              "      <td>172788.0</td>\n",
              "      <td>1.919565</td>\n",
              "      <td>-0.301254</td>\n",
              "      <td>-3.249640</td>\n",
              "      <td>-0.557828</td>\n",
              "      <td>2.630515</td>\n",
              "      <td>3.031260</td>\n",
              "      <td>-0.296827</td>\n",
              "      <td>0.708417</td>\n",
              "      <td>0.432454</td>\n",
              "      <td>-0.484782</td>\n",
              "      <td>0.411614</td>\n",
              "      <td>0.063119</td>\n",
              "      <td>-0.183699</td>\n",
              "      <td>-0.510602</td>\n",
              "      <td>1.329284</td>\n",
              "      <td>0.140716</td>\n",
              "      <td>0.313502</td>\n",
              "      <td>0.395652</td>\n",
              "      <td>-0.577252</td>\n",
              "      <td>0.001396</td>\n",
              "      <td>0.232045</td>\n",
              "      <td>0.578229</td>\n",
              "      <td>-0.037501</td>\n",
              "      <td>0.640134</td>\n",
              "      <td>0.265745</td>\n",
              "      <td>-0.087371</td>\n",
              "      <td>0.004455</td>\n",
              "      <td>-0.026561</td>\n",
              "      <td>67.88</td>\n",
              "      <td>0</td>\n",
              "    </tr>\n",
              "    <tr>\n",
              "      <th>284805</th>\n",
              "      <td>172788.0</td>\n",
              "      <td>-0.240440</td>\n",
              "      <td>0.530483</td>\n",
              "      <td>0.702510</td>\n",
              "      <td>0.689799</td>\n",
              "      <td>-0.377961</td>\n",
              "      <td>0.623708</td>\n",
              "      <td>-0.686180</td>\n",
              "      <td>0.679145</td>\n",
              "      <td>0.392087</td>\n",
              "      <td>-0.399126</td>\n",
              "      <td>-1.933849</td>\n",
              "      <td>-0.962886</td>\n",
              "      <td>-1.042082</td>\n",
              "      <td>0.449624</td>\n",
              "      <td>1.962563</td>\n",
              "      <td>-0.608577</td>\n",
              "      <td>0.509928</td>\n",
              "      <td>1.113981</td>\n",
              "      <td>2.897849</td>\n",
              "      <td>0.127434</td>\n",
              "      <td>0.265245</td>\n",
              "      <td>0.800049</td>\n",
              "      <td>-0.163298</td>\n",
              "      <td>0.123205</td>\n",
              "      <td>-0.569159</td>\n",
              "      <td>0.546668</td>\n",
              "      <td>0.108821</td>\n",
              "      <td>0.104533</td>\n",
              "      <td>10.00</td>\n",
              "      <td>0</td>\n",
              "    </tr>\n",
              "    <tr>\n",
              "      <th>284806</th>\n",
              "      <td>172792.0</td>\n",
              "      <td>-0.533413</td>\n",
              "      <td>-0.189733</td>\n",
              "      <td>0.703337</td>\n",
              "      <td>-0.506271</td>\n",
              "      <td>-0.012546</td>\n",
              "      <td>-0.649617</td>\n",
              "      <td>1.577006</td>\n",
              "      <td>-0.414650</td>\n",
              "      <td>0.486180</td>\n",
              "      <td>-0.915427</td>\n",
              "      <td>-1.040458</td>\n",
              "      <td>-0.031513</td>\n",
              "      <td>-0.188093</td>\n",
              "      <td>-0.084316</td>\n",
              "      <td>0.041333</td>\n",
              "      <td>-0.302620</td>\n",
              "      <td>-0.660377</td>\n",
              "      <td>0.167430</td>\n",
              "      <td>-0.256117</td>\n",
              "      <td>0.382948</td>\n",
              "      <td>0.261057</td>\n",
              "      <td>0.643078</td>\n",
              "      <td>0.376777</td>\n",
              "      <td>0.008797</td>\n",
              "      <td>-0.473649</td>\n",
              "      <td>-0.818267</td>\n",
              "      <td>-0.002415</td>\n",
              "      <td>0.013649</td>\n",
              "      <td>217.00</td>\n",
              "      <td>0</td>\n",
              "    </tr>\n",
              "  </tbody>\n",
              "</table>\n",
              "<p>234807 rows × 31 columns</p>\n",
              "</div>"
            ],
            "text/plain": [
              "            Time         V1         V2  ...       V28  Amount  Class\n",
              "541        406.0  -2.312227   1.951992  ... -0.143276    0.00      1\n",
              "623        472.0  -3.043541  -3.157307  ...  0.035764  529.00      1\n",
              "4920      4462.0  -2.303350   1.759247  ... -0.153029  239.93      1\n",
              "6108      6986.0  -4.397974   1.358367  ...  0.849573   59.00      1\n",
              "6329      7519.0   1.234235   3.019740  ...  0.146793    1.00      1\n",
              "...          ...        ...        ...  ...       ...     ...    ...\n",
              "284802  172786.0 -11.881118  10.071785  ...  0.823731    0.77      0\n",
              "284803  172787.0  -0.732789  -0.055080  ... -0.053527   24.79      0\n",
              "284804  172788.0   1.919565  -0.301254  ... -0.026561   67.88      0\n",
              "284805  172788.0  -0.240440   0.530483  ...  0.104533   10.00      0\n",
              "284806  172792.0  -0.533413  -0.189733  ...  0.013649  217.00      0\n",
              "\n",
              "[234807 rows x 31 columns]"
            ]
          },
          "execution_count": 20,
          "metadata": {},
          "output_type": "execute_result"
        }
      ]
    },
    {
      "cell_type": "markdown",
      "metadata": {
        "id": "2ec87520"
      },
      "source": [
        "Обучите на трейне `OneClassSVM` из `sklearn`"
      ],
      "id": "2ec87520"
    },
    {
      "cell_type": "code",
      "metadata": {
        "colab": {
          "background_save": true
        },
        "id": "yOM9noTOus4K"
      },
      "source": [
        "from sklearn.svm import OneClassSVM\n",
        "clf = OneClassSVM(gamma='auto').fit(df_train)"
      ],
      "id": "yOM9noTOus4K",
      "execution_count": null,
      "outputs": []
    },
    {
      "cell_type": "markdown",
      "metadata": {
        "id": "b427933b"
      },
      "source": [
        "Получите результат на тесте и посчитайте метрики качества классификации модели."
      ],
      "id": "b427933b"
    },
    {
      "cell_type": "code",
      "metadata": {
        "id": "kuFG9PZZWxL5"
      },
      "source": [
        "preds_SVM = clf.predict(df_test)"
      ],
      "id": "kuFG9PZZWxL5",
      "execution_count": null,
      "outputs": []
    },
    {
      "cell_type": "code",
      "metadata": {
        "colab": {
          "base_uri": "https://localhost:8080/"
        },
        "id": "PKDBUI-cd5x9",
        "outputId": "cf7cfe59-33f8-4f40-a807-31b16f4a9e16"
      },
      "source": [
        "preds_SVM.max()"
      ],
      "id": "PKDBUI-cd5x9",
      "execution_count": null,
      "outputs": [
        {
          "output_type": "execute_result",
          "data": {
            "text/plain": [
              "-1"
            ]
          },
          "metadata": {},
          "execution_count": 28
        }
      ]
    },
    {
      "cell_type": "code",
      "metadata": {
        "id": "V-Nng0r79pAw",
        "colab": {
          "base_uri": "https://localhost:8080/"
        },
        "outputId": "67503fc1-9258-4dbc-c813-5d74cb09a611"
      },
      "source": [
        "print(\"roc_auc_score: \", roc_auc_score(df_test[[\"Class\"]], preds_SVM))"
      ],
      "id": "V-Nng0r79pAw",
      "execution_count": null,
      "outputs": [
        {
          "output_type": "stream",
          "name": "stdout",
          "text": [
            "roc_auc_score:  0.5\n"
          ]
        }
      ]
    },
    {
      "cell_type": "markdown",
      "metadata": {
        "id": "41ORTIkUeBLl"
      },
      "source": [
        "OneClassSVM не нашел новизны среди данных"
      ],
      "id": "41ORTIkUeBLl"
    },
    {
      "cell_type": "markdown",
      "metadata": {
        "id": "4e960a37"
      },
      "source": [
        "### Задача 2 (7 баллов)\n",
        "\n",
        "Скачайте данные о зарегистрированных случаях COVID-19 в различных странах с GitHub: <a href=\"https://github.com/CSSEGISandData/COVID-19/blob/master/csse_covid_19_data/csse_covid_19_time_series/time_series_covid19_confirmed_global.csv\">link</a>. Загрузите его в DataFrame через pandas."
      ],
      "id": "4e960a37"
    },
    {
      "cell_type": "code",
      "metadata": {
        "colab": {
          "base_uri": "https://localhost:8080/",
          "height": 456
        },
        "id": "182b2c22",
        "outputId": "73bdd2f5-3a02-4912-de0c-3928714ab34c"
      },
      "source": [
        "df = pd.read_csv(\"/content/drive/MyDrive/data/Anomalies/time_series_covid19_confirmed_global.csv\")\n",
        "df"
      ],
      "id": "182b2c22",
      "execution_count": null,
      "outputs": [
        {
          "data": {
            "text/html": [
              "<div>\n",
              "<style scoped>\n",
              "    .dataframe tbody tr th:only-of-type {\n",
              "        vertical-align: middle;\n",
              "    }\n",
              "\n",
              "    .dataframe tbody tr th {\n",
              "        vertical-align: top;\n",
              "    }\n",
              "\n",
              "    .dataframe thead th {\n",
              "        text-align: right;\n",
              "    }\n",
              "</style>\n",
              "<table border=\"1\" class=\"dataframe\">\n",
              "  <thead>\n",
              "    <tr style=\"text-align: right;\">\n",
              "      <th></th>\n",
              "      <th>Province/State</th>\n",
              "      <th>Country/Region</th>\n",
              "      <th>Lat</th>\n",
              "      <th>Long</th>\n",
              "      <th>1/22/20</th>\n",
              "      <th>1/23/20</th>\n",
              "      <th>1/24/20</th>\n",
              "      <th>1/25/20</th>\n",
              "      <th>1/26/20</th>\n",
              "      <th>1/27/20</th>\n",
              "      <th>1/28/20</th>\n",
              "      <th>1/29/20</th>\n",
              "      <th>1/30/20</th>\n",
              "      <th>1/31/20</th>\n",
              "      <th>2/1/20</th>\n",
              "      <th>2/2/20</th>\n",
              "      <th>2/3/20</th>\n",
              "      <th>2/4/20</th>\n",
              "      <th>2/5/20</th>\n",
              "      <th>2/6/20</th>\n",
              "      <th>2/7/20</th>\n",
              "      <th>2/8/20</th>\n",
              "      <th>2/9/20</th>\n",
              "      <th>2/10/20</th>\n",
              "      <th>2/11/20</th>\n",
              "      <th>2/12/20</th>\n",
              "      <th>2/13/20</th>\n",
              "      <th>2/14/20</th>\n",
              "      <th>2/15/20</th>\n",
              "      <th>2/16/20</th>\n",
              "      <th>2/17/20</th>\n",
              "      <th>2/18/20</th>\n",
              "      <th>2/19/20</th>\n",
              "      <th>2/20/20</th>\n",
              "      <th>2/21/20</th>\n",
              "      <th>2/22/20</th>\n",
              "      <th>2/23/20</th>\n",
              "      <th>2/24/20</th>\n",
              "      <th>2/25/20</th>\n",
              "      <th>2/26/20</th>\n",
              "      <th>...</th>\n",
              "      <th>9/25/21</th>\n",
              "      <th>9/26/21</th>\n",
              "      <th>9/27/21</th>\n",
              "      <th>9/28/21</th>\n",
              "      <th>9/29/21</th>\n",
              "      <th>9/30/21</th>\n",
              "      <th>10/1/21</th>\n",
              "      <th>10/2/21</th>\n",
              "      <th>10/3/21</th>\n",
              "      <th>10/4/21</th>\n",
              "      <th>10/5/21</th>\n",
              "      <th>10/6/21</th>\n",
              "      <th>10/7/21</th>\n",
              "      <th>10/8/21</th>\n",
              "      <th>10/9/21</th>\n",
              "      <th>10/10/21</th>\n",
              "      <th>10/11/21</th>\n",
              "      <th>10/12/21</th>\n",
              "      <th>10/13/21</th>\n",
              "      <th>10/14/21</th>\n",
              "      <th>10/15/21</th>\n",
              "      <th>10/16/21</th>\n",
              "      <th>10/17/21</th>\n",
              "      <th>10/18/21</th>\n",
              "      <th>10/19/21</th>\n",
              "      <th>10/20/21</th>\n",
              "      <th>10/21/21</th>\n",
              "      <th>10/22/21</th>\n",
              "      <th>10/23/21</th>\n",
              "      <th>10/24/21</th>\n",
              "      <th>10/25/21</th>\n",
              "      <th>10/26/21</th>\n",
              "      <th>10/27/21</th>\n",
              "      <th>10/28/21</th>\n",
              "      <th>10/29/21</th>\n",
              "      <th>10/30/21</th>\n",
              "      <th>10/31/21</th>\n",
              "      <th>11/1/21</th>\n",
              "      <th>11/2/21</th>\n",
              "      <th>11/3/21</th>\n",
              "    </tr>\n",
              "  </thead>\n",
              "  <tbody>\n",
              "    <tr>\n",
              "      <th>0</th>\n",
              "      <td>NaN</td>\n",
              "      <td>Afghanistan</td>\n",
              "      <td>33.939110</td>\n",
              "      <td>67.709953</td>\n",
              "      <td>0</td>\n",
              "      <td>0</td>\n",
              "      <td>0</td>\n",
              "      <td>0</td>\n",
              "      <td>0</td>\n",
              "      <td>0</td>\n",
              "      <td>0</td>\n",
              "      <td>0</td>\n",
              "      <td>0</td>\n",
              "      <td>0</td>\n",
              "      <td>0</td>\n",
              "      <td>0</td>\n",
              "      <td>0</td>\n",
              "      <td>0</td>\n",
              "      <td>0</td>\n",
              "      <td>0</td>\n",
              "      <td>0</td>\n",
              "      <td>0</td>\n",
              "      <td>0</td>\n",
              "      <td>0</td>\n",
              "      <td>0</td>\n",
              "      <td>0</td>\n",
              "      <td>0</td>\n",
              "      <td>0</td>\n",
              "      <td>0</td>\n",
              "      <td>0</td>\n",
              "      <td>0</td>\n",
              "      <td>0</td>\n",
              "      <td>0</td>\n",
              "      <td>0</td>\n",
              "      <td>0</td>\n",
              "      <td>0</td>\n",
              "      <td>0</td>\n",
              "      <td>5</td>\n",
              "      <td>5</td>\n",
              "      <td>5</td>\n",
              "      <td>...</td>\n",
              "      <td>154960</td>\n",
              "      <td>154960</td>\n",
              "      <td>155072</td>\n",
              "      <td>155093</td>\n",
              "      <td>155128</td>\n",
              "      <td>155174</td>\n",
              "      <td>155191</td>\n",
              "      <td>155191</td>\n",
              "      <td>155191</td>\n",
              "      <td>155287</td>\n",
              "      <td>155309</td>\n",
              "      <td>155380</td>\n",
              "      <td>155429</td>\n",
              "      <td>155448</td>\n",
              "      <td>155466</td>\n",
              "      <td>155508</td>\n",
              "      <td>155540</td>\n",
              "      <td>155599</td>\n",
              "      <td>155627</td>\n",
              "      <td>155682</td>\n",
              "      <td>155688</td>\n",
              "      <td>155739</td>\n",
              "      <td>155764</td>\n",
              "      <td>155776</td>\n",
              "      <td>155801</td>\n",
              "      <td>155859</td>\n",
              "      <td>155891</td>\n",
              "      <td>155931</td>\n",
              "      <td>155940</td>\n",
              "      <td>155944</td>\n",
              "      <td>156040</td>\n",
              "      <td>156071</td>\n",
              "      <td>156124</td>\n",
              "      <td>156166</td>\n",
              "      <td>156196</td>\n",
              "      <td>156210</td>\n",
              "      <td>156250</td>\n",
              "      <td>156284</td>\n",
              "      <td>156307</td>\n",
              "      <td>156323</td>\n",
              "    </tr>\n",
              "    <tr>\n",
              "      <th>1</th>\n",
              "      <td>NaN</td>\n",
              "      <td>Albania</td>\n",
              "      <td>41.153300</td>\n",
              "      <td>20.168300</td>\n",
              "      <td>0</td>\n",
              "      <td>0</td>\n",
              "      <td>0</td>\n",
              "      <td>0</td>\n",
              "      <td>0</td>\n",
              "      <td>0</td>\n",
              "      <td>0</td>\n",
              "      <td>0</td>\n",
              "      <td>0</td>\n",
              "      <td>0</td>\n",
              "      <td>0</td>\n",
              "      <td>0</td>\n",
              "      <td>0</td>\n",
              "      <td>0</td>\n",
              "      <td>0</td>\n",
              "      <td>0</td>\n",
              "      <td>0</td>\n",
              "      <td>0</td>\n",
              "      <td>0</td>\n",
              "      <td>0</td>\n",
              "      <td>0</td>\n",
              "      <td>0</td>\n",
              "      <td>0</td>\n",
              "      <td>0</td>\n",
              "      <td>0</td>\n",
              "      <td>0</td>\n",
              "      <td>0</td>\n",
              "      <td>0</td>\n",
              "      <td>0</td>\n",
              "      <td>0</td>\n",
              "      <td>0</td>\n",
              "      <td>0</td>\n",
              "      <td>0</td>\n",
              "      <td>0</td>\n",
              "      <td>0</td>\n",
              "      <td>0</td>\n",
              "      <td>...</td>\n",
              "      <td>167354</td>\n",
              "      <td>167893</td>\n",
              "      <td>168188</td>\n",
              "      <td>168782</td>\n",
              "      <td>169462</td>\n",
              "      <td>170131</td>\n",
              "      <td>170778</td>\n",
              "      <td>171327</td>\n",
              "      <td>171794</td>\n",
              "      <td>171794</td>\n",
              "      <td>172618</td>\n",
              "      <td>173190</td>\n",
              "      <td>173723</td>\n",
              "      <td>174168</td>\n",
              "      <td>174643</td>\n",
              "      <td>174968</td>\n",
              "      <td>175163</td>\n",
              "      <td>175664</td>\n",
              "      <td>176172</td>\n",
              "      <td>176667</td>\n",
              "      <td>177108</td>\n",
              "      <td>177536</td>\n",
              "      <td>177971</td>\n",
              "      <td>178188</td>\n",
              "      <td>178804</td>\n",
              "      <td>179463</td>\n",
              "      <td>180029</td>\n",
              "      <td>180623</td>\n",
              "      <td>181252</td>\n",
              "      <td>181696</td>\n",
              "      <td>181960</td>\n",
              "      <td>182610</td>\n",
              "      <td>183282</td>\n",
              "      <td>183873</td>\n",
              "      <td>184340</td>\n",
              "      <td>184887</td>\n",
              "      <td>185300</td>\n",
              "      <td>185497</td>\n",
              "      <td>186222</td>\n",
              "      <td>186793</td>\n",
              "    </tr>\n",
              "    <tr>\n",
              "      <th>2</th>\n",
              "      <td>NaN</td>\n",
              "      <td>Algeria</td>\n",
              "      <td>28.033900</td>\n",
              "      <td>1.659600</td>\n",
              "      <td>0</td>\n",
              "      <td>0</td>\n",
              "      <td>0</td>\n",
              "      <td>0</td>\n",
              "      <td>0</td>\n",
              "      <td>0</td>\n",
              "      <td>0</td>\n",
              "      <td>0</td>\n",
              "      <td>0</td>\n",
              "      <td>0</td>\n",
              "      <td>0</td>\n",
              "      <td>0</td>\n",
              "      <td>0</td>\n",
              "      <td>0</td>\n",
              "      <td>0</td>\n",
              "      <td>0</td>\n",
              "      <td>0</td>\n",
              "      <td>0</td>\n",
              "      <td>0</td>\n",
              "      <td>0</td>\n",
              "      <td>0</td>\n",
              "      <td>0</td>\n",
              "      <td>0</td>\n",
              "      <td>0</td>\n",
              "      <td>0</td>\n",
              "      <td>0</td>\n",
              "      <td>0</td>\n",
              "      <td>0</td>\n",
              "      <td>0</td>\n",
              "      <td>0</td>\n",
              "      <td>0</td>\n",
              "      <td>0</td>\n",
              "      <td>0</td>\n",
              "      <td>0</td>\n",
              "      <td>1</td>\n",
              "      <td>1</td>\n",
              "      <td>...</td>\n",
              "      <td>202574</td>\n",
              "      <td>202722</td>\n",
              "      <td>202877</td>\n",
              "      <td>203045</td>\n",
              "      <td>203198</td>\n",
              "      <td>203359</td>\n",
              "      <td>203517</td>\n",
              "      <td>203657</td>\n",
              "      <td>203789</td>\n",
              "      <td>203915</td>\n",
              "      <td>204046</td>\n",
              "      <td>204171</td>\n",
              "      <td>204276</td>\n",
              "      <td>204388</td>\n",
              "      <td>204490</td>\n",
              "      <td>204597</td>\n",
              "      <td>204695</td>\n",
              "      <td>204790</td>\n",
              "      <td>204900</td>\n",
              "      <td>205005</td>\n",
              "      <td>205106</td>\n",
              "      <td>205199</td>\n",
              "      <td>205286</td>\n",
              "      <td>205364</td>\n",
              "      <td>205453</td>\n",
              "      <td>205529</td>\n",
              "      <td>205599</td>\n",
              "      <td>205683</td>\n",
              "      <td>205750</td>\n",
              "      <td>205822</td>\n",
              "      <td>205903</td>\n",
              "      <td>205990</td>\n",
              "      <td>206069</td>\n",
              "      <td>206160</td>\n",
              "      <td>206270</td>\n",
              "      <td>206358</td>\n",
              "      <td>206452</td>\n",
              "      <td>206566</td>\n",
              "      <td>206649</td>\n",
              "      <td>206754</td>\n",
              "    </tr>\n",
              "    <tr>\n",
              "      <th>3</th>\n",
              "      <td>NaN</td>\n",
              "      <td>Andorra</td>\n",
              "      <td>42.506300</td>\n",
              "      <td>1.521800</td>\n",
              "      <td>0</td>\n",
              "      <td>0</td>\n",
              "      <td>0</td>\n",
              "      <td>0</td>\n",
              "      <td>0</td>\n",
              "      <td>0</td>\n",
              "      <td>0</td>\n",
              "      <td>0</td>\n",
              "      <td>0</td>\n",
              "      <td>0</td>\n",
              "      <td>0</td>\n",
              "      <td>0</td>\n",
              "      <td>0</td>\n",
              "      <td>0</td>\n",
              "      <td>0</td>\n",
              "      <td>0</td>\n",
              "      <td>0</td>\n",
              "      <td>0</td>\n",
              "      <td>0</td>\n",
              "      <td>0</td>\n",
              "      <td>0</td>\n",
              "      <td>0</td>\n",
              "      <td>0</td>\n",
              "      <td>0</td>\n",
              "      <td>0</td>\n",
              "      <td>0</td>\n",
              "      <td>0</td>\n",
              "      <td>0</td>\n",
              "      <td>0</td>\n",
              "      <td>0</td>\n",
              "      <td>0</td>\n",
              "      <td>0</td>\n",
              "      <td>0</td>\n",
              "      <td>0</td>\n",
              "      <td>0</td>\n",
              "      <td>0</td>\n",
              "      <td>...</td>\n",
              "      <td>15167</td>\n",
              "      <td>15167</td>\n",
              "      <td>15189</td>\n",
              "      <td>15192</td>\n",
              "      <td>15209</td>\n",
              "      <td>15222</td>\n",
              "      <td>15222</td>\n",
              "      <td>15222</td>\n",
              "      <td>15222</td>\n",
              "      <td>15267</td>\n",
              "      <td>15271</td>\n",
              "      <td>15284</td>\n",
              "      <td>15288</td>\n",
              "      <td>15291</td>\n",
              "      <td>15291</td>\n",
              "      <td>15291</td>\n",
              "      <td>15307</td>\n",
              "      <td>15307</td>\n",
              "      <td>15314</td>\n",
              "      <td>15326</td>\n",
              "      <td>15338</td>\n",
              "      <td>15338</td>\n",
              "      <td>15338</td>\n",
              "      <td>15367</td>\n",
              "      <td>15369</td>\n",
              "      <td>15382</td>\n",
              "      <td>15382</td>\n",
              "      <td>15404</td>\n",
              "      <td>15404</td>\n",
              "      <td>15404</td>\n",
              "      <td>15425</td>\n",
              "      <td>15425</td>\n",
              "      <td>15462</td>\n",
              "      <td>15505</td>\n",
              "      <td>15516</td>\n",
              "      <td>15516</td>\n",
              "      <td>15516</td>\n",
              "      <td>15516</td>\n",
              "      <td>15516</td>\n",
              "      <td>15572</td>\n",
              "    </tr>\n",
              "    <tr>\n",
              "      <th>4</th>\n",
              "      <td>NaN</td>\n",
              "      <td>Angola</td>\n",
              "      <td>-11.202700</td>\n",
              "      <td>17.873900</td>\n",
              "      <td>0</td>\n",
              "      <td>0</td>\n",
              "      <td>0</td>\n",
              "      <td>0</td>\n",
              "      <td>0</td>\n",
              "      <td>0</td>\n",
              "      <td>0</td>\n",
              "      <td>0</td>\n",
              "      <td>0</td>\n",
              "      <td>0</td>\n",
              "      <td>0</td>\n",
              "      <td>0</td>\n",
              "      <td>0</td>\n",
              "      <td>0</td>\n",
              "      <td>0</td>\n",
              "      <td>0</td>\n",
              "      <td>0</td>\n",
              "      <td>0</td>\n",
              "      <td>0</td>\n",
              "      <td>0</td>\n",
              "      <td>0</td>\n",
              "      <td>0</td>\n",
              "      <td>0</td>\n",
              "      <td>0</td>\n",
              "      <td>0</td>\n",
              "      <td>0</td>\n",
              "      <td>0</td>\n",
              "      <td>0</td>\n",
              "      <td>0</td>\n",
              "      <td>0</td>\n",
              "      <td>0</td>\n",
              "      <td>0</td>\n",
              "      <td>0</td>\n",
              "      <td>0</td>\n",
              "      <td>0</td>\n",
              "      <td>0</td>\n",
              "      <td>...</td>\n",
              "      <td>54795</td>\n",
              "      <td>55121</td>\n",
              "      <td>55583</td>\n",
              "      <td>56040</td>\n",
              "      <td>56583</td>\n",
              "      <td>56583</td>\n",
              "      <td>58076</td>\n",
              "      <td>58603</td>\n",
              "      <td>58943</td>\n",
              "      <td>58943</td>\n",
              "      <td>59895</td>\n",
              "      <td>60448</td>\n",
              "      <td>60803</td>\n",
              "      <td>61023</td>\n",
              "      <td>61245</td>\n",
              "      <td>61378</td>\n",
              "      <td>61580</td>\n",
              "      <td>61794</td>\n",
              "      <td>62143</td>\n",
              "      <td>62385</td>\n",
              "      <td>62606</td>\n",
              "      <td>62789</td>\n",
              "      <td>62842</td>\n",
              "      <td>63012</td>\n",
              "      <td>63197</td>\n",
              "      <td>63340</td>\n",
              "      <td>63567</td>\n",
              "      <td>63691</td>\n",
              "      <td>63775</td>\n",
              "      <td>63861</td>\n",
              "      <td>63930</td>\n",
              "      <td>64033</td>\n",
              "      <td>64126</td>\n",
              "      <td>64226</td>\n",
              "      <td>64301</td>\n",
              "      <td>64374</td>\n",
              "      <td>64433</td>\n",
              "      <td>64458</td>\n",
              "      <td>64487</td>\n",
              "      <td>64533</td>\n",
              "    </tr>\n",
              "    <tr>\n",
              "      <th>...</th>\n",
              "      <td>...</td>\n",
              "      <td>...</td>\n",
              "      <td>...</td>\n",
              "      <td>...</td>\n",
              "      <td>...</td>\n",
              "      <td>...</td>\n",
              "      <td>...</td>\n",
              "      <td>...</td>\n",
              "      <td>...</td>\n",
              "      <td>...</td>\n",
              "      <td>...</td>\n",
              "      <td>...</td>\n",
              "      <td>...</td>\n",
              "      <td>...</td>\n",
              "      <td>...</td>\n",
              "      <td>...</td>\n",
              "      <td>...</td>\n",
              "      <td>...</td>\n",
              "      <td>...</td>\n",
              "      <td>...</td>\n",
              "      <td>...</td>\n",
              "      <td>...</td>\n",
              "      <td>...</td>\n",
              "      <td>...</td>\n",
              "      <td>...</td>\n",
              "      <td>...</td>\n",
              "      <td>...</td>\n",
              "      <td>...</td>\n",
              "      <td>...</td>\n",
              "      <td>...</td>\n",
              "      <td>...</td>\n",
              "      <td>...</td>\n",
              "      <td>...</td>\n",
              "      <td>...</td>\n",
              "      <td>...</td>\n",
              "      <td>...</td>\n",
              "      <td>...</td>\n",
              "      <td>...</td>\n",
              "      <td>...</td>\n",
              "      <td>...</td>\n",
              "      <td>...</td>\n",
              "      <td>...</td>\n",
              "      <td>...</td>\n",
              "      <td>...</td>\n",
              "      <td>...</td>\n",
              "      <td>...</td>\n",
              "      <td>...</td>\n",
              "      <td>...</td>\n",
              "      <td>...</td>\n",
              "      <td>...</td>\n",
              "      <td>...</td>\n",
              "      <td>...</td>\n",
              "      <td>...</td>\n",
              "      <td>...</td>\n",
              "      <td>...</td>\n",
              "      <td>...</td>\n",
              "      <td>...</td>\n",
              "      <td>...</td>\n",
              "      <td>...</td>\n",
              "      <td>...</td>\n",
              "      <td>...</td>\n",
              "      <td>...</td>\n",
              "      <td>...</td>\n",
              "      <td>...</td>\n",
              "      <td>...</td>\n",
              "      <td>...</td>\n",
              "      <td>...</td>\n",
              "      <td>...</td>\n",
              "      <td>...</td>\n",
              "      <td>...</td>\n",
              "      <td>...</td>\n",
              "      <td>...</td>\n",
              "      <td>...</td>\n",
              "      <td>...</td>\n",
              "      <td>...</td>\n",
              "      <td>...</td>\n",
              "      <td>...</td>\n",
              "      <td>...</td>\n",
              "      <td>...</td>\n",
              "      <td>...</td>\n",
              "      <td>...</td>\n",
              "    </tr>\n",
              "    <tr>\n",
              "      <th>275</th>\n",
              "      <td>NaN</td>\n",
              "      <td>Vietnam</td>\n",
              "      <td>14.058324</td>\n",
              "      <td>108.277199</td>\n",
              "      <td>0</td>\n",
              "      <td>2</td>\n",
              "      <td>2</td>\n",
              "      <td>2</td>\n",
              "      <td>2</td>\n",
              "      <td>2</td>\n",
              "      <td>2</td>\n",
              "      <td>2</td>\n",
              "      <td>2</td>\n",
              "      <td>2</td>\n",
              "      <td>6</td>\n",
              "      <td>6</td>\n",
              "      <td>8</td>\n",
              "      <td>8</td>\n",
              "      <td>8</td>\n",
              "      <td>10</td>\n",
              "      <td>10</td>\n",
              "      <td>13</td>\n",
              "      <td>13</td>\n",
              "      <td>14</td>\n",
              "      <td>15</td>\n",
              "      <td>15</td>\n",
              "      <td>16</td>\n",
              "      <td>16</td>\n",
              "      <td>16</td>\n",
              "      <td>16</td>\n",
              "      <td>16</td>\n",
              "      <td>16</td>\n",
              "      <td>16</td>\n",
              "      <td>16</td>\n",
              "      <td>16</td>\n",
              "      <td>16</td>\n",
              "      <td>16</td>\n",
              "      <td>16</td>\n",
              "      <td>16</td>\n",
              "      <td>16</td>\n",
              "      <td>...</td>\n",
              "      <td>746678</td>\n",
              "      <td>756689</td>\n",
              "      <td>766051</td>\n",
              "      <td>770640</td>\n",
              "      <td>779398</td>\n",
              "      <td>790755</td>\n",
              "      <td>797712</td>\n",
              "      <td>803202</td>\n",
              "      <td>808578</td>\n",
              "      <td>813961</td>\n",
              "      <td>818324</td>\n",
              "      <td>822687</td>\n",
              "      <td>826837</td>\n",
              "      <td>831643</td>\n",
              "      <td>836134</td>\n",
              "      <td>839662</td>\n",
              "      <td>843281</td>\n",
              "      <td>846230</td>\n",
              "      <td>849691</td>\n",
              "      <td>853842</td>\n",
              "      <td>857639</td>\n",
              "      <td>860860</td>\n",
              "      <td>864053</td>\n",
              "      <td>867221</td>\n",
              "      <td>870255</td>\n",
              "      <td>873901</td>\n",
              "      <td>877537</td>\n",
              "      <td>881522</td>\n",
              "      <td>884895</td>\n",
              "      <td>888940</td>\n",
              "      <td>892579</td>\n",
              "      <td>896174</td>\n",
              "      <td>900585</td>\n",
              "      <td>905477</td>\n",
              "      <td>910376</td>\n",
              "      <td>915603</td>\n",
              "      <td>921122</td>\n",
              "      <td>926720</td>\n",
              "      <td>932357</td>\n",
              "      <td>939463</td>\n",
              "    </tr>\n",
              "    <tr>\n",
              "      <th>276</th>\n",
              "      <td>NaN</td>\n",
              "      <td>West Bank and Gaza</td>\n",
              "      <td>31.952200</td>\n",
              "      <td>35.233200</td>\n",
              "      <td>0</td>\n",
              "      <td>0</td>\n",
              "      <td>0</td>\n",
              "      <td>0</td>\n",
              "      <td>0</td>\n",
              "      <td>0</td>\n",
              "      <td>0</td>\n",
              "      <td>0</td>\n",
              "      <td>0</td>\n",
              "      <td>0</td>\n",
              "      <td>0</td>\n",
              "      <td>0</td>\n",
              "      <td>0</td>\n",
              "      <td>0</td>\n",
              "      <td>0</td>\n",
              "      <td>0</td>\n",
              "      <td>0</td>\n",
              "      <td>0</td>\n",
              "      <td>0</td>\n",
              "      <td>0</td>\n",
              "      <td>0</td>\n",
              "      <td>0</td>\n",
              "      <td>0</td>\n",
              "      <td>0</td>\n",
              "      <td>0</td>\n",
              "      <td>0</td>\n",
              "      <td>0</td>\n",
              "      <td>0</td>\n",
              "      <td>0</td>\n",
              "      <td>0</td>\n",
              "      <td>0</td>\n",
              "      <td>0</td>\n",
              "      <td>0</td>\n",
              "      <td>0</td>\n",
              "      <td>0</td>\n",
              "      <td>0</td>\n",
              "      <td>...</td>\n",
              "      <td>395677</td>\n",
              "      <td>396746</td>\n",
              "      <td>398946</td>\n",
              "      <td>400649</td>\n",
              "      <td>402255</td>\n",
              "      <td>403716</td>\n",
              "      <td>405056</td>\n",
              "      <td>405780</td>\n",
              "      <td>406652</td>\n",
              "      <td>408211</td>\n",
              "      <td>409489</td>\n",
              "      <td>439845</td>\n",
              "      <td>440936</td>\n",
              "      <td>441882</td>\n",
              "      <td>441882</td>\n",
              "      <td>441882</td>\n",
              "      <td>443766</td>\n",
              "      <td>444729</td>\n",
              "      <td>445538</td>\n",
              "      <td>446294</td>\n",
              "      <td>447032</td>\n",
              "      <td>447032</td>\n",
              "      <td>447032</td>\n",
              "      <td>448322</td>\n",
              "      <td>449031</td>\n",
              "      <td>449705</td>\n",
              "      <td>449980</td>\n",
              "      <td>450310</td>\n",
              "      <td>450310</td>\n",
              "      <td>450310</td>\n",
              "      <td>451459</td>\n",
              "      <td>451897</td>\n",
              "      <td>452272</td>\n",
              "      <td>452642</td>\n",
              "      <td>452997</td>\n",
              "      <td>452997</td>\n",
              "      <td>452997</td>\n",
              "      <td>453782</td>\n",
              "      <td>454172</td>\n",
              "      <td>454509</td>\n",
              "    </tr>\n",
              "    <tr>\n",
              "      <th>277</th>\n",
              "      <td>NaN</td>\n",
              "      <td>Yemen</td>\n",
              "      <td>15.552727</td>\n",
              "      <td>48.516388</td>\n",
              "      <td>0</td>\n",
              "      <td>0</td>\n",
              "      <td>0</td>\n",
              "      <td>0</td>\n",
              "      <td>0</td>\n",
              "      <td>0</td>\n",
              "      <td>0</td>\n",
              "      <td>0</td>\n",
              "      <td>0</td>\n",
              "      <td>0</td>\n",
              "      <td>0</td>\n",
              "      <td>0</td>\n",
              "      <td>0</td>\n",
              "      <td>0</td>\n",
              "      <td>0</td>\n",
              "      <td>0</td>\n",
              "      <td>0</td>\n",
              "      <td>0</td>\n",
              "      <td>0</td>\n",
              "      <td>0</td>\n",
              "      <td>0</td>\n",
              "      <td>0</td>\n",
              "      <td>0</td>\n",
              "      <td>0</td>\n",
              "      <td>0</td>\n",
              "      <td>0</td>\n",
              "      <td>0</td>\n",
              "      <td>0</td>\n",
              "      <td>0</td>\n",
              "      <td>0</td>\n",
              "      <td>0</td>\n",
              "      <td>0</td>\n",
              "      <td>0</td>\n",
              "      <td>0</td>\n",
              "      <td>0</td>\n",
              "      <td>0</td>\n",
              "      <td>...</td>\n",
              "      <td>8891</td>\n",
              "      <td>8934</td>\n",
              "      <td>8988</td>\n",
              "      <td>9016</td>\n",
              "      <td>9039</td>\n",
              "      <td>9067</td>\n",
              "      <td>9111</td>\n",
              "      <td>9139</td>\n",
              "      <td>9139</td>\n",
              "      <td>9214</td>\n",
              "      <td>9234</td>\n",
              "      <td>9271</td>\n",
              "      <td>9299</td>\n",
              "      <td>9333</td>\n",
              "      <td>9345</td>\n",
              "      <td>9369</td>\n",
              "      <td>9402</td>\n",
              "      <td>9412</td>\n",
              "      <td>9439</td>\n",
              "      <td>9467</td>\n",
              "      <td>9495</td>\n",
              "      <td>9512</td>\n",
              "      <td>9526</td>\n",
              "      <td>9556</td>\n",
              "      <td>9575</td>\n",
              "      <td>9596</td>\n",
              "      <td>9635</td>\n",
              "      <td>9650</td>\n",
              "      <td>9662</td>\n",
              "      <td>9678</td>\n",
              "      <td>9694</td>\n",
              "      <td>9711</td>\n",
              "      <td>9728</td>\n",
              "      <td>9751</td>\n",
              "      <td>9773</td>\n",
              "      <td>9779</td>\n",
              "      <td>9791</td>\n",
              "      <td>9799</td>\n",
              "      <td>9806</td>\n",
              "      <td>9810</td>\n",
              "    </tr>\n",
              "    <tr>\n",
              "      <th>278</th>\n",
              "      <td>NaN</td>\n",
              "      <td>Zambia</td>\n",
              "      <td>-13.133897</td>\n",
              "      <td>27.849332</td>\n",
              "      <td>0</td>\n",
              "      <td>0</td>\n",
              "      <td>0</td>\n",
              "      <td>0</td>\n",
              "      <td>0</td>\n",
              "      <td>0</td>\n",
              "      <td>0</td>\n",
              "      <td>0</td>\n",
              "      <td>0</td>\n",
              "      <td>0</td>\n",
              "      <td>0</td>\n",
              "      <td>0</td>\n",
              "      <td>0</td>\n",
              "      <td>0</td>\n",
              "      <td>0</td>\n",
              "      <td>0</td>\n",
              "      <td>0</td>\n",
              "      <td>0</td>\n",
              "      <td>0</td>\n",
              "      <td>0</td>\n",
              "      <td>0</td>\n",
              "      <td>0</td>\n",
              "      <td>0</td>\n",
              "      <td>0</td>\n",
              "      <td>0</td>\n",
              "      <td>0</td>\n",
              "      <td>0</td>\n",
              "      <td>0</td>\n",
              "      <td>0</td>\n",
              "      <td>0</td>\n",
              "      <td>0</td>\n",
              "      <td>0</td>\n",
              "      <td>0</td>\n",
              "      <td>0</td>\n",
              "      <td>0</td>\n",
              "      <td>0</td>\n",
              "      <td>...</td>\n",
              "      <td>208829</td>\n",
              "      <td>208857</td>\n",
              "      <td>208867</td>\n",
              "      <td>208912</td>\n",
              "      <td>209002</td>\n",
              "      <td>209046</td>\n",
              "      <td>209114</td>\n",
              "      <td>209142</td>\n",
              "      <td>209163</td>\n",
              "      <td>209172</td>\n",
              "      <td>209199</td>\n",
              "      <td>209248</td>\n",
              "      <td>209283</td>\n",
              "      <td>209315</td>\n",
              "      <td>209336</td>\n",
              "      <td>209347</td>\n",
              "      <td>209353</td>\n",
              "      <td>209396</td>\n",
              "      <td>209411</td>\n",
              "      <td>209431</td>\n",
              "      <td>209477</td>\n",
              "      <td>209505</td>\n",
              "      <td>209521</td>\n",
              "      <td>209536</td>\n",
              "      <td>209549</td>\n",
              "      <td>209571</td>\n",
              "      <td>209589</td>\n",
              "      <td>209610</td>\n",
              "      <td>209629</td>\n",
              "      <td>209634</td>\n",
              "      <td>209639</td>\n",
              "      <td>209648</td>\n",
              "      <td>209657</td>\n",
              "      <td>209672</td>\n",
              "      <td>209702</td>\n",
              "      <td>209722</td>\n",
              "      <td>209734</td>\n",
              "      <td>209739</td>\n",
              "      <td>209760</td>\n",
              "      <td>209781</td>\n",
              "    </tr>\n",
              "    <tr>\n",
              "      <th>279</th>\n",
              "      <td>NaN</td>\n",
              "      <td>Zimbabwe</td>\n",
              "      <td>-19.015438</td>\n",
              "      <td>29.154857</td>\n",
              "      <td>0</td>\n",
              "      <td>0</td>\n",
              "      <td>0</td>\n",
              "      <td>0</td>\n",
              "      <td>0</td>\n",
              "      <td>0</td>\n",
              "      <td>0</td>\n",
              "      <td>0</td>\n",
              "      <td>0</td>\n",
              "      <td>0</td>\n",
              "      <td>0</td>\n",
              "      <td>0</td>\n",
              "      <td>0</td>\n",
              "      <td>0</td>\n",
              "      <td>0</td>\n",
              "      <td>0</td>\n",
              "      <td>0</td>\n",
              "      <td>0</td>\n",
              "      <td>0</td>\n",
              "      <td>0</td>\n",
              "      <td>0</td>\n",
              "      <td>0</td>\n",
              "      <td>0</td>\n",
              "      <td>0</td>\n",
              "      <td>0</td>\n",
              "      <td>0</td>\n",
              "      <td>0</td>\n",
              "      <td>0</td>\n",
              "      <td>0</td>\n",
              "      <td>0</td>\n",
              "      <td>0</td>\n",
              "      <td>0</td>\n",
              "      <td>0</td>\n",
              "      <td>0</td>\n",
              "      <td>0</td>\n",
              "      <td>0</td>\n",
              "      <td>...</td>\n",
              "      <td>129505</td>\n",
              "      <td>129625</td>\n",
              "      <td>129919</td>\n",
              "      <td>130272</td>\n",
              "      <td>130485</td>\n",
              "      <td>130820</td>\n",
              "      <td>131028</td>\n",
              "      <td>131094</td>\n",
              "      <td>131129</td>\n",
              "      <td>131129</td>\n",
              "      <td>131205</td>\n",
              "      <td>131434</td>\n",
              "      <td>131523</td>\n",
              "      <td>131705</td>\n",
              "      <td>131762</td>\n",
              "      <td>131796</td>\n",
              "      <td>131875</td>\n",
              "      <td>132016</td>\n",
              "      <td>132108</td>\n",
              "      <td>132251</td>\n",
              "      <td>132285</td>\n",
              "      <td>132333</td>\n",
              "      <td>132368</td>\n",
              "      <td>132368</td>\n",
              "      <td>132405</td>\n",
              "      <td>132437</td>\n",
              "      <td>132540</td>\n",
              "      <td>132588</td>\n",
              "      <td>132588</td>\n",
              "      <td>132651</td>\n",
              "      <td>132688</td>\n",
              "      <td>132724</td>\n",
              "      <td>132808</td>\n",
              "      <td>132880</td>\n",
              "      <td>132926</td>\n",
              "      <td>132926</td>\n",
              "      <td>132977</td>\n",
              "      <td>133007</td>\n",
              "      <td>133047</td>\n",
              "      <td>133091</td>\n",
              "    </tr>\n",
              "  </tbody>\n",
              "</table>\n",
              "<p>280 rows × 656 columns</p>\n",
              "</div>"
            ],
            "text/plain": [
              "    Province/State      Country/Region        Lat  ...  11/1/21  11/2/21  11/3/21\n",
              "0              NaN         Afghanistan  33.939110  ...   156284   156307   156323\n",
              "1              NaN             Albania  41.153300  ...   185497   186222   186793\n",
              "2              NaN             Algeria  28.033900  ...   206566   206649   206754\n",
              "3              NaN             Andorra  42.506300  ...    15516    15516    15572\n",
              "4              NaN              Angola -11.202700  ...    64458    64487    64533\n",
              "..             ...                 ...        ...  ...      ...      ...      ...\n",
              "275            NaN             Vietnam  14.058324  ...   926720   932357   939463\n",
              "276            NaN  West Bank and Gaza  31.952200  ...   453782   454172   454509\n",
              "277            NaN               Yemen  15.552727  ...     9799     9806     9810\n",
              "278            NaN              Zambia -13.133897  ...   209739   209760   209781\n",
              "279            NaN            Zimbabwe -19.015438  ...   133007   133047   133091\n",
              "\n",
              "[280 rows x 656 columns]"
            ]
          },
          "execution_count": 31,
          "metadata": {},
          "output_type": "execute_result"
        }
      ]
    },
    {
      "cell_type": "markdown",
      "metadata": {
        "id": "a24c2c1f"
      },
      "source": [
        "Аналогично семинару визуализируйте для Израиля и России следующие временные ряды:\n",
        "\n",
        "* общее количество зафиксированных случаев на каждый день\n",
        "* количество новых случаев за каждый день\n",
        "* разницу в количестве новых случаев с предыдущим днём"
      ],
      "id": "a24c2c1f"
    },
    {
      "cell_type": "code",
      "metadata": {
        "id": "sQH2cN2jDdsz"
      },
      "source": [
        "df = df[(df[\"Country/Region\"] == \"Israel\") | (df[\"Country/Region\"] == \"Russia\")]"
      ],
      "id": "sQH2cN2jDdsz",
      "execution_count": null,
      "outputs": []
    },
    {
      "cell_type": "code",
      "metadata": {
        "colab": {
          "base_uri": "https://localhost:8080/",
          "height": 419
        },
        "id": "49f4ad63",
        "outputId": "17cd859e-c260-4b76-df8a-5017ade03e2d"
      },
      "source": [
        "df_russia = df[df[\"Country/Region\"] == \"Russia\"].transpose().drop([\"Province/State\", \"Lat\", \"Long\", \"Country/Region\"], axis=0)\n",
        "df_russia[\"time\"] = df_russia.index\n",
        "df_russia = df_russia.rename(columns = {217 : \"count\"})\n",
        "df_russia[\"Country/Region\"] = \"Russia\"\n",
        "df_russia"
      ],
      "id": "49f4ad63",
      "execution_count": null,
      "outputs": [
        {
          "data": {
            "text/html": [
              "<div>\n",
              "<style scoped>\n",
              "    .dataframe tbody tr th:only-of-type {\n",
              "        vertical-align: middle;\n",
              "    }\n",
              "\n",
              "    .dataframe tbody tr th {\n",
              "        vertical-align: top;\n",
              "    }\n",
              "\n",
              "    .dataframe thead th {\n",
              "        text-align: right;\n",
              "    }\n",
              "</style>\n",
              "<table border=\"1\" class=\"dataframe\">\n",
              "  <thead>\n",
              "    <tr style=\"text-align: right;\">\n",
              "      <th></th>\n",
              "      <th>count</th>\n",
              "      <th>time</th>\n",
              "      <th>Country/Region</th>\n",
              "    </tr>\n",
              "  </thead>\n",
              "  <tbody>\n",
              "    <tr>\n",
              "      <th>1/22/20</th>\n",
              "      <td>0</td>\n",
              "      <td>1/22/20</td>\n",
              "      <td>Russia</td>\n",
              "    </tr>\n",
              "    <tr>\n",
              "      <th>1/23/20</th>\n",
              "      <td>0</td>\n",
              "      <td>1/23/20</td>\n",
              "      <td>Russia</td>\n",
              "    </tr>\n",
              "    <tr>\n",
              "      <th>1/24/20</th>\n",
              "      <td>0</td>\n",
              "      <td>1/24/20</td>\n",
              "      <td>Russia</td>\n",
              "    </tr>\n",
              "    <tr>\n",
              "      <th>1/25/20</th>\n",
              "      <td>0</td>\n",
              "      <td>1/25/20</td>\n",
              "      <td>Russia</td>\n",
              "    </tr>\n",
              "    <tr>\n",
              "      <th>1/26/20</th>\n",
              "      <td>0</td>\n",
              "      <td>1/26/20</td>\n",
              "      <td>Russia</td>\n",
              "    </tr>\n",
              "    <tr>\n",
              "      <th>...</th>\n",
              "      <td>...</td>\n",
              "      <td>...</td>\n",
              "      <td>...</td>\n",
              "    </tr>\n",
              "    <tr>\n",
              "      <th>10/30/21</th>\n",
              "      <td>8338053</td>\n",
              "      <td>10/30/21</td>\n",
              "      <td>Russia</td>\n",
              "    </tr>\n",
              "    <tr>\n",
              "      <th>10/31/21</th>\n",
              "      <td>8377984</td>\n",
              "      <td>10/31/21</td>\n",
              "      <td>Russia</td>\n",
              "    </tr>\n",
              "    <tr>\n",
              "      <th>11/1/21</th>\n",
              "      <td>8417305</td>\n",
              "      <td>11/1/21</td>\n",
              "      <td>Russia</td>\n",
              "    </tr>\n",
              "    <tr>\n",
              "      <th>11/2/21</th>\n",
              "      <td>8455232</td>\n",
              "      <td>11/2/21</td>\n",
              "      <td>Russia</td>\n",
              "    </tr>\n",
              "    <tr>\n",
              "      <th>11/3/21</th>\n",
              "      <td>8494589</td>\n",
              "      <td>11/3/21</td>\n",
              "      <td>Russia</td>\n",
              "    </tr>\n",
              "  </tbody>\n",
              "</table>\n",
              "<p>652 rows × 3 columns</p>\n",
              "</div>"
            ],
            "text/plain": [
              "            count      time Country/Region\n",
              "1/22/20         0   1/22/20         Russia\n",
              "1/23/20         0   1/23/20         Russia\n",
              "1/24/20         0   1/24/20         Russia\n",
              "1/25/20         0   1/25/20         Russia\n",
              "1/26/20         0   1/26/20         Russia\n",
              "...           ...       ...            ...\n",
              "10/30/21  8338053  10/30/21         Russia\n",
              "10/31/21  8377984  10/31/21         Russia\n",
              "11/1/21   8417305   11/1/21         Russia\n",
              "11/2/21   8455232   11/2/21         Russia\n",
              "11/3/21   8494589   11/3/21         Russia\n",
              "\n",
              "[652 rows x 3 columns]"
            ]
          },
          "execution_count": 84,
          "metadata": {},
          "output_type": "execute_result"
        }
      ]
    },
    {
      "cell_type": "code",
      "metadata": {
        "colab": {
          "base_uri": "https://localhost:8080/",
          "height": 419
        },
        "id": "faMbsEAcFykZ",
        "outputId": "5a05ddfc-b206-4653-939d-feccbbeaafce"
      },
      "source": [
        "df_israel = df[df[\"Country/Region\"] == \"Israel\"].transpose().drop([\"Province/State\", \"Lat\", \"Long\", \"Country/Region\"], axis=0)\n",
        "df_israel[\"time\"] = df_israel.index\n",
        "df_israel = df_israel.rename(columns = {152 : \"count\"})\n",
        "df_israel[\"Country/Region\"] = \"Israel\"\n",
        "df_israel"
      ],
      "id": "faMbsEAcFykZ",
      "execution_count": null,
      "outputs": [
        {
          "data": {
            "text/html": [
              "<div>\n",
              "<style scoped>\n",
              "    .dataframe tbody tr th:only-of-type {\n",
              "        vertical-align: middle;\n",
              "    }\n",
              "\n",
              "    .dataframe tbody tr th {\n",
              "        vertical-align: top;\n",
              "    }\n",
              "\n",
              "    .dataframe thead th {\n",
              "        text-align: right;\n",
              "    }\n",
              "</style>\n",
              "<table border=\"1\" class=\"dataframe\">\n",
              "  <thead>\n",
              "    <tr style=\"text-align: right;\">\n",
              "      <th></th>\n",
              "      <th>count</th>\n",
              "      <th>time</th>\n",
              "      <th>Country/Region</th>\n",
              "    </tr>\n",
              "  </thead>\n",
              "  <tbody>\n",
              "    <tr>\n",
              "      <th>1/22/20</th>\n",
              "      <td>0</td>\n",
              "      <td>1/22/20</td>\n",
              "      <td>Israel</td>\n",
              "    </tr>\n",
              "    <tr>\n",
              "      <th>1/23/20</th>\n",
              "      <td>0</td>\n",
              "      <td>1/23/20</td>\n",
              "      <td>Israel</td>\n",
              "    </tr>\n",
              "    <tr>\n",
              "      <th>1/24/20</th>\n",
              "      <td>0</td>\n",
              "      <td>1/24/20</td>\n",
              "      <td>Israel</td>\n",
              "    </tr>\n",
              "    <tr>\n",
              "      <th>1/25/20</th>\n",
              "      <td>0</td>\n",
              "      <td>1/25/20</td>\n",
              "      <td>Israel</td>\n",
              "    </tr>\n",
              "    <tr>\n",
              "      <th>1/26/20</th>\n",
              "      <td>0</td>\n",
              "      <td>1/26/20</td>\n",
              "      <td>Israel</td>\n",
              "    </tr>\n",
              "    <tr>\n",
              "      <th>...</th>\n",
              "      <td>...</td>\n",
              "      <td>...</td>\n",
              "      <td>...</td>\n",
              "    </tr>\n",
              "    <tr>\n",
              "      <th>10/30/21</th>\n",
              "      <td>1327126</td>\n",
              "      <td>10/30/21</td>\n",
              "      <td>Israel</td>\n",
              "    </tr>\n",
              "    <tr>\n",
              "      <th>10/31/21</th>\n",
              "      <td>1327458</td>\n",
              "      <td>10/31/21</td>\n",
              "      <td>Israel</td>\n",
              "    </tr>\n",
              "    <tr>\n",
              "      <th>11/1/21</th>\n",
              "      <td>1328218</td>\n",
              "      <td>11/1/21</td>\n",
              "      <td>Israel</td>\n",
              "    </tr>\n",
              "    <tr>\n",
              "      <th>11/2/21</th>\n",
              "      <td>1331597</td>\n",
              "      <td>11/2/21</td>\n",
              "      <td>Israel</td>\n",
              "    </tr>\n",
              "    <tr>\n",
              "      <th>11/3/21</th>\n",
              "      <td>1332247</td>\n",
              "      <td>11/3/21</td>\n",
              "      <td>Israel</td>\n",
              "    </tr>\n",
              "  </tbody>\n",
              "</table>\n",
              "<p>652 rows × 3 columns</p>\n",
              "</div>"
            ],
            "text/plain": [
              "            count      time Country/Region\n",
              "1/22/20         0   1/22/20         Israel\n",
              "1/23/20         0   1/23/20         Israel\n",
              "1/24/20         0   1/24/20         Israel\n",
              "1/25/20         0   1/25/20         Israel\n",
              "1/26/20         0   1/26/20         Israel\n",
              "...           ...       ...            ...\n",
              "10/30/21  1327126  10/30/21         Israel\n",
              "10/31/21  1327458  10/31/21         Israel\n",
              "11/1/21   1328218   11/1/21         Israel\n",
              "11/2/21   1331597   11/2/21         Israel\n",
              "11/3/21   1332247   11/3/21         Israel\n",
              "\n",
              "[652 rows x 3 columns]"
            ]
          },
          "execution_count": 63,
          "metadata": {},
          "output_type": "execute_result"
        }
      ]
    },
    {
      "cell_type": "code",
      "metadata": {
        "colab": {
          "base_uri": "https://localhost:8080/",
          "height": 419
        },
        "id": "KnWqZH4kF6pM",
        "outputId": "3e48d347-ebc6-47a4-8dcd-7092fa62bbd2"
      },
      "source": [
        "df1 = pd.concat([df_russia, df_israel], axis=0)\n",
        "df1.time = pd.to_datetime(df1.time)\n",
        "df1"
      ],
      "id": "KnWqZH4kF6pM",
      "execution_count": null,
      "outputs": [
        {
          "data": {
            "text/html": [
              "<div>\n",
              "<style scoped>\n",
              "    .dataframe tbody tr th:only-of-type {\n",
              "        vertical-align: middle;\n",
              "    }\n",
              "\n",
              "    .dataframe tbody tr th {\n",
              "        vertical-align: top;\n",
              "    }\n",
              "\n",
              "    .dataframe thead th {\n",
              "        text-align: right;\n",
              "    }\n",
              "</style>\n",
              "<table border=\"1\" class=\"dataframe\">\n",
              "  <thead>\n",
              "    <tr style=\"text-align: right;\">\n",
              "      <th></th>\n",
              "      <th>count</th>\n",
              "      <th>time</th>\n",
              "      <th>Country/Region</th>\n",
              "    </tr>\n",
              "  </thead>\n",
              "  <tbody>\n",
              "    <tr>\n",
              "      <th>1/22/20</th>\n",
              "      <td>0</td>\n",
              "      <td>2020-01-22</td>\n",
              "      <td>Russia</td>\n",
              "    </tr>\n",
              "    <tr>\n",
              "      <th>1/23/20</th>\n",
              "      <td>0</td>\n",
              "      <td>2020-01-23</td>\n",
              "      <td>Russia</td>\n",
              "    </tr>\n",
              "    <tr>\n",
              "      <th>1/24/20</th>\n",
              "      <td>0</td>\n",
              "      <td>2020-01-24</td>\n",
              "      <td>Russia</td>\n",
              "    </tr>\n",
              "    <tr>\n",
              "      <th>1/25/20</th>\n",
              "      <td>0</td>\n",
              "      <td>2020-01-25</td>\n",
              "      <td>Russia</td>\n",
              "    </tr>\n",
              "    <tr>\n",
              "      <th>1/26/20</th>\n",
              "      <td>0</td>\n",
              "      <td>2020-01-26</td>\n",
              "      <td>Russia</td>\n",
              "    </tr>\n",
              "    <tr>\n",
              "      <th>...</th>\n",
              "      <td>...</td>\n",
              "      <td>...</td>\n",
              "      <td>...</td>\n",
              "    </tr>\n",
              "    <tr>\n",
              "      <th>10/30/21</th>\n",
              "      <td>1327126</td>\n",
              "      <td>2021-10-30</td>\n",
              "      <td>Israel</td>\n",
              "    </tr>\n",
              "    <tr>\n",
              "      <th>10/31/21</th>\n",
              "      <td>1327458</td>\n",
              "      <td>2021-10-31</td>\n",
              "      <td>Israel</td>\n",
              "    </tr>\n",
              "    <tr>\n",
              "      <th>11/1/21</th>\n",
              "      <td>1328218</td>\n",
              "      <td>2021-11-01</td>\n",
              "      <td>Israel</td>\n",
              "    </tr>\n",
              "    <tr>\n",
              "      <th>11/2/21</th>\n",
              "      <td>1331597</td>\n",
              "      <td>2021-11-02</td>\n",
              "      <td>Israel</td>\n",
              "    </tr>\n",
              "    <tr>\n",
              "      <th>11/3/21</th>\n",
              "      <td>1332247</td>\n",
              "      <td>2021-11-03</td>\n",
              "      <td>Israel</td>\n",
              "    </tr>\n",
              "  </tbody>\n",
              "</table>\n",
              "<p>1304 rows × 3 columns</p>\n",
              "</div>"
            ],
            "text/plain": [
              "            count       time Country/Region\n",
              "1/22/20         0 2020-01-22         Russia\n",
              "1/23/20         0 2020-01-23         Russia\n",
              "1/24/20         0 2020-01-24         Russia\n",
              "1/25/20         0 2020-01-25         Russia\n",
              "1/26/20         0 2020-01-26         Russia\n",
              "...           ...        ...            ...\n",
              "10/30/21  1327126 2021-10-30         Israel\n",
              "10/31/21  1327458 2021-10-31         Israel\n",
              "11/1/21   1328218 2021-11-01         Israel\n",
              "11/2/21   1331597 2021-11-02         Israel\n",
              "11/3/21   1332247 2021-11-03         Israel\n",
              "\n",
              "[1304 rows x 3 columns]"
            ]
          },
          "execution_count": 68,
          "metadata": {},
          "output_type": "execute_result"
        }
      ]
    },
    {
      "cell_type": "code",
      "metadata": {
        "colab": {
          "base_uri": "https://localhost:8080/",
          "height": 313
        },
        "id": "ZgzbrsIvEGg6",
        "outputId": "cd940f0d-801f-49e0-8173-516a76218105"
      },
      "source": [
        "import seaborn as sns\n",
        "sns.set_theme(style=\"darkgrid\")\n",
        "\n",
        "\n",
        "# Plot the responses for different events and regions\n",
        "sns.lineplot(x=\"time\", y=\"count\",\n",
        "             data=df_russia)"
      ],
      "id": "ZgzbrsIvEGg6",
      "execution_count": null,
      "outputs": [
        {
          "data": {
            "text/plain": [
              "<matplotlib.axes._subplots.AxesSubplot at 0x7fd3b15fda10>"
            ]
          },
          "execution_count": 70,
          "metadata": {},
          "output_type": "execute_result"
        },
        {
          "data": {
            "image/png": "[encoded data removed]",
            "text/plain": [
              "<Figure size 432x288 with 1 Axes>"
            ]
          },
          "metadata": {},
          "output_type": "display_data"
        }
      ]
    },
    {
      "cell_type": "code",
      "metadata": {
        "colab": {
          "base_uri": "https://localhost:8080/",
          "height": 313
        },
        "id": "cGr1VfzIJPqQ",
        "outputId": "d5a9bc62-495e-4958-c04a-2b9b8cb3b3e4"
      },
      "source": [
        "import seaborn as sns\n",
        "sns.set_theme(style=\"darkgrid\")\n",
        "\n",
        "\n",
        "# Plot the responses for different events and regions\n",
        "sns.lineplot(x=\"time\", y=\"count\",\n",
        "             data=df_israel)"
      ],
      "id": "cGr1VfzIJPqQ",
      "execution_count": null,
      "outputs": [
        {
          "data": {
            "text/plain": [
              "<matplotlib.axes._subplots.AxesSubplot at 0x7fd3b2518310>"
            ]
          },
          "execution_count": 104,
          "metadata": {},
          "output_type": "execute_result"
        },
        {
          "data": {
            "image/png": "[encoded data removed]",
            "text/plain": [
              "<Figure size 432x288 with 1 Axes>"
            ]
          },
          "metadata": {},
          "output_type": "display_data"
        }
      ]
    },
    {
      "cell_type": "code",
      "metadata": {
        "colab": {
          "base_uri": "https://localhost:8080/",
          "height": 419
        },
        "id": "uGUrk9wTSTrs",
        "outputId": "27a8ebf0-08b5-436a-dc86-fdcefac61222"
      },
      "source": [
        "df_russia[\"diff\"] = df_russia[\"count\"].diff()\n",
        "df_russia.loc[\"1/22/20\", \"diff\"] = 0\n",
        "df_russia"
      ],
      "id": "uGUrk9wTSTrs",
      "execution_count": null,
      "outputs": [
        {
          "data": {
            "text/html": [
              "<div>\n",
              "<style scoped>\n",
              "    .dataframe tbody tr th:only-of-type {\n",
              "        vertical-align: middle;\n",
              "    }\n",
              "\n",
              "    .dataframe tbody tr th {\n",
              "        vertical-align: top;\n",
              "    }\n",
              "\n",
              "    .dataframe thead th {\n",
              "        text-align: right;\n",
              "    }\n",
              "</style>\n",
              "<table border=\"1\" class=\"dataframe\">\n",
              "  <thead>\n",
              "    <tr style=\"text-align: right;\">\n",
              "      <th></th>\n",
              "      <th>count</th>\n",
              "      <th>time</th>\n",
              "      <th>Country/Region</th>\n",
              "      <th>diff</th>\n",
              "    </tr>\n",
              "  </thead>\n",
              "  <tbody>\n",
              "    <tr>\n",
              "      <th>1/22/20</th>\n",
              "      <td>0</td>\n",
              "      <td>1/22/20</td>\n",
              "      <td>Russia</td>\n",
              "      <td>0</td>\n",
              "    </tr>\n",
              "    <tr>\n",
              "      <th>1/23/20</th>\n",
              "      <td>0</td>\n",
              "      <td>1/23/20</td>\n",
              "      <td>Russia</td>\n",
              "      <td>0</td>\n",
              "    </tr>\n",
              "    <tr>\n",
              "      <th>1/24/20</th>\n",
              "      <td>0</td>\n",
              "      <td>1/24/20</td>\n",
              "      <td>Russia</td>\n",
              "      <td>0</td>\n",
              "    </tr>\n",
              "    <tr>\n",
              "      <th>1/25/20</th>\n",
              "      <td>0</td>\n",
              "      <td>1/25/20</td>\n",
              "      <td>Russia</td>\n",
              "      <td>0</td>\n",
              "    </tr>\n",
              "    <tr>\n",
              "      <th>1/26/20</th>\n",
              "      <td>0</td>\n",
              "      <td>1/26/20</td>\n",
              "      <td>Russia</td>\n",
              "      <td>0</td>\n",
              "    </tr>\n",
              "    <tr>\n",
              "      <th>...</th>\n",
              "      <td>...</td>\n",
              "      <td>...</td>\n",
              "      <td>...</td>\n",
              "      <td>...</td>\n",
              "    </tr>\n",
              "    <tr>\n",
              "      <th>10/30/21</th>\n",
              "      <td>8338053</td>\n",
              "      <td>10/30/21</td>\n",
              "      <td>Russia</td>\n",
              "      <td>39203</td>\n",
              "    </tr>\n",
              "    <tr>\n",
              "      <th>10/31/21</th>\n",
              "      <td>8377984</td>\n",
              "      <td>10/31/21</td>\n",
              "      <td>Russia</td>\n",
              "      <td>39931</td>\n",
              "    </tr>\n",
              "    <tr>\n",
              "      <th>11/1/21</th>\n",
              "      <td>8417305</td>\n",
              "      <td>11/1/21</td>\n",
              "      <td>Russia</td>\n",
              "      <td>39321</td>\n",
              "    </tr>\n",
              "    <tr>\n",
              "      <th>11/2/21</th>\n",
              "      <td>8455232</td>\n",
              "      <td>11/2/21</td>\n",
              "      <td>Russia</td>\n",
              "      <td>37927</td>\n",
              "    </tr>\n",
              "    <tr>\n",
              "      <th>11/3/21</th>\n",
              "      <td>8494589</td>\n",
              "      <td>11/3/21</td>\n",
              "      <td>Russia</td>\n",
              "      <td>39357</td>\n",
              "    </tr>\n",
              "  </tbody>\n",
              "</table>\n",
              "<p>652 rows × 4 columns</p>\n",
              "</div>"
            ],
            "text/plain": [
              "            count      time Country/Region   diff\n",
              "1/22/20         0   1/22/20         Russia      0\n",
              "1/23/20         0   1/23/20         Russia      0\n",
              "1/24/20         0   1/24/20         Russia      0\n",
              "1/25/20         0   1/25/20         Russia      0\n",
              "1/26/20         0   1/26/20         Russia      0\n",
              "...           ...       ...            ...    ...\n",
              "10/30/21  8338053  10/30/21         Russia  39203\n",
              "10/31/21  8377984  10/31/21         Russia  39931\n",
              "11/1/21   8417305   11/1/21         Russia  39321\n",
              "11/2/21   8455232   11/2/21         Russia  37927\n",
              "11/3/21   8494589   11/3/21         Russia  39357\n",
              "\n",
              "[652 rows x 4 columns]"
            ]
          },
          "execution_count": 89,
          "metadata": {},
          "output_type": "execute_result"
        }
      ]
    },
    {
      "cell_type": "code",
      "metadata": {
        "colab": {
          "base_uri": "https://localhost:8080/",
          "height": 419
        },
        "id": "2N5lc8guTlha",
        "outputId": "cec8cd3c-2072-443e-957a-f2d4498be7cc"
      },
      "source": [
        "df_israel[\"diff\"] = df_israel[\"count\"].diff()\n",
        "df_israel.loc[\"1/22/20\", \"diff\"] = 0\n",
        "df_israel"
      ],
      "id": "2N5lc8guTlha",
      "execution_count": null,
      "outputs": [
        {
          "data": {
            "text/html": [
              "<div>\n",
              "<style scoped>\n",
              "    .dataframe tbody tr th:only-of-type {\n",
              "        vertical-align: middle;\n",
              "    }\n",
              "\n",
              "    .dataframe tbody tr th {\n",
              "        vertical-align: top;\n",
              "    }\n",
              "\n",
              "    .dataframe thead th {\n",
              "        text-align: right;\n",
              "    }\n",
              "</style>\n",
              "<table border=\"1\" class=\"dataframe\">\n",
              "  <thead>\n",
              "    <tr style=\"text-align: right;\">\n",
              "      <th></th>\n",
              "      <th>count</th>\n",
              "      <th>time</th>\n",
              "      <th>Country/Region</th>\n",
              "      <th>diff</th>\n",
              "    </tr>\n",
              "  </thead>\n",
              "  <tbody>\n",
              "    <tr>\n",
              "      <th>1/22/20</th>\n",
              "      <td>0</td>\n",
              "      <td>1/22/20</td>\n",
              "      <td>Israel</td>\n",
              "      <td>0</td>\n",
              "    </tr>\n",
              "    <tr>\n",
              "      <th>1/23/20</th>\n",
              "      <td>0</td>\n",
              "      <td>1/23/20</td>\n",
              "      <td>Israel</td>\n",
              "      <td>0</td>\n",
              "    </tr>\n",
              "    <tr>\n",
              "      <th>1/24/20</th>\n",
              "      <td>0</td>\n",
              "      <td>1/24/20</td>\n",
              "      <td>Israel</td>\n",
              "      <td>0</td>\n",
              "    </tr>\n",
              "    <tr>\n",
              "      <th>1/25/20</th>\n",
              "      <td>0</td>\n",
              "      <td>1/25/20</td>\n",
              "      <td>Israel</td>\n",
              "      <td>0</td>\n",
              "    </tr>\n",
              "    <tr>\n",
              "      <th>1/26/20</th>\n",
              "      <td>0</td>\n",
              "      <td>1/26/20</td>\n",
              "      <td>Israel</td>\n",
              "      <td>0</td>\n",
              "    </tr>\n",
              "    <tr>\n",
              "      <th>...</th>\n",
              "      <td>...</td>\n",
              "      <td>...</td>\n",
              "      <td>...</td>\n",
              "      <td>...</td>\n",
              "    </tr>\n",
              "    <tr>\n",
              "      <th>10/30/21</th>\n",
              "      <td>1327126</td>\n",
              "      <td>10/30/21</td>\n",
              "      <td>Israel</td>\n",
              "      <td>384</td>\n",
              "    </tr>\n",
              "    <tr>\n",
              "      <th>10/31/21</th>\n",
              "      <td>1327458</td>\n",
              "      <td>10/31/21</td>\n",
              "      <td>Israel</td>\n",
              "      <td>332</td>\n",
              "    </tr>\n",
              "    <tr>\n",
              "      <th>11/1/21</th>\n",
              "      <td>1328218</td>\n",
              "      <td>11/1/21</td>\n",
              "      <td>Israel</td>\n",
              "      <td>760</td>\n",
              "    </tr>\n",
              "    <tr>\n",
              "      <th>11/2/21</th>\n",
              "      <td>1331597</td>\n",
              "      <td>11/2/21</td>\n",
              "      <td>Israel</td>\n",
              "      <td>3379</td>\n",
              "    </tr>\n",
              "    <tr>\n",
              "      <th>11/3/21</th>\n",
              "      <td>1332247</td>\n",
              "      <td>11/3/21</td>\n",
              "      <td>Israel</td>\n",
              "      <td>650</td>\n",
              "    </tr>\n",
              "  </tbody>\n",
              "</table>\n",
              "<p>652 rows × 4 columns</p>\n",
              "</div>"
            ],
            "text/plain": [
              "            count      time Country/Region  diff\n",
              "1/22/20         0   1/22/20         Israel     0\n",
              "1/23/20         0   1/23/20         Israel     0\n",
              "1/24/20         0   1/24/20         Israel     0\n",
              "1/25/20         0   1/25/20         Israel     0\n",
              "1/26/20         0   1/26/20         Israel     0\n",
              "...           ...       ...            ...   ...\n",
              "10/30/21  1327126  10/30/21         Israel   384\n",
              "10/31/21  1327458  10/31/21         Israel   332\n",
              "11/1/21   1328218   11/1/21         Israel   760\n",
              "11/2/21   1331597   11/2/21         Israel  3379\n",
              "11/3/21   1332247   11/3/21         Israel   650\n",
              "\n",
              "[652 rows x 4 columns]"
            ]
          },
          "execution_count": 90,
          "metadata": {},
          "output_type": "execute_result"
        }
      ]
    },
    {
      "cell_type": "code",
      "metadata": {
        "colab": {
          "base_uri": "https://localhost:8080/",
          "height": 285
        },
        "id": "vtlmdojbTtaz",
        "outputId": "9230ee6f-38a3-40eb-96f1-7c1e89224580"
      },
      "source": [
        "df_russia[\"diff\"].plot()"
      ],
      "id": "vtlmdojbTtaz",
      "execution_count": null,
      "outputs": [
        {
          "data": {
            "text/plain": [
              "<matplotlib.axes._subplots.AxesSubplot at 0x7fd3b150fb50>"
            ]
          },
          "execution_count": 159,
          "metadata": {},
          "output_type": "execute_result"
        },
        {
          "data": {
            "image/png": "[encoded data removed]",
            "text/plain": [
              "<Figure size 432x288 with 1 Axes>"
            ]
          },
          "metadata": {},
          "output_type": "display_data"
        }
      ]
    },
    {
      "cell_type": "code",
      "metadata": {
        "colab": {
          "base_uri": "https://localhost:8080/",
          "height": 285
        },
        "id": "Irq4-OchT73t",
        "outputId": "cb0b144a-c945-49f1-f41e-1ecd307d2187"
      },
      "source": [
        "df_israel[\"diff\"].plot()"
      ],
      "id": "Irq4-OchT73t",
      "execution_count": null,
      "outputs": [
        {
          "data": {
            "text/plain": [
              "<matplotlib.axes._subplots.AxesSubplot at 0x7fd3b14d2e90>"
            ]
          },
          "execution_count": 160,
          "metadata": {},
          "output_type": "execute_result"
        },
        {
          "data": {
            "image/png": "[encoded data removed]",
            "text/plain": [
              "<Figure size 432x288 with 1 Axes>"
            ]
          },
          "metadata": {},
          "output_type": "display_data"
        }
      ]
    },
    {
      "cell_type": "code",
      "metadata": {
        "colab": {
          "base_uri": "https://localhost:8080/",
          "height": 419
        },
        "id": "6ugSrWfHUHMY",
        "outputId": "87a8b618-a1b2-46ef-b625-29f89e085e79"
      },
      "source": [
        "df_russia[\"diff_diff\"] = df_russia[\"diff\"].diff()\n",
        "df_russia.loc[\"1/22/20\", \"diff_diff\"] = 0\n",
        "df_russia"
      ],
      "id": "6ugSrWfHUHMY",
      "execution_count": null,
      "outputs": [
        {
          "data": {
            "text/html": [
              "<div>\n",
              "<style scoped>\n",
              "    .dataframe tbody tr th:only-of-type {\n",
              "        vertical-align: middle;\n",
              "    }\n",
              "\n",
              "    .dataframe tbody tr th {\n",
              "        vertical-align: top;\n",
              "    }\n",
              "\n",
              "    .dataframe thead th {\n",
              "        text-align: right;\n",
              "    }\n",
              "</style>\n",
              "<table border=\"1\" class=\"dataframe\">\n",
              "  <thead>\n",
              "    <tr style=\"text-align: right;\">\n",
              "      <th></th>\n",
              "      <th>count</th>\n",
              "      <th>time</th>\n",
              "      <th>Country/Region</th>\n",
              "      <th>diff</th>\n",
              "      <th>diff_diff</th>\n",
              "    </tr>\n",
              "  </thead>\n",
              "  <tbody>\n",
              "    <tr>\n",
              "      <th>1/22/20</th>\n",
              "      <td>0</td>\n",
              "      <td>1/22/20</td>\n",
              "      <td>Russia</td>\n",
              "      <td>0</td>\n",
              "      <td>0</td>\n",
              "    </tr>\n",
              "    <tr>\n",
              "      <th>1/23/20</th>\n",
              "      <td>0</td>\n",
              "      <td>1/23/20</td>\n",
              "      <td>Russia</td>\n",
              "      <td>0</td>\n",
              "      <td>0</td>\n",
              "    </tr>\n",
              "    <tr>\n",
              "      <th>1/24/20</th>\n",
              "      <td>0</td>\n",
              "      <td>1/24/20</td>\n",
              "      <td>Russia</td>\n",
              "      <td>0</td>\n",
              "      <td>0</td>\n",
              "    </tr>\n",
              "    <tr>\n",
              "      <th>1/25/20</th>\n",
              "      <td>0</td>\n",
              "      <td>1/25/20</td>\n",
              "      <td>Russia</td>\n",
              "      <td>0</td>\n",
              "      <td>0</td>\n",
              "    </tr>\n",
              "    <tr>\n",
              "      <th>1/26/20</th>\n",
              "      <td>0</td>\n",
              "      <td>1/26/20</td>\n",
              "      <td>Russia</td>\n",
              "      <td>0</td>\n",
              "      <td>0</td>\n",
              "    </tr>\n",
              "    <tr>\n",
              "      <th>...</th>\n",
              "      <td>...</td>\n",
              "      <td>...</td>\n",
              "      <td>...</td>\n",
              "      <td>...</td>\n",
              "      <td>...</td>\n",
              "    </tr>\n",
              "    <tr>\n",
              "      <th>10/30/21</th>\n",
              "      <td>8338053</td>\n",
              "      <td>10/30/21</td>\n",
              "      <td>Russia</td>\n",
              "      <td>39203</td>\n",
              "      <td>398</td>\n",
              "    </tr>\n",
              "    <tr>\n",
              "      <th>10/31/21</th>\n",
              "      <td>8377984</td>\n",
              "      <td>10/31/21</td>\n",
              "      <td>Russia</td>\n",
              "      <td>39931</td>\n",
              "      <td>728</td>\n",
              "    </tr>\n",
              "    <tr>\n",
              "      <th>11/1/21</th>\n",
              "      <td>8417305</td>\n",
              "      <td>11/1/21</td>\n",
              "      <td>Russia</td>\n",
              "      <td>39321</td>\n",
              "      <td>-610</td>\n",
              "    </tr>\n",
              "    <tr>\n",
              "      <th>11/2/21</th>\n",
              "      <td>8455232</td>\n",
              "      <td>11/2/21</td>\n",
              "      <td>Russia</td>\n",
              "      <td>37927</td>\n",
              "      <td>-1394</td>\n",
              "    </tr>\n",
              "    <tr>\n",
              "      <th>11/3/21</th>\n",
              "      <td>8494589</td>\n",
              "      <td>11/3/21</td>\n",
              "      <td>Russia</td>\n",
              "      <td>39357</td>\n",
              "      <td>1430</td>\n",
              "    </tr>\n",
              "  </tbody>\n",
              "</table>\n",
              "<p>652 rows × 5 columns</p>\n",
              "</div>"
            ],
            "text/plain": [
              "            count      time Country/Region   diff diff_diff\n",
              "1/22/20         0   1/22/20         Russia      0         0\n",
              "1/23/20         0   1/23/20         Russia      0         0\n",
              "1/24/20         0   1/24/20         Russia      0         0\n",
              "1/25/20         0   1/25/20         Russia      0         0\n",
              "1/26/20         0   1/26/20         Russia      0         0\n",
              "...           ...       ...            ...    ...       ...\n",
              "10/30/21  8338053  10/30/21         Russia  39203       398\n",
              "10/31/21  8377984  10/31/21         Russia  39931       728\n",
              "11/1/21   8417305   11/1/21         Russia  39321      -610\n",
              "11/2/21   8455232   11/2/21         Russia  37927     -1394\n",
              "11/3/21   8494589   11/3/21         Russia  39357      1430\n",
              "\n",
              "[652 rows x 5 columns]"
            ]
          },
          "execution_count": 95,
          "metadata": {},
          "output_type": "execute_result"
        }
      ]
    },
    {
      "cell_type": "code",
      "metadata": {
        "colab": {
          "base_uri": "https://localhost:8080/",
          "height": 419
        },
        "id": "thnZYbUbUNF8",
        "outputId": "cd1fa5e5-6fb4-4878-bb19-964468abe89f"
      },
      "source": [
        "df_israel[\"diff_diff\"] = df_israel[\"diff\"].diff()\n",
        "df_israel.loc[\"1/22/20\", \"diff_diff\"] = 0\n",
        "df_israel"
      ],
      "id": "thnZYbUbUNF8",
      "execution_count": null,
      "outputs": [
        {
          "data": {
            "text/html": [
              "<div>\n",
              "<style scoped>\n",
              "    .dataframe tbody tr th:only-of-type {\n",
              "        vertical-align: middle;\n",
              "    }\n",
              "\n",
              "    .dataframe tbody tr th {\n",
              "        vertical-align: top;\n",
              "    }\n",
              "\n",
              "    .dataframe thead th {\n",
              "        text-align: right;\n",
              "    }\n",
              "</style>\n",
              "<table border=\"1\" class=\"dataframe\">\n",
              "  <thead>\n",
              "    <tr style=\"text-align: right;\">\n",
              "      <th></th>\n",
              "      <th>count</th>\n",
              "      <th>time</th>\n",
              "      <th>Country/Region</th>\n",
              "      <th>diff</th>\n",
              "      <th>diff_diff</th>\n",
              "    </tr>\n",
              "  </thead>\n",
              "  <tbody>\n",
              "    <tr>\n",
              "      <th>1/22/20</th>\n",
              "      <td>0</td>\n",
              "      <td>1/22/20</td>\n",
              "      <td>Israel</td>\n",
              "      <td>0</td>\n",
              "      <td>0</td>\n",
              "    </tr>\n",
              "    <tr>\n",
              "      <th>1/23/20</th>\n",
              "      <td>0</td>\n",
              "      <td>1/23/20</td>\n",
              "      <td>Israel</td>\n",
              "      <td>0</td>\n",
              "      <td>0</td>\n",
              "    </tr>\n",
              "    <tr>\n",
              "      <th>1/24/20</th>\n",
              "      <td>0</td>\n",
              "      <td>1/24/20</td>\n",
              "      <td>Israel</td>\n",
              "      <td>0</td>\n",
              "      <td>0</td>\n",
              "    </tr>\n",
              "    <tr>\n",
              "      <th>1/25/20</th>\n",
              "      <td>0</td>\n",
              "      <td>1/25/20</td>\n",
              "      <td>Israel</td>\n",
              "      <td>0</td>\n",
              "      <td>0</td>\n",
              "    </tr>\n",
              "    <tr>\n",
              "      <th>1/26/20</th>\n",
              "      <td>0</td>\n",
              "      <td>1/26/20</td>\n",
              "      <td>Israel</td>\n",
              "      <td>0</td>\n",
              "      <td>0</td>\n",
              "    </tr>\n",
              "    <tr>\n",
              "      <th>...</th>\n",
              "      <td>...</td>\n",
              "      <td>...</td>\n",
              "      <td>...</td>\n",
              "      <td>...</td>\n",
              "      <td>...</td>\n",
              "    </tr>\n",
              "    <tr>\n",
              "      <th>10/30/21</th>\n",
              "      <td>1327126</td>\n",
              "      <td>10/30/21</td>\n",
              "      <td>Israel</td>\n",
              "      <td>384</td>\n",
              "      <td>-187</td>\n",
              "    </tr>\n",
              "    <tr>\n",
              "      <th>10/31/21</th>\n",
              "      <td>1327458</td>\n",
              "      <td>10/31/21</td>\n",
              "      <td>Israel</td>\n",
              "      <td>332</td>\n",
              "      <td>-52</td>\n",
              "    </tr>\n",
              "    <tr>\n",
              "      <th>11/1/21</th>\n",
              "      <td>1328218</td>\n",
              "      <td>11/1/21</td>\n",
              "      <td>Israel</td>\n",
              "      <td>760</td>\n",
              "      <td>428</td>\n",
              "    </tr>\n",
              "    <tr>\n",
              "      <th>11/2/21</th>\n",
              "      <td>1331597</td>\n",
              "      <td>11/2/21</td>\n",
              "      <td>Israel</td>\n",
              "      <td>3379</td>\n",
              "      <td>2619</td>\n",
              "    </tr>\n",
              "    <tr>\n",
              "      <th>11/3/21</th>\n",
              "      <td>1332247</td>\n",
              "      <td>11/3/21</td>\n",
              "      <td>Israel</td>\n",
              "      <td>650</td>\n",
              "      <td>-2729</td>\n",
              "    </tr>\n",
              "  </tbody>\n",
              "</table>\n",
              "<p>652 rows × 5 columns</p>\n",
              "</div>"
            ],
            "text/plain": [
              "            count      time Country/Region  diff diff_diff\n",
              "1/22/20         0   1/22/20         Israel     0         0\n",
              "1/23/20         0   1/23/20         Israel     0         0\n",
              "1/24/20         0   1/24/20         Israel     0         0\n",
              "1/25/20         0   1/25/20         Israel     0         0\n",
              "1/26/20         0   1/26/20         Israel     0         0\n",
              "...           ...       ...            ...   ...       ...\n",
              "10/30/21  1327126  10/30/21         Israel   384      -187\n",
              "10/31/21  1327458  10/31/21         Israel   332       -52\n",
              "11/1/21   1328218   11/1/21         Israel   760       428\n",
              "11/2/21   1331597   11/2/21         Israel  3379      2619\n",
              "11/3/21   1332247   11/3/21         Israel   650     -2729\n",
              "\n",
              "[652 rows x 5 columns]"
            ]
          },
          "execution_count": 96,
          "metadata": {},
          "output_type": "execute_result"
        }
      ]
    },
    {
      "cell_type": "code",
      "metadata": {
        "colab": {
          "base_uri": "https://localhost:8080/",
          "height": 285
        },
        "id": "eAEW-AGsUQlr",
        "outputId": "cda8d655-1bb8-4486-8834-6f34a193f53e"
      },
      "source": [
        "df_russia[\"diff_diff\"].plot()"
      ],
      "id": "eAEW-AGsUQlr",
      "execution_count": null,
      "outputs": [
        {
          "data": {
            "text/plain": [
              "<matplotlib.axes._subplots.AxesSubplot at 0x7fd3b159a850>"
            ]
          },
          "execution_count": 157,
          "metadata": {},
          "output_type": "execute_result"
        },
        {
          "data": {
            "image/png": "[encoded data removed]",
            "text/plain": [
              "<Figure size 432x288 with 1 Axes>"
            ]
          },
          "metadata": {},
          "output_type": "display_data"
        }
      ]
    },
    {
      "cell_type": "code",
      "metadata": {
        "colab": {
          "base_uri": "https://localhost:8080/",
          "height": 285
        },
        "id": "7MDsGcunUSjz",
        "outputId": "600bfd06-5841-422d-df91-c3efaed18098"
      },
      "source": [
        "df_israel[\"diff_diff\"].plot()"
      ],
      "id": "7MDsGcunUSjz",
      "execution_count": null,
      "outputs": [
        {
          "data": {
            "text/plain": [
              "<matplotlib.axes._subplots.AxesSubplot at 0x7fd3b1704890>"
            ]
          },
          "execution_count": 156,
          "metadata": {},
          "output_type": "execute_result"
        },
        {
          "data": {
            "image/png": "[encoded data removed]",
            "text/plain": [
              "<Figure size 432x288 with 1 Axes>"
            ]
          },
          "metadata": {},
          "output_type": "display_data"
        }
      ]
    },
    {
      "cell_type": "markdown",
      "metadata": {
        "id": "82bf7df4"
      },
      "source": [
        "**Работа с исходным рядом**\n",
        "\n",
        "На семинаре начало новой волны мы детектировали через изменение дисперсии в разнице случаев с предыдущим днём. Но причин для роста дисперсии может быть много, например, сбои в работе лабораторий. Ваша задача состоит в том, чтобы детектировать новую волну коронавируса как можно скорее, но делать это на основе среднего изменения количества новых случаев.\n",
        "\n",
        "Если начинается волна коронавируса, то новых случаев с каждым днём должно быть больше и больше. Соответственно, третий визуализированный временной ряд должен быть в положительной области. Но мы видим, что это не так, как раз из-за большой дисперсии. Но тем не менее в среднем изменения положительные, поэтому с помощью различия в средних тоже можно уловить изменение."
      ],
      "id": "82bf7df4"
    },
    {
      "cell_type": "markdown",
      "metadata": {
        "id": "3dff6d5c"
      },
      "source": [
        "Для того, чтобы детектировать новую волну, будем использовать статистику CUSUM. Требуется выбрать распределения $\\mathsf{P}_0$ и $\\mathsf{P}_\\infty$, а также порог статистики, при котором объявляется разладка. В качестве распределений возьмите нормальные распределения с различным средним, но с одинаковой дисперсией.\n",
        "\n",
        "Подберите параметры на данных из Израиля, визуализируйте значения статистики."
      ],
      "id": "3dff6d5c"
    },
    {
      "cell_type": "code",
      "metadata": {
        "id": "c72f9277"
      },
      "source": [
        "from scipy.stats import norm\n",
        "loc = df_israel[\"diff_diff\"].mean()\n",
        "scale = np.sqrt(df_israel[\"diff_diff\"].var())\n",
        "p_0 = norm.pdf(df_israel[\"diff_diff\"].to_numpy().tolist(), loc=2*loc, scale=scale)\n",
        "p_inf = norm.pdf(df_israel[\"diff_diff\"].to_numpy().tolist(), loc=loc, scale=scale)"
      ],
      "id": "c72f9277",
      "execution_count": null,
      "outputs": []
    },
    {
      "cell_type": "code",
      "metadata": {
        "id": "eAVWQ7agMBNL"
      },
      "source": [
        "n = df_israel[\"diff_diff\"].shape[0]\n",
        "cusum = np.zeros(n)\n",
        "for i in range(n):\n",
        "  cumsum[i] = np.prod(p_0[:i]/p_inf[:i])\n",
        "df_israel[\"cusum\"] = cusum"
      ],
      "id": "eAVWQ7agMBNL",
      "execution_count": null,
      "outputs": []
    },
    {
      "cell_type": "code",
      "metadata": {
        "id": "dM9_hfWqUZH-"
      },
      "source": [
        "df_israel[\"cusum\"] = cusum"
      ],
      "id": "dM9_hfWqUZH-",
      "execution_count": null,
      "outputs": []
    },
    {
      "cell_type": "code",
      "metadata": {
        "id": "BkcoludTVbUW"
      },
      "source": [
        "df_israel[\"threashold\"] = 1.002"
      ],
      "id": "BkcoludTVbUW",
      "execution_count": null,
      "outputs": []
    },
    {
      "cell_type": "code",
      "metadata": {
        "colab": {
          "base_uri": "https://localhost:8080/",
          "height": 285
        },
        "id": "6wmjNi5NUYQR",
        "outputId": "1ca2e516-5641-4adc-aaf0-6b4d6dab0525"
      },
      "source": [
        "df_israel[\"cusum\"].plot()\n",
        "df_israel[\"threashold\"].plot()"
      ],
      "id": "6wmjNi5NUYQR",
      "execution_count": null,
      "outputs": [
        {
          "data": {
            "text/plain": [
              "<matplotlib.axes._subplots.AxesSubplot at 0x7fd3b1004b10>"
            ]
          },
          "execution_count": 185,
          "metadata": {},
          "output_type": "execute_result"
        },
        {
          "data": {
            "image/png": "[encoded data removed]",
            "text/plain": [
              "<Figure size 432x288 with 1 Axes>"
            ]
          },
          "metadata": {},
          "output_type": "display_data"
        }
      ]
    },
    {
      "cell_type": "code",
      "metadata": {
        "colab": {
          "base_uri": "https://localhost:8080/",
          "height": 296
        },
        "id": "RIVJjoT3WPxW",
        "outputId": "0eb0f61a-625a-48d1-b7ad-58c3cce85716"
      },
      "source": [
        "df_israel[\"count\"].plot()"
      ],
      "id": "RIVJjoT3WPxW",
      "execution_count": null,
      "outputs": [
        {
          "data": {
            "text/plain": [
              "<matplotlib.axes._subplots.AxesSubplot at 0x7fd3b0f85a50>"
            ]
          },
          "execution_count": 186,
          "metadata": {},
          "output_type": "execute_result"
        },
        {
          "data": {
            "image/png": "[encoded data removed]",
            "text/plain": [
              "<Figure size 432x288 with 1 Axes>"
            ]
          },
          "metadata": {},
          "output_type": "display_data"
        }
      ]
    },
    {
      "cell_type": "markdown",
      "metadata": {
        "id": "7ca0acce"
      },
      "source": [
        "С теми же параметрами на данных из России проверьте, с каким отставанием детектируются новые волны. Как ведёт себя статистика, когда волна коронавируса спадает?"
      ],
      "id": "7ca0acce"
    },
    {
      "cell_type": "code",
      "metadata": {
        "id": "QsHPfeKJWcLb"
      },
      "source": [
        "from scipy.stats import norm\n",
        "loc = df_russia[\"diff_diff\"].mean()\n",
        "scale = np.sqrt(df_russia[\"diff_diff\"].var())\n",
        "p_0 = norm.pdf(df_russia[\"diff_diff\"].to_numpy().tolist(), loc=2*loc, scale=scale)\n",
        "p_inf = norm.pdf(df_russia[\"diff_diff\"].to_numpy().tolist(), loc=loc, scale=scale)"
      ],
      "id": "QsHPfeKJWcLb",
      "execution_count": null,
      "outputs": []
    },
    {
      "cell_type": "code",
      "metadata": {
        "id": "B4oj85RHWcLc"
      },
      "source": [
        "n = df_russia[\"diff_diff\"].shape[0]\n",
        "cusum = np.zeros(n)\n",
        "for i in range(n):\n",
        "  cusum[i] = np.prod(p_0[:i]/p_inf[:i])\n",
        "df_russia[\"cumsum\"] = cusum"
      ],
      "id": "B4oj85RHWcLc",
      "execution_count": null,
      "outputs": []
    },
    {
      "cell_type": "code",
      "metadata": {
        "id": "xeTYvI-8WcLc"
      },
      "source": [
        "df_russia[\"cusum\"] = cusum"
      ],
      "id": "xeTYvI-8WcLc",
      "execution_count": null,
      "outputs": []
    },
    {
      "cell_type": "code",
      "metadata": {
        "id": "YID1heSAWcLd"
      },
      "source": [
        "df_russia[\"threashold\"] = 0.4"
      ],
      "id": "YID1heSAWcLd",
      "execution_count": null,
      "outputs": []
    },
    {
      "cell_type": "code",
      "metadata": {
        "colab": {
          "base_uri": "https://localhost:8080/",
          "height": 285
        },
        "id": "ygAhIwvPWcLd",
        "outputId": "10a65ce5-bace-4cbb-8d56-6725e350c3ff"
      },
      "source": [
        "df_russia[\"cusum\"].plot()\n",
        "df_russia[\"threashold\"].plot()"
      ],
      "id": "ygAhIwvPWcLd",
      "execution_count": null,
      "outputs": [
        {
          "data": {
            "text/plain": [
              "<matplotlib.axes._subplots.AxesSubplot at 0x7fd3b0ca2210>"
            ]
          },
          "execution_count": 197,
          "metadata": {},
          "output_type": "execute_result"
        },
        {
          "data": {
            "image/png": "[encoded data removed]",
            "text/plain": [
              "<Figure size 432x288 with 1 Axes>"
            ]
          },
          "metadata": {},
          "output_type": "display_data"
        }
      ]
    },
    {
      "cell_type": "code",
      "metadata": {
        "colab": {
          "base_uri": "https://localhost:8080/",
          "height": 296
        },
        "id": "vf9z1a2lWcLd",
        "outputId": "38ae73a9-692d-4beb-db92-0eaa8d8803bf"
      },
      "source": [
        "df_russia[\"count\"].plot()"
      ],
      "id": "vf9z1a2lWcLd",
      "execution_count": null,
      "outputs": [
        {
          "data": {
            "text/plain": [
              "<matplotlib.axes._subplots.AxesSubplot at 0x7fd3b0c1bd10>"
            ]
          },
          "execution_count": 198,
          "metadata": {},
          "output_type": "execute_result"
        },
        {
          "data": {
            "image/png": "[encoded data removed]",
            "text/plain": [
              "<Figure size 432x288 with 1 Axes>"
            ]
          },
          "metadata": {},
          "output_type": "display_data"
        }
      ]
    },
    {
      "cell_type": "markdown",
      "metadata": {
        "id": "c2cnbBmyPoSe"
      },
      "source": [
        "Когда волна коронавируса спадает, статистика увеличивается"
      ],
      "id": "c2cnbBmyPoSe"
    },
    {
      "cell_type": "markdown",
      "metadata": {
        "id": "70e85340"
      },
      "source": [
        "**Работа со сглаженным рядом**\n",
        "\n",
        "Чтобы понизить уровень шума, стоит усреднить данные новых случаев с окном длиной в 7 дней и смотреть на разницу соседних значений уже в этом ряду. Изобразите теперь сглаженный ряд и разницы его соседних значений для России и Израиля, сделайте вывод.\n",
        "\n",
        "Функция для сглаживания дана ниже, это частный случай свёртки."
      ],
      "id": "70e85340"
    },
    {
      "cell_type": "code",
      "metadata": {
        "id": "73d7a4dd"
      },
      "source": [
        "def smooth_ts(ts, n_points=7):\n",
        "    \"\"\"Сглаживает временной ряд\"\"\"\n",
        "    return np.convolve(ts, np.ones(n_points) / n_points, mode='valid')"
      ],
      "id": "73d7a4dd",
      "execution_count": null,
      "outputs": []
    },
    {
      "cell_type": "code",
      "metadata": {
        "colab": {
          "base_uri": "https://localhost:8080/",
          "height": 307
        },
        "id": "d16d2417",
        "outputId": "456ecb99-d5d7-4c1b-c33b-926580ebed40"
      },
      "source": [
        "count_russia_smooth = pd.DataFrame(smooth_ts(df_russia[\"count\"]), index=pd.date_range(\"2020-01-22\", \"2021-10-28\", freq=\"D\"))\n",
        "count_russia_smooth.plot()"
      ],
      "id": "d16d2417",
      "execution_count": null,
      "outputs": [
        {
          "data": {
            "text/plain": [
              "<matplotlib.axes._subplots.AxesSubplot at 0x7fd3b0605390>"
            ]
          },
          "execution_count": 215,
          "metadata": {},
          "output_type": "execute_result"
        },
        {
          "data": {
            "image/png": "[encoded data removed]",
            "text/plain": [
              "<Figure size 432x288 with 1 Axes>"
            ]
          },
          "metadata": {},
          "output_type": "display_data"
        }
      ]
    },
    {
      "cell_type": "code",
      "metadata": {
        "colab": {
          "base_uri": "https://localhost:8080/",
          "height": 296
        },
        "id": "lb681NkFZWLz",
        "outputId": "53af6095-d840-48a8-dcb0-a38634b4d128"
      },
      "source": [
        "df_russia[\"count\"].plot()"
      ],
      "id": "lb681NkFZWLz",
      "execution_count": null,
      "outputs": [
        {
          "data": {
            "text/plain": [
              "<matplotlib.axes._subplots.AxesSubplot at 0x7fd3b04e2450>"
            ]
          },
          "execution_count": 216,
          "metadata": {},
          "output_type": "execute_result"
        },
        {
          "data": {
            "image/png": "[encoded data removed]",
            "text/plain": [
              "<Figure size 432x288 with 1 Axes>"
            ]
          },
          "metadata": {},
          "output_type": "display_data"
        }
      ]
    },
    {
      "cell_type": "code",
      "metadata": {
        "colab": {
          "base_uri": "https://localhost:8080/",
          "height": 296
        },
        "id": "sUJ4v3uqZChS",
        "outputId": "3ed91ea3-b743-442f-b3a6-283bd8761efa"
      },
      "source": [
        "diff_russia_smooth = count_russia_smooth.diff()\n",
        "diff_russia_smooth.plot()"
      ],
      "id": "sUJ4v3uqZChS",
      "execution_count": null,
      "outputs": [
        {
          "data": {
            "text/plain": [
              "<matplotlib.axes._subplots.AxesSubplot at 0x7fd3b0826c90>"
            ]
          },
          "execution_count": 213,
          "metadata": {},
          "output_type": "execute_result"
        },
        {
          "data": {
            "image/png": "[encoded data removed]",
            "text/plain": [
              "<Figure size 432x288 with 1 Axes>"
            ]
          },
          "metadata": {},
          "output_type": "display_data"
        }
      ]
    },
    {
      "cell_type": "code",
      "metadata": {
        "colab": {
          "base_uri": "https://localhost:8080/",
          "height": 285
        },
        "id": "jGXhMozWZZoK",
        "outputId": "10b2a878-6a09-4007-e307-316bb09ac7bb"
      },
      "source": [
        "df_russia[\"diff\"].plot()"
      ],
      "id": "jGXhMozWZZoK",
      "execution_count": null,
      "outputs": [
        {
          "data": {
            "text/plain": [
              "<matplotlib.axes._subplots.AxesSubplot at 0x7fd3b04ebb90>"
            ]
          },
          "execution_count": 217,
          "metadata": {},
          "output_type": "execute_result"
        },
        {
          "data": {
            "image/png": "[encoded data removed]",
            "text/plain": [
              "<Figure size 432x288 with 1 Axes>"
            ]
          },
          "metadata": {},
          "output_type": "display_data"
        }
      ]
    },
    {
      "cell_type": "code",
      "metadata": {
        "colab": {
          "base_uri": "https://localhost:8080/",
          "height": 296
        },
        "id": "pPXph0qOaCi5",
        "outputId": "15a4c0c8-82c5-4b04-b1d0-5cb655baf614"
      },
      "source": [
        "diff_diff_russia_smooth = diff_russia_smooth.diff()\n",
        "diff_diff_russia_smooth.plot()"
      ],
      "id": "pPXph0qOaCi5",
      "execution_count": null,
      "outputs": [
        {
          "data": {
            "text/plain": [
              "<matplotlib.axes._subplots.AxesSubplot at 0x7fd3b0323590>"
            ]
          },
          "execution_count": 222,
          "metadata": {},
          "output_type": "execute_result"
        },
        {
          "data": {
            "image/png": "[encoded data removed]",
            "text/plain": [
              "<Figure size 432x288 with 1 Axes>"
            ]
          },
          "metadata": {},
          "output_type": "display_data"
        }
      ]
    },
    {
      "cell_type": "code",
      "metadata": {
        "colab": {
          "base_uri": "https://localhost:8080/",
          "height": 285
        },
        "id": "wyF5wQrhaJF0",
        "outputId": "22d5e279-5a56-4bcf-99c7-420d85ecf05d"
      },
      "source": [
        "df_russia[\"diff_diff\"].plot()"
      ],
      "id": "wyF5wQrhaJF0",
      "execution_count": null,
      "outputs": [
        {
          "data": {
            "text/plain": [
              "<matplotlib.axes._subplots.AxesSubplot at 0x7fd3b00b0890>"
            ]
          },
          "execution_count": 223,
          "metadata": {},
          "output_type": "execute_result"
        },
        {
          "data": {
            "image/png": "[encoded data removed]",
            "text/plain": [
              "<Figure size 432x288 with 1 Axes>"
            ]
          },
          "metadata": {},
          "output_type": "display_data"
        }
      ]
    },
    {
      "cell_type": "code",
      "metadata": {
        "colab": {
          "base_uri": "https://localhost:8080/",
          "height": 307
        },
        "id": "Wh80_I85Zf6P",
        "outputId": "4f1f573b-e618-49e2-c220-a20058f4f0ab"
      },
      "source": [
        "count_israel_smooth = pd.DataFrame(smooth_ts(df_israel[\"count\"]), index=pd.date_range(\"2020-01-22\", \"2021-10-28\", freq=\"D\"))\n",
        "count_israel_smooth.plot()"
      ],
      "id": "Wh80_I85Zf6P",
      "execution_count": null,
      "outputs": [
        {
          "data": {
            "text/plain": [
              "<matplotlib.axes._subplots.AxesSubplot at 0x7fd3b044b750>"
            ]
          },
          "execution_count": 218,
          "metadata": {},
          "output_type": "execute_result"
        },
        {
          "data": {
            "image/png": "[encoded data removed]",
            "text/plain": [
              "<Figure size 432x288 with 1 Axes>"
            ]
          },
          "metadata": {},
          "output_type": "display_data"
        }
      ]
    },
    {
      "cell_type": "code",
      "metadata": {
        "colab": {
          "base_uri": "https://localhost:8080/",
          "height": 296
        },
        "id": "1XFPevnrZf6R",
        "outputId": "90d58127-f5e1-42de-fdd5-8812625c1602"
      },
      "source": [
        "df_israel[\"count\"].plot()"
      ],
      "id": "1XFPevnrZf6R",
      "execution_count": null,
      "outputs": [
        {
          "data": {
            "text/plain": [
              "<matplotlib.axes._subplots.AxesSubplot at 0x7fd3b0368a10>"
            ]
          },
          "execution_count": 219,
          "metadata": {},
          "output_type": "execute_result"
        },
        {
          "data": {
            "image/png": "[encoded data removed]",
            "text/plain": [
              "<Figure size 432x288 with 1 Axes>"
            ]
          },
          "metadata": {},
          "output_type": "display_data"
        }
      ]
    },
    {
      "cell_type": "code",
      "metadata": {
        "colab": {
          "base_uri": "https://localhost:8080/",
          "height": 296
        },
        "id": "YvTgBvn2Zf6R",
        "outputId": "a71014b3-fca5-4a7e-c4b8-cdff2b823949"
      },
      "source": [
        "diff_israel_smooth = count_israel_smooth.diff()\n",
        "diff_israel_smooth.plot()"
      ],
      "id": "YvTgBvn2Zf6R",
      "execution_count": null,
      "outputs": [
        {
          "data": {
            "text/plain": [
              "<matplotlib.axes._subplots.AxesSubplot at 0x7fd3b033db90>"
            ]
          },
          "execution_count": 220,
          "metadata": {},
          "output_type": "execute_result"
        },
        {
          "data": {
            "image/png": "[encoded data removed]",
            "text/plain": [
              "<Figure size 432x288 with 1 Axes>"
            ]
          },
          "metadata": {},
          "output_type": "display_data"
        }
      ]
    },
    {
      "cell_type": "code",
      "metadata": {
        "colab": {
          "base_uri": "https://localhost:8080/",
          "height": 285
        },
        "id": "JJiZx9-0Zf6S",
        "outputId": "6261b34f-9b19-4013-e9d0-f29c27199bb4"
      },
      "source": [
        "df_israel[\"diff\"].plot()"
      ],
      "id": "JJiZx9-0Zf6S",
      "execution_count": null,
      "outputs": [
        {
          "data": {
            "text/plain": [
              "<matplotlib.axes._subplots.AxesSubplot at 0x7fd3b0243b50>"
            ]
          },
          "execution_count": 221,
          "metadata": {},
          "output_type": "execute_result"
        },
        {
          "data": {
            "image/png": "[encoded data removed]",
            "text/plain": [
              "<Figure size 432x288 with 1 Axes>"
            ]
          },
          "metadata": {},
          "output_type": "display_data"
        }
      ]
    },
    {
      "cell_type": "code",
      "metadata": {
        "colab": {
          "base_uri": "https://localhost:8080/",
          "height": 296
        },
        "id": "Xw-AU_aAaUtV",
        "outputId": "9b97d8d9-3edb-4f3f-8d70-8ade6eb3a222"
      },
      "source": [
        "diff_diff_israel_smooth = diff_israel_smooth.diff()\n",
        "diff_diff_israel_smooth.plot()"
      ],
      "id": "Xw-AU_aAaUtV",
      "execution_count": null,
      "outputs": [
        {
          "data": {
            "text/plain": [
              "<matplotlib.axes._subplots.AxesSubplot at 0x7fd3b0090a90>"
            ]
          },
          "execution_count": 224,
          "metadata": {},
          "output_type": "execute_result"
        },
        {
          "data": {
            "image/png": "[encoded data removed]",
            "text/plain": [
              "<Figure size 432x288 with 1 Axes>"
            ]
          },
          "metadata": {},
          "output_type": "display_data"
        }
      ]
    },
    {
      "cell_type": "code",
      "metadata": {
        "colab": {
          "base_uri": "https://localhost:8080/",
          "height": 285
        },
        "id": "HVQj9BZ-aUtW",
        "outputId": "69fdd923-b729-4b87-ec48-0fb7529ea646"
      },
      "source": [
        "df_israel[\"diff_diff\"].plot()"
      ],
      "id": "HVQj9BZ-aUtW",
      "execution_count": null,
      "outputs": [
        {
          "data": {
            "text/plain": [
              "<matplotlib.axes._subplots.AxesSubplot at 0x7fd3aff77fd0>"
            ]
          },
          "execution_count": 225,
          "metadata": {},
          "output_type": "execute_result"
        },
        {
          "data": {
            "image/png": "[encoded data removed]",
            "text/plain": [
              "<Figure size 432x288 with 1 Axes>"
            ]
          },
          "metadata": {},
          "output_type": "display_data"
        }
      ]
    },
    {
      "cell_type": "markdown",
      "metadata": {
        "id": "F7l78bUbQCue"
      },
      "source": [
        "Сглаживание ряда позволяет подавить шум, что позволяет уменьшить временные колебания и наблюдать основную тенденцию"
      ],
      "id": "F7l78bUbQCue"
    },
    {
      "cell_type": "markdown",
      "metadata": {
        "id": "c049215c"
      },
      "source": [
        "Снова выберите распределения $\\mathsf{P}_0$ и $\\mathsf{P}_\\infty$, а также порог статистики, при котором объявляется разладка. В качестве распределений возьмите нормальные распределения с различным средним, но с одинаковой дисперсией. Подберите параметры на данных из Израиля, визуализируйте значения статистики."
      ],
      "id": "c049215c"
    },
    {
      "cell_type": "code",
      "metadata": {
        "id": "1wiOg2_dZ7eO"
      },
      "source": [
        "from scipy.stats import norm\n",
        "loc = diff_diff_israel_smooth.mean()\n",
        "scale = np.sqrt(diff_diff_israel_smooth.var())\n",
        "p_0 = norm.pdf(diff_diff_israel_smooth.to_numpy().tolist(), loc=2*loc, scale=scale)\n",
        "p_inf = norm.pdf(diff_diff_israel_smooth.to_numpy().tolist(), loc=loc, scale=scale)"
      ],
      "id": "1wiOg2_dZ7eO",
      "execution_count": null,
      "outputs": []
    },
    {
      "cell_type": "code",
      "metadata": {
        "id": "_NaPZfQZZ7eQ"
      },
      "source": [
        "n = diff_diff_israel_smooth.shape[0]\n",
        "cusum = np.zeros(n)\n",
        "for i in range(n):\n",
        "  cusum[i] = np.prod(p_0[2:i]/p_inf[2:i])\n",
        "cusum_israel_smooth = pd.DataFrame(cusum, index = diff_diff_israel_smooth.index)"
      ],
      "id": "_NaPZfQZZ7eQ",
      "execution_count": null,
      "outputs": []
    },
    {
      "cell_type": "code",
      "metadata": {
        "colab": {
          "base_uri": "https://localhost:8080/",
          "height": 296
        },
        "id": "NV0X6IPqZ7eR",
        "outputId": "5bc22bde-dc8d-4352-e463-4cc90af7c925"
      },
      "source": [
        "cusum_israel_smooth.plot()"
      ],
      "id": "NV0X6IPqZ7eR",
      "execution_count": null,
      "outputs": [
        {
          "data": {
            "text/plain": [
              "<matplotlib.axes._subplots.AxesSubplot at 0x7fd3afdfd510>"
            ]
          },
          "execution_count": 247,
          "metadata": {},
          "output_type": "execute_result"
        },
        {
          "data": {
            "image/png": "[encoded data removed]",
            "text/plain": [
              "<Figure size 432x288 with 1 Axes>"
            ]
          },
          "metadata": {},
          "output_type": "display_data"
        }
      ]
    },
    {
      "cell_type": "code",
      "metadata": {
        "colab": {
          "base_uri": "https://localhost:8080/",
          "height": 307
        },
        "id": "wre22X-VZ7eS",
        "outputId": "409653cf-b2f7-40d1-cf07-e1dd656e044d"
      },
      "source": [
        "count_israel_smooth.plot()"
      ],
      "id": "wre22X-VZ7eS",
      "execution_count": null,
      "outputs": [
        {
          "data": {
            "text/plain": [
              "<matplotlib.axes._subplots.AxesSubplot at 0x7fd3afd1bf10>"
            ]
          },
          "execution_count": 248,
          "metadata": {},
          "output_type": "execute_result"
        },
        {
          "data": {
            "image/png": "[encoded data removed]",
            "text/plain": [
              "<Figure size 432x288 with 1 Axes>"
            ]
          },
          "metadata": {},
          "output_type": "display_data"
        }
      ]
    },
    {
      "cell_type": "code",
      "metadata": {
        "id": "Wu3FCqkObYe3"
      },
      "source": [
        "from scipy.stats import norm\n",
        "loc = diff_diff_russia_smooth.mean()\n",
        "scale = np.sqrt(diff_diff_russia_smooth.var())\n",
        "p_0 = norm.pdf(diff_diff_russia_smooth.to_numpy().tolist(), loc=2*loc, scale=scale)\n",
        "p_inf = norm.pdf(diff_diff_russia_smooth.to_numpy().tolist(), loc=loc, scale=scale)"
      ],
      "id": "Wu3FCqkObYe3",
      "execution_count": null,
      "outputs": []
    },
    {
      "cell_type": "code",
      "metadata": {
        "id": "tPpC0l5bbYe4"
      },
      "source": [
        "n = cusum_russia_smooth.shape[0]\n",
        "cusum = np.zeros(n)\n",
        "for i in range(n):\n",
        "  cusum[i] = np.prod(p_0[2:i]/p_inf[2:i])\n",
        "cusum_russia_smooth = pd.DataFrame(cusum, index = diff_diff_russia_smooth.index)"
      ],
      "id": "tPpC0l5bbYe4",
      "execution_count": null,
      "outputs": []
    },
    {
      "cell_type": "code",
      "metadata": {
        "colab": {
          "base_uri": "https://localhost:8080/",
          "height": 296
        },
        "id": "-hChHsDCbYe5",
        "outputId": "4fa3d893-68df-4d03-f11a-d1ebaedc6a9b"
      },
      "source": [
        "cusum_russia_smooth.plot()"
      ],
      "id": "-hChHsDCbYe5",
      "execution_count": null,
      "outputs": [
        {
          "data": {
            "text/plain": [
              "<matplotlib.axes._subplots.AxesSubplot at 0x7fd3b0f39150>"
            ]
          },
          "execution_count": 256,
          "metadata": {},
          "output_type": "execute_result"
        },
        {
          "data": {
            "image/png": "[encoded data removed]",
            "text/plain": [
              "<Figure size 432x288 with 1 Axes>"
            ]
          },
          "metadata": {},
          "output_type": "display_data"
        }
      ]
    },
    {
      "cell_type": "code",
      "metadata": {
        "colab": {
          "base_uri": "https://localhost:8080/",
          "height": 307
        },
        "id": "128badf6",
        "outputId": "9a1bd974-ab6b-469b-d8c4-86e28d47dd85"
      },
      "source": [
        "count_russia_smooth.plot()"
      ],
      "id": "128badf6",
      "execution_count": null,
      "outputs": [
        {
          "data": {
            "text/plain": [
              "<matplotlib.axes._subplots.AxesSubplot at 0x7fd3b17c6d10>"
            ]
          },
          "execution_count": 258,
          "metadata": {},
          "output_type": "execute_result"
        },
        {
          "data": {
            "image/png": "[encoded data removed]",
            "text/plain": [
              "<Figure size 432x288 with 1 Axes>"
            ]
          },
          "metadata": {},
          "output_type": "display_data"
        }
      ]
    },
    {
      "cell_type": "markdown",
      "metadata": {
        "id": "c5df0764"
      },
      "source": [
        "Сравните полученные методы определения разладки с методом определения по дисперсии."
      ],
      "id": "c5df0764"
    },
    {
      "cell_type": "markdown",
      "metadata": {
        "id": "0a647cfb"
      },
      "source": [
        "**Вывод:**"
      ],
      "id": "0a647cfb"
    },
    {
      "cell_type": "markdown",
      "metadata": {
        "id": "2pbDH_FTRTji"
      },
      "source": [
        "Полученные методы позволяют уменьшить задержку обнаружения разладки по сравнению с методами оперделения по дисперсии. Также изменение дисперсии может быть вызвано внешними факторами, что приведет к ложному детектированию разладки"
      ],
      "id": "2pbDH_FTRTji"
    },
    {
      "cell_type": "markdown",
      "metadata": {
        "id": "aae2d3b4"
      },
      "source": [
        "Проведите аналогичное исследование со статистикой Ширяева-Робертса."
      ],
      "id": "aae2d3b4"
    },
    {
      "cell_type": "code",
      "metadata": {
        "id": "iM1g4otQe1Ht"
      },
      "source": [
        ""
      ],
      "id": "iM1g4otQe1Ht",
      "execution_count": null,
      "outputs": []
    },
    {
      "cell_type": "code",
      "metadata": {
        "id": "ZL9wPz3QfC-V"
      },
      "source": [
        "from scipy.stats import norm\n",
        "loc = df_israel[\"diff_diff\"].mean()\n",
        "scale = np.sqrt(df_israel[\"diff_diff\"].var())\n",
        "p_0 = norm.pdf(df_israel[\"diff_diff\"].to_numpy().tolist(), loc=2*loc, scale=scale)\n",
        "p_inf = norm.pdf(df_israel[\"diff_diff\"].to_numpy().tolist(), loc=loc, scale=scale)"
      ],
      "id": "ZL9wPz3QfC-V",
      "execution_count": null,
      "outputs": []
    },
    {
      "cell_type": "code",
      "metadata": {
        "id": "rJjjyFr1fC-X"
      },
      "source": [
        "n = df_israel[\"diff_diff\"].shape[0]\n",
        "sh_rob = np.zeros(n)\n",
        "for i in range(n):\n",
        "  sh_rob[i] = 0\n",
        "  for theta in range(n):\n",
        "    sh_rob[i] += np.prod(p_0[theta:i]/p_inf[theta:i])\n",
        "df_israel[\"sh_rob\"] = sh_rob"
      ],
      "id": "rJjjyFr1fC-X",
      "execution_count": null,
      "outputs": []
    },
    {
      "cell_type": "code",
      "metadata": {
        "id": "vossToWrfC-Y"
      },
      "source": [
        "df_israel[\"threashold\"] = 652.3"
      ],
      "id": "vossToWrfC-Y",
      "execution_count": null,
      "outputs": []
    },
    {
      "cell_type": "code",
      "metadata": {
        "colab": {
          "base_uri": "https://localhost:8080/",
          "height": 285
        },
        "id": "qNjqJyMCfC-Y",
        "outputId": "a8f1f642-f652-419a-9076-cd6d58ab8566"
      },
      "source": [
        "df_israel[\"sh_rob\"].plot()\n",
        "df_israel[\"threashold\"].plot()"
      ],
      "id": "qNjqJyMCfC-Y",
      "execution_count": null,
      "outputs": [
        {
          "data": {
            "text/plain": [
              "<matplotlib.axes._subplots.AxesSubplot at 0x7fd3af7a7b10>"
            ]
          },
          "execution_count": 270,
          "metadata": {},
          "output_type": "execute_result"
        },
        {
          "data": {
            "image/png": "[encoded data removed]",
            "text/plain": [
              "<Figure size 432x288 with 1 Axes>"
            ]
          },
          "metadata": {},
          "output_type": "display_data"
        }
      ]
    },
    {
      "cell_type": "code",
      "metadata": {
        "colab": {
          "base_uri": "https://localhost:8080/",
          "height": 296
        },
        "id": "RPY-vUg7fC-Y",
        "outputId": "88961b72-0b30-4bda-ddec-1e96caf32cb3"
      },
      "source": [
        "df_israel[\"count\"].plot()"
      ],
      "id": "RPY-vUg7fC-Y",
      "execution_count": null,
      "outputs": [
        {
          "data": {
            "text/plain": [
              "<matplotlib.axes._subplots.AxesSubplot at 0x7fd3af7a9e10>"
            ]
          },
          "execution_count": 271,
          "metadata": {},
          "output_type": "execute_result"
        },
        {
          "data": {
            "image/png": "[encoded data removed]",
            "text/plain": [
              "<Figure size 432x288 with 1 Axes>"
            ]
          },
          "metadata": {},
          "output_type": "display_data"
        }
      ]
    },
    {
      "cell_type": "code",
      "metadata": {
        "id": "HhsU-bScf1nJ"
      },
      "source": [
        "from scipy.stats import norm\n",
        "loc = df_russia[\"diff_diff\"].mean()\n",
        "scale = np.sqrt(df_russia[\"diff_diff\"].var())\n",
        "p_0 = norm.pdf(df_russia[\"diff_diff\"].to_numpy().tolist(), loc=2*loc, scale=scale)\n",
        "p_inf = norm.pdf(df_russia[\"diff_diff\"].to_numpy().tolist(), loc=loc, scale=scale)"
      ],
      "id": "HhsU-bScf1nJ",
      "execution_count": null,
      "outputs": []
    },
    {
      "cell_type": "code",
      "metadata": {
        "id": "v1-xjLGof1nK"
      },
      "source": [
        "n = df_russia[\"diff_diff\"].shape[0]\n",
        "sh_rob = np.zeros(n)\n",
        "for i in range(n):\n",
        "  sh_rob[i] = 0\n",
        "  for theta in range(n):\n",
        "    sh_rob[i] += np.prod(p_0[theta:i]/p_inf[theta:i])\n",
        "df_russia[\"sh_rob\"] = sh_rob"
      ],
      "id": "v1-xjLGof1nK",
      "execution_count": null,
      "outputs": []
    },
    {
      "cell_type": "code",
      "metadata": {
        "id": "7lkJ-PFJf1nK"
      },
      "source": [
        "df_russia[\"threashold\"] = 500"
      ],
      "id": "7lkJ-PFJf1nK",
      "execution_count": null,
      "outputs": []
    },
    {
      "cell_type": "code",
      "metadata": {
        "colab": {
          "base_uri": "https://localhost:8080/",
          "height": 285
        },
        "id": "k8-4IM-hf1nL",
        "outputId": "c4f6a474-c3cb-4698-912e-7a9e5ce1b19e"
      },
      "source": [
        "df_russia[\"sh_rob\"].plot()\n",
        "df_russia[\"threashold\"].plot()"
      ],
      "id": "k8-4IM-hf1nL",
      "execution_count": null,
      "outputs": [
        {
          "data": {
            "text/plain": [
              "<matplotlib.axes._subplots.AxesSubplot at 0x7fd3af62dc90>"
            ]
          },
          "execution_count": 276,
          "metadata": {},
          "output_type": "execute_result"
        },
        {
          "data": {
            "image/png": "[encoded data removed]",
            "text/plain": [
              "<Figure size 432x288 with 1 Axes>"
            ]
          },
          "metadata": {},
          "output_type": "display_data"
        }
      ]
    },
    {
      "cell_type": "code",
      "metadata": {
        "colab": {
          "base_uri": "https://localhost:8080/",
          "height": 296
        },
        "id": "qkcRnUoaf1nL",
        "outputId": "c164e92e-1f1a-4d5d-f17f-64df6afba96a"
      },
      "source": [
        "df_russia[\"count\"].plot()"
      ],
      "id": "qkcRnUoaf1nL",
      "execution_count": null,
      "outputs": [
        {
          "data": {
            "text/plain": [
              "<matplotlib.axes._subplots.AxesSubplot at 0x7fd3af63a190>"
            ]
          },
          "execution_count": 277,
          "metadata": {},
          "output_type": "execute_result"
        },
        {
          "data": {
            "image/png": "[encoded data removed]",
            "text/plain": [
              "<Figure size 432x288 with 1 Axes>"
            ]
          },
          "metadata": {},
          "output_type": "display_data"
        }
      ]
    },
    {
      "cell_type": "markdown",
      "metadata": {
        "id": "38d71b66"
      },
      "source": [
        "### Задача 3\n",
        "\n",
        "С учётом полученных знаний по нейронным сетям, доделайте нейросетевую часть ДЗ1"
      ],
      "id": "38d71b66"
    }
  ]
}